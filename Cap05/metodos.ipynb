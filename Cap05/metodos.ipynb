{
 "cells": [
  {
   "cell_type": "markdown",
   "metadata": {},
   "source": [
    "## Métodos"
   ]
  },
  {
   "cell_type": "markdown",
   "metadata": {},
   "source": [
    "## Métodos são utilizados para realizar operações com atributos de nossos objetos"
   ]
  },
  {
   "cell_type": "code",
   "execution_count": 4,
   "metadata": {},
   "outputs": [],
   "source": [
    "# definindo uma classe\n",
    "class Circulo():\n",
    "    \n",
    "    # o valor de P.I é constante\n",
    "    pi = 3.14\n",
    "    \n",
    "    # métodos\n",
    "    def __init__(self, raio = 5):\n",
    "        '''\n",
    "            metodo construtor\n",
    "            atribuido 5 em raio por padrão\n",
    "            passando um valor no atributo \n",
    "            ele vai sobreescrever\n",
    "        '''\n",
    "        self.raio = raio\n",
    "    \n",
    "    def area(self):\n",
    "        '''\n",
    "            calcula a área este método\n",
    "            utiliza o mesmo atributo do objeto\n",
    "        '''\n",
    "        return (self.raio * self.raio) * Circulo.pi\n",
    "    \n",
    "    def novo_raio(self, novo_raio):\n",
    "        '''\n",
    "            metodo que vai gerar um novo raio\n",
    "        '''\n",
    "        self.raio = novo_raio\n",
    "        \n",
    "    def getRaio(self):\n",
    "        '''\n",
    "            metodo para obter\n",
    "            o raio do circulo\n",
    "        '''\n",
    "        return self.raio"
   ]
  },
  {
   "cell_type": "code",
   "execution_count": 5,
   "metadata": {},
   "outputs": [],
   "source": [
    "# criando uma instância da classe Circulo\n",
    "circ = Circulo()"
   ]
  },
  {
   "cell_type": "code",
   "execution_count": 7,
   "metadata": {},
   "outputs": [
    {
     "name": "stdout",
     "output_type": "stream",
     "text": [
      "5\n"
     ]
    }
   ],
   "source": [
    "# executando um metodo da classe Circulo\n",
    "print(circ.getRaio())"
   ]
  },
  {
   "cell_type": "code",
   "execution_count": 9,
   "metadata": {},
   "outputs": [
    {
     "name": "stdout",
     "output_type": "stream",
     "text": [
      "O calculo do raio é 5\n"
     ]
    }
   ],
   "source": [
    "# executando um médoto da classe Circulo\n",
    "print(f'O calculo do raio é {circ.getRaio()}')"
   ]
  },
  {
   "cell_type": "code",
   "execution_count": 12,
   "metadata": {},
   "outputs": [],
   "source": [
    "# passando um parametro para atributo raio, para sobreescrever o default\n",
    "circ1 = Circulo(7)"
   ]
  },
  {
   "cell_type": "code",
   "execution_count": 13,
   "metadata": {},
   "outputs": [
    {
     "name": "stdout",
     "output_type": "stream",
     "text": [
      "O raio do circ1 é 7\n"
     ]
    }
   ],
   "source": [
    "# executando o método do objeto circ1\n",
    "print(f'O raio do circ1 é {circ1.getRaio()}')"
   ]
  },
  {
   "cell_type": "code",
   "execution_count": 15,
   "metadata": {},
   "outputs": [
    {
     "name": "stdout",
     "output_type": "stream",
     "text": [
      "A área do 7 é 153.86\n"
     ]
    }
   ],
   "source": [
    "# executando o método área\n",
    "print(f'A área do {circ1.getRaio()} é {circ1.area()}')"
   ]
  },
  {
   "cell_type": "markdown",
   "metadata": {},
   "source": [
    "## Fim"
   ]
  }
 ],
 "metadata": {
  "kernelspec": {
   "display_name": "Python 3",
   "language": "python",
   "name": "python3"
  },
  "language_info": {
   "codemirror_mode": {
    "name": "ipython",
    "version": 3
   },
   "file_extension": ".py",
   "mimetype": "text/x-python",
   "name": "python",
   "nbconvert_exporter": "python",
   "pygments_lexer": "ipython3",
   "version": "3.7.4"
  }
 },
 "nbformat": 4,
 "nbformat_minor": 2
}
