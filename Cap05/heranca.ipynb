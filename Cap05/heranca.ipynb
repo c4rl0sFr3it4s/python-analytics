{
 "cells": [
  {
   "cell_type": "markdown",
   "metadata": {},
   "source": [
    "## Herança"
   ]
  },
  {
   "cell_type": "code",
   "execution_count": 2,
   "metadata": {},
   "outputs": [],
   "source": [
    "# cirando a classe animal\n",
    "class Animal():\n",
    "    def __init__(self):\n",
    "        print('Animal criado!')\n",
    "        \n",
    "    def identf(self):\n",
    "        print('Animal! ')\n",
    "    \n",
    "    def comer(self):\n",
    "        print('Comer! ')\n",
    "        "
   ]
  },
  {
   "cell_type": "code",
   "execution_count": 3,
   "metadata": {},
   "outputs": [],
   "source": [
    "# criando uma sub-classe cachorro que herda animal\n",
    "class Cachorro(Animal):\n",
    "    \n",
    "    def __init__(self):\n",
    "        Animal.__init__(self) # chamando o construtor Super Animal\n",
    "        print('Objeto cachorro criado! ')\n",
    "        \n",
    "    def identf(self):\n",
    "        print('Cachorro! ')\n",
    "        \n",
    "    def latir(self):\n",
    "        print('Au, Au, Au')"
   ]
  },
  {
   "cell_type": "code",
   "execution_count": 4,
   "metadata": {},
   "outputs": [
    {
     "name": "stdout",
     "output_type": "stream",
     "text": [
      "Animal criado!\n",
      "Objeto cachorro criado! \n"
     ]
    }
   ],
   "source": [
    "# instância de Cachorro\n",
    "rex = Cachorro()"
   ]
  },
  {
   "cell_type": "code",
   "execution_count": 5,
   "metadata": {},
   "outputs": [
    {
     "name": "stdout",
     "output_type": "stream",
     "text": [
      "Cachorro! \n",
      "None\n"
     ]
    }
   ],
   "source": [
    "# chamando o método identf da Sub-class\n",
    "print(rex.identf())"
   ]
  },
  {
   "cell_type": "code",
   "execution_count": 6,
   "metadata": {},
   "outputs": [
    {
     "name": "stdout",
     "output_type": "stream",
     "text": [
      "Comer! \n",
      "None\n"
     ]
    }
   ],
   "source": [
    "# utilizando a herança na sub-class\n",
    "print(rex.comer())"
   ]
  },
  {
   "cell_type": "code",
   "execution_count": 7,
   "metadata": {},
   "outputs": [
    {
     "name": "stdout",
     "output_type": "stream",
     "text": [
      "Au, Au, Au\n",
      "None\n"
     ]
    }
   ],
   "source": [
    "# utilizando o método da sub-class\n",
    "print(rex.latir())"
   ]
  },
  {
   "cell_type": "markdown",
   "metadata": {},
   "source": [
    "## Fim"
   ]
  }
 ],
 "metadata": {
  "kernelspec": {
   "display_name": "Python 3",
   "language": "python",
   "name": "python3"
  },
  "language_info": {
   "codemirror_mode": {
    "name": "ipython",
    "version": 3
   },
   "file_extension": ".py",
   "mimetype": "text/x-python",
   "name": "python",
   "nbconvert_exporter": "python",
   "pygments_lexer": "ipython3",
   "version": "3.7.4"
  }
 },
 "nbformat": 4,
 "nbformat_minor": 2
}
