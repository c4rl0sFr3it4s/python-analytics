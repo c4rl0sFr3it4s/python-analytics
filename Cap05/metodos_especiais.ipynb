{
 "cells": [
  {
   "cell_type": "markdown",
   "metadata": {},
   "source": [
    "## Métodos especiais"
   ]
  },
  {
   "cell_type": "code",
   "execution_count": 29,
   "metadata": {},
   "outputs": [],
   "source": [
    "'''\n",
    "podemos colocar métodos especiais em \n",
    "python para ter a mesma caracteristica \n",
    "de um objeto em python\n",
    "'''\n",
    "# class Livro\n",
    "class Livro():\n",
    "    \n",
    "    def __init__(self, titulo, autor, paginas):\n",
    "        print('Livro criado.')\n",
    "        self.titulo = titulo\n",
    "        self.autor = autor\n",
    "        self.paginas = paginas\n",
    "        \n",
    "    def __str__(self): # método explicito\n",
    "        return 'Título: %s, Autor: %s, Página: %s' \\\n",
    "        %(self.titulo, self.autor, self.paginas)\n",
    "    \n",
    "    def __len__(self):\n",
    "        return self.paginas\n",
    "        \n",
    "    def len(self):\n",
    "        return print('Página do livro com método comuns: ', self.paginas)\n",
    "    "
   ]
  },
  {
   "cell_type": "code",
   "execution_count": 24,
   "metadata": {},
   "outputs": [
    {
     "name": "stdout",
     "output_type": "stream",
     "text": [
      "Livro criado.\n"
     ]
    }
   ],
   "source": [
    "livro1 = Livro('Os lusiadas', 'Luis de Camões', 8816)"
   ]
  },
  {
   "cell_type": "code",
   "execution_count": 25,
   "metadata": {},
   "outputs": [
    {
     "name": "stdout",
     "output_type": "stream",
     "text": [
      "Título: Os lusiadas, Autor: Luis de Camões, Página: 8816\n"
     ]
    }
   ],
   "source": [
    "# metodos especia junto com a função print o método especial __str__ é chamado\n",
    "print(livro1)"
   ]
  },
  {
   "cell_type": "code",
   "execution_count": 26,
   "metadata": {},
   "outputs": [
    {
     "name": "stdout",
     "output_type": "stream",
     "text": [
      "Título: Os lusiadas, Autor: Luis de Camões, Página: 8816\n"
     ]
    }
   ],
   "source": [
    "# método especial passando como parametro o objeto\n",
    "print(str(livro1))"
   ]
  },
  {
   "cell_type": "code",
   "execution_count": 28,
   "metadata": {},
   "outputs": [
    {
     "name": "stdout",
     "output_type": "stream",
     "text": [
      "8816\n"
     ]
    }
   ],
   "source": [
    "# método especial len passando como parametro o objeto\n",
    "print(len(livro1))"
   ]
  },
  {
   "cell_type": "code",
   "execution_count": 30,
   "metadata": {},
   "outputs": [
    {
     "name": "stdout",
     "output_type": "stream",
     "text": [
      "Página do livro com método comuns:  8816\n",
      "None\n"
     ]
    }
   ],
   "source": [
    "# métodos comuns\n",
    "print(livro1.len())"
   ]
  },
  {
   "cell_type": "code",
   "execution_count": 31,
   "metadata": {},
   "outputs": [],
   "source": [
    "# Ao executar a função del para remover um atributo, o python executa\n",
    "# livro1 __delttr__('páginas')\n",
    "del livro1.paginas"
   ]
  },
  {
   "cell_type": "code",
   "execution_count": 32,
   "metadata": {},
   "outputs": [
    {
     "name": "stdout",
     "output_type": "stream",
     "text": [
      "False\n"
     ]
    }
   ],
   "source": [
    "# verificando se existe um atributo\n",
    "print(hasattr(livro1, 'paginas'))"
   ]
  },
  {
   "cell_type": "markdown",
   "metadata": {},
   "source": [
    "## Fim"
   ]
  }
 ],
 "metadata": {
  "kernelspec": {
   "display_name": "Python 3",
   "language": "python",
   "name": "python3"
  },
  "language_info": {
   "codemirror_mode": {
    "name": "ipython",
    "version": 3
   },
   "file_extension": ".py",
   "mimetype": "text/x-python",
   "name": "python",
   "nbconvert_exporter": "python",
   "pygments_lexer": "ipython3",
   "version": "3.7.4"
  }
 },
 "nbformat": 4,
 "nbformat_minor": 2
}
