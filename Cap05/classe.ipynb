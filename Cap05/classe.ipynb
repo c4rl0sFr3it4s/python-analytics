{
 "cells": [
  {
   "cell_type": "markdown",
   "metadata": {},
   "source": [
    "## Classes<br>Para criar uma classe usamos a palavra reservada class<br>O nome de sua classe segue a mesma convenção de nomes para a criação de funções e variáveis.<br>mas normalmente se usa a primeira letra maiúscula em cada palavra no nome da classe."
   ]
  },
  {
   "cell_type": "code",
   "execution_count": 7,
   "metadata": {},
   "outputs": [],
   "source": [
    "# criando uma classe chamado livro\n",
    "class Livro():\n",
    "    # este método vai inicializar cada objeto criado apartir desta classe\n",
    "    # o nome deste método é __init__\n",
    "    # (self) é uma referência a cada atributos de um objeto criado a partir desta classe\n",
    "    def __init__(self):\n",
    "        # atributos de cada objeto criados apartir desta classe\n",
    "        # o self indica que estes são atributos do objeto\n",
    "        self.titulo = 'O monge e o executivo. '\n",
    "        self.isbn = 9988888\n",
    "        print('Construtor criado para chamar um método desta classe. ')\n",
    "            \n",
    "    # metodos são funções que recebem como parâmetro atributos do objeto criada\n",
    "    def imprime(self):  \n",
    "        print('Foi criado o livro %s e ISBN %d' %(self.titulo, self.isbn))"
   ]
  },
  {
   "cell_type": "code",
   "execution_count": 9,
   "metadata": {},
   "outputs": [
    {
     "name": "stdout",
     "output_type": "stream",
     "text": [
      "Construtor criado para chamar um método desta classe. \n"
     ]
    }
   ],
   "source": [
    "# criando uma instancia de uma classe\n",
    "livro = Livro()"
   ]
  },
  {
   "cell_type": "code",
   "execution_count": 10,
   "metadata": {},
   "outputs": [
    {
     "data": {
      "text/plain": [
       "__main__.Livro"
      ]
     },
     "execution_count": 10,
     "metadata": {},
     "output_type": "execute_result"
    }
   ],
   "source": [
    "# tipo do objeto\n",
    "type(livro)"
   ]
  },
  {
   "cell_type": "code",
   "execution_count": 11,
   "metadata": {},
   "outputs": [
    {
     "name": "stdout",
     "output_type": "stream",
     "text": [
      "O monge e o executivo. \n"
     ]
    }
   ],
   "source": [
    "# chamando atributo da classe Livro, não precisa utilizar parênteses\n",
    "print(livro.titulo)"
   ]
  },
  {
   "cell_type": "code",
   "execution_count": 13,
   "metadata": {},
   "outputs": [
    {
     "name": "stdout",
     "output_type": "stream",
     "text": [
      "9988888\n"
     ]
    }
   ],
   "source": [
    "# chamando atributo da classe\n",
    "print(livro.isbn)"
   ]
  },
  {
   "cell_type": "code",
   "execution_count": 14,
   "metadata": {},
   "outputs": [
    {
     "name": "stdout",
     "output_type": "stream",
     "text": [
      "Foi criado o livro O monge e o executivo.  e ISBN 9988888\n",
      "None\n"
     ]
    }
   ],
   "source": [
    "# chamando metodo da classe\n",
    "print(livro.imprime())"
   ]
  },
  {
   "cell_type": "code",
   "execution_count": 78,
   "metadata": {},
   "outputs": [],
   "source": [
    "# criando a classe livro passando parâmetro no método construtor\n",
    "class Livro():\n",
    "    def __init__(self, titulo, isbn):\n",
    "        self.titulo = titulo\n",
    "        self.isbn = isbn\n",
    "        print('Construtor criado para chamar o método desta classe.')\n",
    "        \n",
    "    def imprime(self, titulo, isbn):\n",
    "        print('Foi criado o livro %s e ISBN %d' %(titulo, isbn))"
   ]
  },
  {
   "cell_type": "code",
   "execution_count": 79,
   "metadata": {},
   "outputs": [
    {
     "name": "stdout",
     "output_type": "stream",
     "text": [
      "Construtor criado para chamar o método desta classe.\n"
     ]
    }
   ],
   "source": [
    "# passando parametros para o construtor\n",
    "livro1 = Livro('O monge e o executivo.', 9988888)"
   ]
  },
  {
   "cell_type": "code",
   "execution_count": 80,
   "metadata": {},
   "outputs": [
    {
     "name": "stdout",
     "output_type": "stream",
     "text": [
      "O monge e o executivo.\n"
     ]
    }
   ],
   "source": [
    "# imprimindo os atributos\n",
    "print(livro1.titulo)"
   ]
  },
  {
   "cell_type": "code",
   "execution_count": 81,
   "metadata": {},
   "outputs": [
    {
     "name": "stdout",
     "output_type": "stream",
     "text": [
      "9988888\n"
     ]
    }
   ],
   "source": [
    "# imprimindo parametros para o construtor\n",
    "print(livro1.isbn)"
   ]
  },
  {
   "cell_type": "code",
   "execution_count": 82,
   "metadata": {},
   "outputs": [
    {
     "name": "stdout",
     "output_type": "stream",
     "text": [
      "Foi criado o livro A menina que roubava livros e ISBN 77886611\n",
      "None\n"
     ]
    }
   ],
   "source": [
    "# está chamada ao método 2 passando argumentos\n",
    "print(livro1.imprime('A menina que roubava livros', 77886611))"
   ]
  },
  {
   "cell_type": "code",
   "execution_count": 85,
   "metadata": {},
   "outputs": [],
   "source": [
    "# criando uma classe cachorro\n",
    "class Cachorro():\n",
    "    def __init__(self, raca):\n",
    "        self.raca = raca\n",
    "        print('Construtor chamado para criar um objeto desta classe.')"
   ]
  },
  {
   "cell_type": "code",
   "execution_count": 92,
   "metadata": {},
   "outputs": [
    {
     "name": "stdout",
     "output_type": "stream",
     "text": [
      "Construtor chamado para criar um objeto desta classe.\n",
      "Construtor chamado para criar um objeto desta classe.\n"
     ]
    }
   ],
   "source": [
    "# instanciando um objeto\n",
    "rex = Cachorro(raca = 'Pastor Alemão. ')\n",
    "golias = Cachorro(raca = 'Doberma')"
   ]
  },
  {
   "cell_type": "code",
   "execution_count": 93,
   "metadata": {},
   "outputs": [
    {
     "name": "stdout",
     "output_type": "stream",
     "text": [
      "Pastor Alemão. \n",
      "Doberma\n"
     ]
    }
   ],
   "source": [
    "print(rex.raca)\n",
    "print(golias.raca)"
   ]
  },
  {
   "cell_type": "markdown",
   "metadata": {},
   "source": [
    "## Fim"
   ]
  }
 ],
 "metadata": {
  "kernelspec": {
   "display_name": "Python 3",
   "language": "python",
   "name": "python3"
  },
  "language_info": {
   "codemirror_mode": {
    "name": "ipython",
    "version": 3
   },
   "file_extension": ".py",
   "mimetype": "text/x-python",
   "name": "python",
   "nbconvert_exporter": "python",
   "pygments_lexer": "ipython3",
   "version": "3.7.4"
  }
 },
 "nbformat": 4,
 "nbformat_minor": 2
}
