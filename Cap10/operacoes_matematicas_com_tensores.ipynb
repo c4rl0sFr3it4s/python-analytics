{
 "cells": [
  {
   "cell_type": "markdown",
   "metadata": {},
   "source": [
    "## Operações matemáticas com Tensores"
   ]
  },
  {
   "cell_type": "code",
   "execution_count": 1,
   "metadata": {},
   "outputs": [
    {
     "name": "stdout",
     "output_type": "stream",
     "text": [
      "Requirement already satisfied: tensorflow==1.15 in /home/carlos-freitas/anaconda3/lib/python3.7/site-packages (1.15.0)\n",
      "Requirement already satisfied: protobuf>=3.6.1 in /home/carlos-freitas/anaconda3/lib/python3.7/site-packages (from tensorflow==1.15) (3.11.3)\n",
      "Requirement already satisfied: tensorflow-estimator==1.15.1 in /home/carlos-freitas/anaconda3/lib/python3.7/site-packages (from tensorflow==1.15) (1.15.1)\n",
      "Requirement already satisfied: astor>=0.6.0 in /home/carlos-freitas/anaconda3/lib/python3.7/site-packages (from tensorflow==1.15) (0.8.1)\n",
      "Requirement already satisfied: keras-preprocessing>=1.0.5 in /home/carlos-freitas/anaconda3/lib/python3.7/site-packages (from tensorflow==1.15) (1.1.0)\n",
      "Requirement already satisfied: opt-einsum>=2.3.2 in /home/carlos-freitas/anaconda3/lib/python3.7/site-packages (from tensorflow==1.15) (3.2.0)\n",
      "Requirement already satisfied: grpcio>=1.8.6 in /home/carlos-freitas/anaconda3/lib/python3.7/site-packages (from tensorflow==1.15) (1.27.2)\n",
      "Requirement already satisfied: absl-py>=0.7.0 in /home/carlos-freitas/anaconda3/lib/python3.7/site-packages (from tensorflow==1.15) (0.9.0)\n",
      "Requirement already satisfied: wheel>=0.26 in /home/carlos-freitas/anaconda3/lib/python3.7/site-packages (from tensorflow==1.15) (0.34.2)\n",
      "Requirement already satisfied: numpy<2.0,>=1.16.0 in /home/carlos-freitas/anaconda3/lib/python3.7/site-packages (from tensorflow==1.15) (1.18.1)\n",
      "Requirement already satisfied: termcolor>=1.1.0 in /home/carlos-freitas/anaconda3/lib/python3.7/site-packages (from tensorflow==1.15) (1.1.0)\n",
      "Requirement already satisfied: six>=1.10.0 in /home/carlos-freitas/anaconda3/lib/python3.7/site-packages (from tensorflow==1.15) (1.14.0)\n",
      "Requirement already satisfied: gast==0.2.2 in /home/carlos-freitas/anaconda3/lib/python3.7/site-packages (from tensorflow==1.15) (0.2.2)\n",
      "Requirement already satisfied: tensorboard<1.16.0,>=1.15.0 in /home/carlos-freitas/anaconda3/lib/python3.7/site-packages (from tensorflow==1.15) (1.15.0)\n",
      "Requirement already satisfied: google-pasta>=0.1.6 in /home/carlos-freitas/anaconda3/lib/python3.7/site-packages (from tensorflow==1.15) (0.2.0)\n",
      "Requirement already satisfied: keras-applications>=1.0.8 in /home/carlos-freitas/anaconda3/lib/python3.7/site-packages (from tensorflow==1.15) (1.0.8)\n",
      "Requirement already satisfied: wrapt>=1.11.1 in /home/carlos-freitas/anaconda3/lib/python3.7/site-packages (from tensorflow==1.15) (1.11.2)\n",
      "Requirement already satisfied: setuptools in /home/carlos-freitas/anaconda3/lib/python3.7/site-packages (from protobuf>=3.6.1->tensorflow==1.15) (45.2.0.post20200210)\n",
      "Requirement already satisfied: werkzeug>=0.11.15 in /home/carlos-freitas/anaconda3/lib/python3.7/site-packages (from tensorboard<1.16.0,>=1.15.0->tensorflow==1.15) (1.0.0)\n",
      "Requirement already satisfied: markdown>=2.6.8 in /home/carlos-freitas/anaconda3/lib/python3.7/site-packages (from tensorboard<1.16.0,>=1.15.0->tensorflow==1.15) (3.2.1)\n",
      "Requirement already satisfied: h5py in /home/carlos-freitas/anaconda3/lib/python3.7/site-packages (from keras-applications>=1.0.8->tensorflow==1.15) (2.10.0)\n"
     ]
    }
   ],
   "source": [
    "# escolhendo o tipo do pacote a ser instalado\n",
    "!pip install tensorflow==1.15"
   ]
  },
  {
   "cell_type": "code",
   "execution_count": 2,
   "metadata": {},
   "outputs": [],
   "source": [
    "# importando pacote\n",
    "import tensorflow as tf"
   ]
  },
  {
   "cell_type": "code",
   "execution_count": 3,
   "metadata": {},
   "outputs": [
    {
     "data": {
      "text/plain": [
       "'1.15.0'"
      ]
     },
     "execution_count": 3,
     "metadata": {},
     "output_type": "execute_result"
    }
   ],
   "source": [
    "# versão\n",
    "tf.__version__"
   ]
  },
  {
   "cell_type": "markdown",
   "metadata": {},
   "source": [
    "## Hello word!"
   ]
  },
  {
   "cell_type": "code",
   "execution_count": 4,
   "metadata": {},
   "outputs": [],
   "source": [
    "# criar um tensor\n",
    "# esse tensor é adicionado como um nó ao grafo\n",
    "hello = tf.constant('Hello, TensorFlow')"
   ]
  },
  {
   "cell_type": "code",
   "execution_count": 5,
   "metadata": {},
   "outputs": [
    {
     "name": "stdout",
     "output_type": "stream",
     "text": [
      "Tensor(\"Const:0\", shape=(), dtype=string)\n"
     ]
    }
   ],
   "source": [
    "# imprimindo o tensor\n",
    "# shape(), é um scalar\n",
    "print(hello)"
   ]
  },
  {
   "cell_type": "code",
   "execution_count": 6,
   "metadata": {},
   "outputs": [],
   "source": [
    "# abrir uma sessão tensorflow\n",
    "sess = tf.Session()"
   ]
  },
  {
   "cell_type": "code",
   "execution_count": 7,
   "metadata": {},
   "outputs": [
    {
     "name": "stdout",
     "output_type": "stream",
     "text": [
      "<tensorflow.python.client.session.Session object at 0x7fa56f4e1890>\n"
     ]
    }
   ],
   "source": [
    "# imprimindo a sessão\n",
    "print(sess)"
   ]
  },
  {
   "cell_type": "code",
   "execution_count": 8,
   "metadata": {},
   "outputs": [
    {
     "name": "stdout",
     "output_type": "stream",
     "text": [
      "b'Hello, TensorFlow'\n"
     ]
    }
   ],
   "source": [
    "# executando o grafo computacional\n",
    "# da sessão\n",
    "print(sess.run(hello))"
   ]
  },
  {
   "cell_type": "markdown",
   "metadata": {},
   "source": [
    "## Soma"
   ]
  },
  {
   "cell_type": "code",
   "execution_count": 9,
   "metadata": {},
   "outputs": [],
   "source": [
    "# constantes\n",
    "const_a = tf.constant(5)\n",
    "const_b = tf.constant(9)"
   ]
  },
  {
   "cell_type": "code",
   "execution_count": 10,
   "metadata": {},
   "outputs": [
    {
     "name": "stdout",
     "output_type": "stream",
     "text": [
      "Tensor(\"Const_1:0\", shape=(), dtype=int32)\n"
     ]
    }
   ],
   "source": [
    "# tensor Rank 0, scalar\n",
    "print(const_a)"
   ]
  },
  {
   "cell_type": "code",
   "execution_count": 11,
   "metadata": {},
   "outputs": [],
   "source": [
    "# soma\n",
    "total = const_a + const_b"
   ]
  },
  {
   "cell_type": "code",
   "execution_count": 12,
   "metadata": {},
   "outputs": [
    {
     "name": "stdout",
     "output_type": "stream",
     "text": [
      "Tensor(\"add:0\", shape=(), dtype=int32)\n"
     ]
    }
   ],
   "source": [
    "# imprimindo o que é o total\n",
    "# quando constroi o seu tensor ou operadores com seu tensor etá apenas criando\n",
    "# o grafo más ainda não executou o grafo\n",
    "# tensor do tipo add, que é de adição\n",
    "\n",
    "print(total)"
   ]
  },
  {
   "cell_type": "markdown",
   "metadata": {},
   "source": [
    "### O que foi definido nas celulas acima não foi uma operação matemática apenas a construção dos nodes e arestas do grafo"
   ]
  },
  {
   "cell_type": "code",
   "execution_count": 13,
   "metadata": {},
   "outputs": [
    {
     "name": "stdout",
     "output_type": "stream",
     "text": [
      "\n",
      "A soma do node1 com o node2 é: 14.000000\n"
     ]
    }
   ],
   "source": [
    "# sessão TF\n",
    "# executando o grafo \n",
    "\n",
    "with tf.Session() as sess:\n",
    "    print('\\nA soma do node1 com o node2 é: %f' %sess.run(total))"
   ]
  },
  {
   "cell_type": "markdown",
   "metadata": {},
   "source": [
    "### Temos aqui um grafo computacional"
   ]
  },
  {
   "cell_type": "code",
   "execution_count": 14,
   "metadata": {},
   "outputs": [
    {
     "name": "stdout",
     "output_type": "stream",
     "text": [
      "\n",
      "A soma do node1 com o node2 é: 14\n"
     ]
    }
   ],
   "source": [
    "# criando os nodes no grafo computacional\n",
    "node1 = tf.constant(5, dtype=tf.int32)\n",
    "node2 = tf.constant(9, dtype=tf.int32)\n",
    "\n",
    "# somando os nodes usando a função add\n",
    "node3 = tf.add(node1, node2)\n",
    "\n",
    "# criar a sessao TF\n",
    "sess = tf.Session()\n",
    "\n",
    "# executa o grafo\n",
    "print('\\nA soma do node1 com o node2 é:', sess.run(node3))\n",
    "\n",
    "# fechar a sessão\n",
    "sess.close()"
   ]
  },
  {
   "cell_type": "markdown",
   "metadata": {},
   "source": [
    "### Acima é um fluxo de operações matemáticas usando TensorFlow"
   ]
  },
  {
   "cell_type": "markdown",
   "metadata": {},
   "source": [
    "## Subtração"
   ]
  },
  {
   "cell_type": "code",
   "execution_count": 15,
   "metadata": {},
   "outputs": [],
   "source": [
    "# tensores randômicos\n",
    "rand_a = tf.random_normal([3], 2.0)\n",
    "rand_b = tf.random_uniform([3], 1.0, 4.0)"
   ]
  },
  {
   "cell_type": "code",
   "execution_count": 16,
   "metadata": {},
   "outputs": [
    {
     "name": "stdout",
     "output_type": "stream",
     "text": [
      "Tensor(\"random_normal:0\", shape=(3,), dtype=float32)\n"
     ]
    }
   ],
   "source": [
    "# imprimindo tensor rand_a\n",
    "# observe o tipo do shape que define qual tensor é\n",
    "# 0 - escalar\n",
    "# 3 - vetor\n",
    "# 2, 3 - matriz\n",
    "# 2, 1, 3 - tensor\n",
    "\n",
    "print(rand_a)"
   ]
  },
  {
   "cell_type": "code",
   "execution_count": 17,
   "metadata": {},
   "outputs": [
    {
     "name": "stdout",
     "output_type": "stream",
     "text": [
      "Tensor(\"random_uniform:0\", shape=(3,), dtype=float32)\n"
     ]
    }
   ],
   "source": [
    "# impriminso tensor rand_b\n",
    "print(rand_b)"
   ]
  },
  {
   "cell_type": "code",
   "execution_count": 18,
   "metadata": {},
   "outputs": [],
   "source": [
    "# subtração\n",
    "diff = tf.subtract(rand_a, rand_b)"
   ]
  },
  {
   "cell_type": "code",
   "execution_count": 19,
   "metadata": {},
   "outputs": [
    {
     "name": "stdout",
     "output_type": "stream",
     "text": [
      "\n",
      "Tensor rand_a: [2.7087684 2.674826  1.8383482]\n",
      "\n",
      "Tensro rand_b: [1.882283  3.4139829 3.676124 ]\n",
      "\n",
      "Subtração entre os e tensores é: [-2.6235528   0.83547795 -1.9262828 ]\n"
     ]
    }
   ],
   "source": [
    "# abrindo a sessão Flow\n",
    "with tf.Session() as sess:\n",
    "    print('\\nTensor rand_a:', sess.run(rand_a))\n",
    "    print('\\nTensro rand_b:', sess.run(rand_b))\n",
    "    print('\\nSubtração entre os e tensores é:', sess.run(diff))"
   ]
  },
  {
   "cell_type": "markdown",
   "metadata": {},
   "source": [
    "## Divisão"
   ]
  },
  {
   "cell_type": "code",
   "execution_count": 20,
   "metadata": {},
   "outputs": [],
   "source": [
    "# definindo os nós do grafo\n",
    "\n",
    "node1 = tf.constant(21, dtype=tf.int32)\n",
    "node2 = tf.constant(7, dtype=tf.int32)"
   ]
  },
  {
   "cell_type": "code",
   "execution_count": 21,
   "metadata": {},
   "outputs": [
    {
     "name": "stdout",
     "output_type": "stream",
     "text": [
      "WARNING:tensorflow:From <ipython-input-21-1ac86f576dd2>:3: div (from tensorflow.python.ops.math_ops) is deprecated and will be removed in a future version.\n",
      "Instructions for updating:\n",
      "Deprecated in favor of operator or tf.math.divide.\n"
     ]
    }
   ],
   "source": [
    "# operação de divisão\n",
    "\n",
    "div = tf.div(node1, node2)"
   ]
  },
  {
   "cell_type": "code",
   "execution_count": 22,
   "metadata": {},
   "outputs": [
    {
     "name": "stdout",
     "output_type": "stream",
     "text": [
      "\n",
      "Divisão entre os 2 tensores é: 3\n"
     ]
    }
   ],
   "source": [
    "# abrindo sessão TF\n",
    "with tf.Session() as sess:\n",
    "    print('\\nDivisão entre os 2 tensores é:', sess.run(div))"
   ]
  },
  {
   "cell_type": "markdown",
   "metadata": {},
   "source": [
    "## Multiplicação"
   ]
  },
  {
   "cell_type": "markdown",
   "metadata": {},
   "source": [
    "A multiplicação de matrizes é um dos modelos mais utilizados no modelo de machine learning especificamente em redes neurais profundas.<br>\n",
    "Quando construimos programas de redes neurais profundas construimos a 1º matriz que é um tensor que alimentando com os dados de entrada.<br>\n",
    "Criamos uma 2º matriz que é um tensor que alimentamos com os dados dos pesos inicializamos os pesos com alguma regra aleatória.<br>\n",
    "Então multiplicamos estas matriz de dados de entrada pela matriz de peso isto gera um resultado alimenta a próxima camada de rede neural a uma nova multiplicação e chega no final com uma previsão então compara com a saida esperada calcula-se alimentamos este erro de volta na rede, BACK PROPAGATION então faz uma nova alimentação na matriz de pesos e fica neste ciclo até chegar no final do treinamento."
   ]
  },
  {
   "cell_type": "markdown",
   "metadata": {},
   "source": [
    "Para aprender a teoria sobre operações com matrizes: https://pt.khanacademy.org/math/precalculus/precalc-matrices"
   ]
  },
  {
   "cell_type": "markdown",
   "metadata": {},
   "source": [
    "Para aprender a teoria e prática sobre operações com matrizes: https://www.datascienceacademy.com.br/pages/formacao-inteligencia-artificial"
   ]
  },
  {
   "cell_type": "code",
   "execution_count": 23,
   "metadata": {},
   "outputs": [],
   "source": [
    "# criando tensores\n",
    "# fill - preencher\n",
    "\n",
    "tensor_a = tf.constant([[4., 2.]])\n",
    "tensor_b = tf.constant([[3.], [7.]])"
   ]
  },
  {
   "cell_type": "code",
   "execution_count": 24,
   "metadata": {},
   "outputs": [
    {
     "name": "stdout",
     "output_type": "stream",
     "text": [
      "Tensor(\"Const_7:0\", shape=(1, 2), dtype=float32)\n"
     ]
    }
   ],
   "source": [
    "# imprimindo tensor\n",
    "# rank 2 - vetor\n",
    "# shape(1, 2) - 1 - linha, 2 - colunas\n",
    "print(tensor_a)"
   ]
  },
  {
   "cell_type": "code",
   "execution_count": 25,
   "metadata": {},
   "outputs": [
    {
     "name": "stdout",
     "output_type": "stream",
     "text": [
      "Tensor(\"Const_8:0\", shape=(2, 1), dtype=float32)\n"
     ]
    }
   ],
   "source": [
    "#shape(2, 1) - 2 - linha, 1 - coluna\n",
    "print(tensor_b)"
   ]
  },
  {
   "cell_type": "markdown",
   "metadata": {},
   "source": [
    "### A operação matemática nos tensores não é nenhum problema o desafio é alimentar os tensores com os dados que precisa para alimentar os modelos"
   ]
  },
  {
   "cell_type": "code",
   "execution_count": 26,
   "metadata": {},
   "outputs": [],
   "source": [
    "# multiplicação \n",
    "# tf.multuply(x, y) executa element-wise\n",
    "# http://www.tensorflow.org/api_docs/python/tf/multiply\n",
    "\n",
    "prod = tf.multiply(tensor_a, tensor_b)"
   ]
  },
  {
   "cell_type": "code",
   "execution_count": 27,
   "metadata": {},
   "outputs": [
    {
     "name": "stdout",
     "output_type": "stream",
     "text": [
      "\n",
      "tensor_a:\n",
      " [[4. 2.]]\n",
      "\n",
      "tensor_b:\n",
      " [[3.]\n",
      " [7.]]\n",
      "\n",
      "Produto Element-wise Entre os Tensores: \n",
      " [[12.  6.]\n",
      " [28. 14.]]\n"
     ]
    }
   ],
   "source": [
    "# sessão TF\n",
    "with tf.Session() as sess:\n",
    "    print('\\ntensor_a:\\n', sess.run(tensor_a))\n",
    "    print('\\ntensor_b:\\n', sess.run(tensor_b))\n",
    "    print('\\nProduto Element-wise Entre os Tensores: \\n', sess.run(prod))"
   ]
  },
  {
   "cell_type": "markdown",
   "metadata": {},
   "source": [
    "### A mesma multiplicação de tensores de x por [x, y ] y por [x, y]\n",
    "[4, 2]<br>\n",
    "[x, x]<br>\n",
    "[3, 7]<br>\n",
    "resultados<br>\n",
    "[12, 6]<br>\n",
    "[28, 14]<br>\n",
    "### Element-wise - elemento sensato"
   ]
  },
  {
   "cell_type": "code",
   "execution_count": 28,
   "metadata": {},
   "outputs": [],
   "source": [
    "# outro exemplo\n",
    "# definindo tensores\n",
    "\n",
    "mat_a = tf.constant([[2, 3], [9, 2], [4, 5]])\n",
    "mat_b = tf.constant([[6, 4, 5], [3, 7, 2]])"
   ]
  },
  {
   "cell_type": "code",
   "execution_count": 29,
   "metadata": {},
   "outputs": [
    {
     "name": "stdout",
     "output_type": "stream",
     "text": [
      "Tensor(\"Const_9:0\", shape=(3, 2), dtype=int32)\n"
     ]
    }
   ],
   "source": [
    "# imprimindo \n",
    "# shape(3, 2) - 3 linhas, 2 colunas\n",
    "# vetor\n",
    "print(mat_a)"
   ]
  },
  {
   "cell_type": "code",
   "execution_count": 30,
   "metadata": {},
   "outputs": [
    {
     "name": "stdout",
     "output_type": "stream",
     "text": [
      "Tensor(\"Const_10:0\", shape=(2, 3), dtype=int32)\n"
     ]
    }
   ],
   "source": [
    "# shape 2, 3\n",
    "# matriz com 3 colunas\n",
    "\n",
    "print(mat_b)"
   ]
  },
  {
   "cell_type": "code",
   "execution_count": 31,
   "metadata": {},
   "outputs": [],
   "source": [
    "# multiplicação\n",
    "# tf.matmul(x, y) executa multiplicação entre matrizes\n",
    "# http://www.tensorflow.org/api_docs/python/tf/matmul\n",
    "\n",
    "mat_prod = tf.matmul(mat_a, mat_b)"
   ]
  },
  {
   "cell_type": "code",
   "execution_count": 32,
   "metadata": {},
   "outputs": [
    {
     "name": "stdout",
     "output_type": "stream",
     "text": [
      "\n",
      "Tensor mat_a: \n",
      " [[2 3]\n",
      " [9 2]\n",
      " [4 5]]\n",
      "\n",
      "Tensor mat_b: \n",
      " [[6 4 5]\n",
      " [3 7 2]]\n",
      "\n",
      "Produto Element-wise Entre os Tensores (Matrizes): \n",
      " [[21 29 16]\n",
      " [60 50 49]\n",
      " [39 51 30]]\n"
     ]
    }
   ],
   "source": [
    "# executando sessão\n",
    "with tf.Session() as sess:\n",
    "    print('\\nTensor mat_a: \\n', sess.run(mat_a))\n",
    "    print('\\nTensor mat_b: \\n', sess.run(mat_b))\n",
    "    print('\\nProduto Element-wise Entre os Tensores (Matrizes): \\n', sess.run(mat_prod))"
   ]
  },
  {
   "cell_type": "markdown",
   "metadata": {},
   "source": [
    "### O tensorFlow tem uma curva de aprendizado maior, a função matmul, da mais métodos do que multiply.\n",
    "Ir a documentação aprender as funções e aplicar a melhor utilizado a solução do roblema."
   ]
  },
  {
   "cell_type": "code",
   "execution_count": 33,
   "metadata": {},
   "outputs": [
    {
     "data": {
      "image/png": "[encoded data removed]",
      "text/plain": [
       "<IPython.core.display.Image object>"
      ]
     },
     "execution_count": 33,
     "metadata": {},
     "output_type": "execute_result"
    }
   ],
   "source": [
    "from IPython.display import Image\n",
    "Image('imagens/matrizes.png')"
   ]
  },
  {
   "cell_type": "markdown",
   "metadata": {},
   "source": [
    "a<br>\n",
    "[3,<br>\n",
    "2,<br>\n",
    "1] -> linhas<br>\n",
    "\n",
    "b[1, 2, 3] -> colunas<br>\n",
    "3 x 1<br>\n",
    "3 x 2<br>\n",
    "3 x 3<br>\n",
    "2 x 1<br>\n",
    "2 x 2<br>\n",
    "2 x 3<br>\n",
    "1 x 1<br>\n",
    "1 x 2<br>\n",
    "1 x 3<br>\n",
    "Objeto resultante<br>\n",
    "c[3, 6, 9,<br>\n",
    "  2, 4, 6,<br>\n",
    "  1, 2, 3] -> a multiplicação em linhas do vetor com a matriz <br>\n",
    "\n",
    "Resultante em colunas"
   ]
  },
  {
   "cell_type": "markdown",
   "metadata": {},
   "source": [
    "## Usando variáveis\n",
    "O TensorFlow também possui variáveis que podem conter dados variáveis. Elas são usadas principalmente para manter e atualizar parâmetros de um modelo de treinamento<br>\n",
    "Variáveis são buffers na memória contendo tensores. Elas devem ser inicializados e podem ser salvas durante e após o treinamento. Você pode restaurar os valores salvos posteriormente para exercitar ou analisar o modelo.<br>\n",
    "Uma diferença importante a notar entre uma constante e uma variável é:<br>\n",
    "O valor de uma constante é armazenado no grafo e seu valor é replicado onde o grafo é carregado. Uma variável é armazenada separadamente e pode estar em um servidor de parâmetros."
   ]
  },
  {
   "cell_type": "code",
   "execution_count": 35,
   "metadata": {},
   "outputs": [
    {
     "name": "stdout",
     "output_type": "stream",
     "text": [
      "\n",
      "Tensor Original:\n",
      " [[0. 0.]\n",
      " [0. 0.]]\n",
      "\n",
      "Tensor depois da adição: \n",
      " [[1. 1.]\n",
      " [1. 1.]]\n"
     ]
    }
   ],
   "source": [
    "# criando um node no grafo computacional\n",
    "# usando o conceito de variável os valores poderão ser trocados\n",
    "# depois da execução, diferentemente de constantes\n",
    "\n",
    "node = tf.Variable(tf.zeros([2, 2]))\n",
    "\n",
    "# executando o grafo computacional\n",
    "with tf.Session() as sess:\n",
    "    # iniciando as vairáveis, alocando a área de memória\n",
    "    sess.run(tf.global_variables_initializer())\n",
    "    # avaliando o node\n",
    "    print('\\nTensor Original:\\n', sess.run(node))\n",
    "    # adicção element-wise no tensor, assign, somando um novo node\n",
    "    node = node.assign(node + tf.ones([2, 2]))\n",
    "    # avaliando o node novemente\n",
    "    print('\\nTensor depois da adição: \\n', sess.run(node))"
   ]
  },
  {
   "cell_type": "markdown",
   "metadata": {},
   "source": [
    "## Usando Placeholders\n",
    "Um grafo pose ser parametrizado para aceitar dados externos e podemos reservar áreas conhecidas como espaços reservados(Placeholders). Um espaço reservado é uma promessa para fornecer um valor mais tarde.<br>\n",
    "Ao avaliar o grafo envolvendo nós de espaço reservado, um parâmetro feed_dict é passado para a sessão."
   ]
  },
  {
   "cell_type": "code",
   "execution_count": 36,
   "metadata": {},
   "outputs": [
    {
     "name": "stdout",
     "output_type": "stream",
     "text": [
      "[[3 6 9]\n",
      " [2 4 6]\n",
      " [1 2 3]]\n"
     ]
    }
   ],
   "source": [
    "# criando nodes no Grafo Computacional\n",
    "a = tf.placeholder(tf.int32, shape=(3, 1))\n",
    "b = tf.placeholder(tf.int32, shape=(1, 3))\n",
    "c = tf.matmul(a, b)\n",
    "\n",
    "# executando o Grafo Computacioanl\n",
    "with tf.Session() as sess:\n",
    "    print(sess.run(c, feed_dict={a:[[3], [2], [1]], b:[[1, 2, 3]]}))\n",
    "    "
   ]
  },
  {
   "cell_type": "markdown",
   "metadata": {},
   "source": [
    "Você só pode abrir uma sessão e executar alguma coisa se eu tiver o tensor criado, não pode abrir uma sessão se não tiver tensores, vai executar o que nada, postanto quando abre uma Sessão ele espera que já tenha um tensor, só que neste caso não temos os dados para alimentar o tensor, o que fazemos então chamamos a função placeholder, acontece o seguinte com placeholder reserve na memória espaço do tipo int32, com shape=(3, 1) só vai poder armazenar na memório o tipo inteiro 32, e também reserve uma área na memória chamada placeholder do tipo int32, com o shape=(1, 3).<br>\n",
    "Neste momento está definindo os tensores<br>\n",
    "construindo o grafo computacional<br>\n",
    "feed_dict dicionário de alimentação, básicamente automatizando o processo agora básicamente pode alimentar a e b com arquivos csv, matriz NumPy, valores de um dataframe do pandas, valores de qualquer lugar que estiverem tratados preparados etc..<br>\n",
    "E alimenta os dois tensores chama o parametro feed_dict e alimenta a e b.<br>\n",
    "O placeholder ele é muito útil para criar o espaço na memória e alimento ele quando criar a sessão."
   ]
  },
  {
   "cell_type": "code",
   "execution_count": 37,
   "metadata": {},
   "outputs": [
    {
     "data": {
      "image/png": "[encoded data removed]",
      "text/plain": [
       "<IPython.core.display.Image object>"
      ]
     },
     "execution_count": 37,
     "metadata": {},
     "output_type": "execute_result"
    }
   ],
   "source": [
    "from IPython.display import Image\n",
    "Image('imagens/matrizes.png')"
   ]
  },
  {
   "cell_type": "markdown",
   "metadata": {},
   "source": [
    "Embor foi bastante conteúdo nem 2% dele foi mostrado neste notebook\n",
    "## Fim"
   ]
  },
  {
   "cell_type": "code",
   "execution_count": null,
   "metadata": {},
   "outputs": [],
   "source": []
  }
 ],
 "metadata": {
  "kernelspec": {
   "display_name": "Python 3",
   "language": "python",
   "name": "python3"
  },
  "language_info": {
   "codemirror_mode": {
    "name": "ipython",
    "version": 3
   },
   "file_extension": ".py",
   "mimetype": "text/x-python",
   "name": "python",
   "nbconvert_exporter": "python",
   "pygments_lexer": "ipython3",
   "version": "3.7.6"
  }
 },
 "nbformat": 4,
 "nbformat_minor": 4
}
