{
 "cells": [
  {
   "cell_type": "markdown",
   "metadata": {},
   "source": [
    "### Construindo um Modelo de Regressão Linear com TensroFlow\n",
    "Use como conferência o Deep Learning Book: http://www.deeplearningbook.com.br/ "
   ]
  },
  {
   "cell_type": "code",
   "execution_count": 1,
   "metadata": {},
   "outputs": [],
   "source": [
    "# importar pacotes\n",
    "import tensorflow as tf\n",
    "import numpy as np\n",
    "import matplotlib.pyplot as plt\n",
    "%matplotlib inline"
   ]
  },
  {
   "cell_type": "markdown",
   "metadata": {},
   "source": [
    "### Definindo os hyperparâmetros do modelo"
   ]
  },
  {
   "cell_type": "code",
   "execution_count": 2,
   "metadata": {},
   "outputs": [],
   "source": [
    "# hyperparâmetros do modelo\n",
    "# configuração do modelo\n",
    "\n",
    "learning_rate = 0.01\n",
    "training_epochs = 2000\n",
    "display_step = 200"
   ]
  },
  {
   "cell_type": "markdown",
   "metadata": {},
   "source": [
    "### Definindo os datasets de treino e de teste\n",
    "### Considere X com o tamanho de uma casa e Y o preço de uma casa"
   ]
  },
  {
   "cell_type": "code",
   "execution_count": 3,
   "metadata": {},
   "outputs": [],
   "source": [
    "# dataset de treino\n",
    "# sempre alimenta um modelo de machine learning com dados históricos\n",
    "# fazeremos modelo de prevensão, sempre que entregar um tamanho de casa ele vai prever\n",
    "# o preço da casa\n",
    "\n",
    "# entrada do tensor x\n",
    "train_x = np.asarray([3.3, 4.4, 5.5, 6.71, 6.93, 4.168, 9.779, 6.182, 7.59, 2.167, 7.042, 10.791, 5.313, 7.997, 5.654, 9.27, 3.1])\n",
    "# saida do tensor y\n",
    "train_y = np.asarray([1.7, 2.76, 2.09, 3.19, 1.694, 1.573, 3.366, 2.596, 2.53, 1.221, 2.827, 3.465, 1.65, 2.904, 2.42, 2.94, 1.3])\n",
    "\n",
    "# treinando o modelo\n",
    "n_sample = train_x.shape[0]\n",
    "\n",
    "# dataset de teste\n",
    "test_x = np.asarray([6.83, 4.668, 8.9, 7.91, 5.7, 8.7, 3.1, 2.1])\n",
    "test_y = np.asarray([1.84, 2.273, 3.2, 2.831, 2.92, 3.24, 1.35, 1.03])\n"
   ]
  },
  {
   "cell_type": "markdown",
   "metadata": {},
   "source": [
    "### Placeholder e variáveis"
   ]
  },
  {
   "cell_type": "code",
   "execution_count": 4,
   "metadata": {},
   "outputs": [],
   "source": [
    "# placeholders para as variáveis preditoras(x) e para variável target(y)\n",
    "x = tf.placeholder(tf.float32)\n",
    "y = tf.placeholder(tf.float32)\n",
    "\n",
    "# pesos e bias do modelo, isto que o modelo aprende peso e bias\n",
    "w = tf.Variable(np.random.randn(), name='weight')\n",
    "b = tf.Variable(np.random.randn(), name='bias')"
   ]
  },
  {
   "cell_type": "markdown",
   "metadata": {},
   "source": [
    "### Construindo o modelo"
   ]
  },
  {
   "cell_type": "code",
   "execution_count": 7,
   "metadata": {},
   "outputs": [],
   "source": [
    "# construindo o modelo linear, modelo mais simples que existe\n",
    "\n",
    "# fórmula do modelo linear: y = W*X + b\n",
    "# durante o treinamento o modelo vai aprendendo o que é w e b\n",
    "# até chegar na melhor reducao possível até chegar na equação\n",
    "# linear model - previsão\n",
    "linear_model = w * x + b\n",
    "\n",
    "# mean squared error (erro quadrado médio)\n",
    "cost = tf.reduce_sum(tf.square(linear_model - y)) / (2 * n_sample)\n",
    "\n",
    "# orimização com gradiente\n",
    "# calcula derivada apartir do erro e atualiza em próxima especifíca\n",
    "\n",
    "optimizer = tf.train.GradientDescentOptimizer(learning_rate).minimize(const)"
   ]
  },
  {
   "cell_type": "code",
   "execution_count": 8,
   "metadata": {},
   "outputs": [
    {
     "name": "stdout",
     "output_type": "stream",
     "text": [
      "Epoch:   200\t Cost:   0.07991\t w:0.282584\t b:0.5794\n",
      "Epoch:   400\t Cost:   0.07876\t w:0.275909\t b:0.6267\n",
      "Epoch:   600\t Cost:   0.07806\t w:0.270674\t b:0.6638\n",
      "Epoch:   800\t Cost:   0.07762\t w:0.266568\t b:0.6929\n",
      "Epoch:  1000\t Cost:   0.07736\t w:0.263348\t b:0.7158\n",
      "Epoch:  1200\t Cost:   0.07719\t w:0.260822\t b:0.7337\n",
      "Epoch:  1400\t Cost:   0.07709\t w:0.25884\t b:0.7477\n",
      "Epoch:  1600\t Cost:   0.07703\t w:0.257287\t b:0.7587\n",
      "Epoch:  1800\t Cost:   0.07699\t w:0.256068\t b:0.7674\n",
      "Epoch:  2000\t Cost:   0.07697\t w:0.255112\t b:0.7742\n",
      "\n",
      "Otimização Concluída!\n",
      "Custo final de Treinamento: 0.07696645 - w Final: 0.2551117 -b Final: 0.7741525 \n",
      "\n"
     ]
    },
    {
     "data": {
      "image/png": "[encoded data removed]",
      "text/plain": [
       "<Figure size 432x288 with 1 Axes>"
      ]
     },
     "metadata": {
      "needs_background": "light"
     },
     "output_type": "display_data"
    },
    {
     "name": "stdout",
     "output_type": "stream",
     "text": [
      "Custo Final em Testes:  0.07762321\n",
      "Diferença Média Quadrada Absoluta: 0.0006567612\n"
     ]
    },
    {
     "data": {
      "image/png": "[encoded data removed]",
      "text/plain": [
       "<Figure size 432x288 with 1 Axes>"
      ]
     },
     "metadata": {
      "needs_background": "light"
     },
     "output_type": "display_data"
    }
   ],
   "source": [
    "# definindo a inicialização das variáveis\n",
    "init = tf.global_variables_initializer()\n",
    "\n",
    "# iniciando sessão\n",
    "with tf.Session() as sess:\n",
    "    # Iniciando as varáveis\n",
    "    sess.run(init)\n",
    "    # Treinamento do modelo\n",
    "    for epoch in range(training_epochs):\n",
    "        # Otimização com Gradiente Descent\n",
    "        sess.run(optimizer, feed_dict={x: train_x, y: train_y})\n",
    "        \n",
    "        # Display de cada epoch\n",
    "        if (epoch+1) % display_step == 0:\n",
    "            c = sess.run(cost, feed_dict={x: train_x, y: train_y})\n",
    "            print('Epoch:{0:6}\\t Cost:{1:10.4}\\t w:{2:6.6}\\t b:{3:6.4}'.format(epoch+1, c, sess.run(w), sess.run(b)))\n",
    "            \n",
    "    # Imprimindo os paâmetros finais do modelo\n",
    "    print('\\nOtimização Concluída!')\n",
    "    training_cost = sess.run(cost, feed_dict={x: train_x, y: train_y})\n",
    "    print('Custo final de Treinamento:', training_cost, '- w Final:', sess.run(w), '-b Final:', sess.run(b), '\\n')\n",
    "\n",
    "    # Visualizando o resultado\n",
    "    plt.plot(train_x, train_y, 'ro', label='Dados Originais')\n",
    "    plt.plot(train_x, sess.run(w) * train_x + sess.run(b), label='Linha de Regressão')\n",
    "    plt.legend()\n",
    "    plt.show()\n",
    "    \n",
    "    # Testando o modelo\n",
    "    testing_cost = sess.run(tf.reduce_sum(tf.square(linear_model - y)) / (2 * test_x.shape[0]), \n",
    "                           feed_dict={x: test_x, y: test_y})\n",
    "    \n",
    "    print('Custo Final em Testes: ', testing_cost)\n",
    "    print('Diferença Média Quadrada Absoluta:', abs(training_cost - testing_cost))\n",
    "    \n",
    "    # Display em Teste\n",
    "    plt.plot(test_x, test_y, 'bo', label='Dados de Teste')\n",
    "    plt.plot(train_x, sess.run(w) * train_x + sess.run(b), label='Linha de Regressão')\n",
    "    plt.legend()\n",
    "    plt.show()\n",
    "    \n",
    "sess.close()"
   ]
  },
  {
   "cell_type": "markdown",
   "metadata": {},
   "source": [
    "Cost está abaixando a cada passada ou seja a taxa de erro vai diminuindo de acordo com o treinamento do algoritmo.\n",
    "Agora temos uma formúla y = w * x + b"
   ]
  },
  {
   "cell_type": "markdown",
   "metadata": {},
   "source": [
    "## Fim"
   ]
  }
 ],
 "metadata": {
  "kernelspec": {
   "display_name": "Python 3",
   "language": "python",
   "name": "python3"
  },
  "language_info": {
   "codemirror_mode": {
    "name": "ipython",
    "version": 3
   },
   "file_extension": ".py",
   "mimetype": "text/x-python",
   "name": "python",
   "nbconvert_exporter": "python",
   "pygments_lexer": "ipython3",
   "version": "3.7.6"
  }
 },
 "nbformat": 4,
 "nbformat_minor": 4
}
