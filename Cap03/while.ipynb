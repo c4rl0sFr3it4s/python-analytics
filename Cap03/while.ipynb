{
 "cells": [
  {
   "cell_type": "markdown",
   "metadata": {},
   "source": [
    "## While"
   ]
  },
  {
   "cell_type": "code",
   "execution_count": 3,
   "metadata": {},
   "outputs": [
    {
     "name": "stdout",
     "output_type": "stream",
     "text": [
      "012345678910"
     ]
    }
   ],
   "source": [
    "# enquato será executado quanto o teste é verdadeiro\n",
    "cont = 0\n",
    "while cont < 11:\n",
    "    print(cont, end='')\n",
    "    cont += 1"
   ]
  },
  {
   "cell_type": "code",
   "execution_count": 5,
   "metadata": {},
   "outputs": [
    {
     "name": "stdout",
     "output_type": "stream",
     "text": [
      "0 ainda sou menor que 10\n",
      "Estou somando mais 0 no contador.\n",
      "1 ainda sou menor que 10\n",
      "Estou somando mais 1 no contador.\n",
      "2 ainda sou menor que 10\n",
      "Estou somando mais 2 no contador.\n",
      "3 ainda sou menor que 10\n",
      "Estou somando mais 3 no contador.\n",
      "4 ainda sou menor que 10\n",
      "Estou somando mais 4 no contador.\n",
      "5 ainda sou menor que 10\n",
      "Estou somando mais 5 no contador.\n",
      "6 ainda sou menor que 10\n",
      "Estou somando mais 6 no contador.\n",
      "7 ainda sou menor que 10\n",
      "Estou somando mais 7 no contador.\n",
      "8 ainda sou menor que 10\n",
      "Estou somando mais 8 no contador.\n",
      "9 ainda sou menor que 10\n",
      "Estou somando mais 9 no contador.\n",
      "Loop concluido!\n"
     ]
    }
   ],
   "source": [
    "# usando a cláusula else para encerrar a iteraçã\n",
    "cont = 0\n",
    "while cont < 10:\n",
    "    print(cont, 'ainda sou menor que 10')\n",
    "    print(f'Estou somando mais {cont} no contador.')\n",
    "    cont += 1\n",
    "\n",
    "else:\n",
    "    print('Loop concluido!')\n",
    "    "
   ]
  },
  {
   "cell_type": "code",
   "execution_count": 6,
   "metadata": {},
   "outputs": [
    {
     "name": "stdout",
     "output_type": "stream",
     "text": [
      "01234"
     ]
    }
   ],
   "source": [
    "# pass, break, continue\n",
    "count = 0\n",
    "while count < 100:\n",
    "    if count == 5:\n",
    "        break # parar\n",
    "    else:\n",
    "        pass # iteracao \n",
    "    print(count, end='')\n",
    "    count += 1"
   ]
  },
  {
   "cell_type": "code",
   "execution_count": 8,
   "metadata": {},
   "outputs": [
    {
     "name": "stdout",
     "output_type": "stream",
     "text": [
      "pyton"
     ]
    }
   ],
   "source": [
    "# como verificador em string\n",
    "for verificador in 'python':\n",
    "    if verificador == 'h':\n",
    "        continue # continua e pula a interação\n",
    "    print(verificador, end='')"
   ]
  },
  {
   "cell_type": "code",
   "execution_count": null,
   "metadata": {},
   "outputs": [],
   "source": [
    "# for e while juntas\n",
    "for i in range(2, 30):\n",
    "    j = 2\n",
    "    count = 0\n",
    "    while j < i:\n",
    "        if i % j == 0:\n",
    "            count = 1\n",
    "            j += 1\n",
    "        else:\n",
    "            j += 1\n",
    "        \n",
    "    if count == 0:\n",
    "        print(f'{i}, é um numero primo!')\n",
    "        count = 0\n",
    "    else:\n",
    "        count = 0"
   ]
  }
 ],
 "metadata": {
  "kernelspec": {
   "display_name": "Python 3",
   "language": "python",
   "name": "python3"
  },
  "language_info": {
   "codemirror_mode": {
    "name": "ipython",
    "version": 3
   },
   "file_extension": ".py",
   "mimetype": "text/x-python",
   "name": "python",
   "nbconvert_exporter": "python",
   "pygments_lexer": "ipython3",
   "version": "3.8.1"
  }
 },
 "nbformat": 4,
 "nbformat_minor": 4
}
