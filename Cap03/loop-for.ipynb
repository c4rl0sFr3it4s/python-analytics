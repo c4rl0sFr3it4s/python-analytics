{
 "cells": [
  {
   "cell_type": "code",
   "execution_count": 2,
   "metadata": {},
   "outputs": [
    {
     "name": "stdout",
     "output_type": "stream",
     "text": [
      "123"
     ]
    }
   ],
   "source": [
    "# percorrendo tupla, imprimindo cada um dos valores\n",
    "tp = (1, 2, 3)\n",
    "for i in tp:\n",
    "    print(i, end='')"
   ]
  },
  {
   "cell_type": "code",
   "execution_count": 3,
   "metadata": {},
   "outputs": [
    {
     "name": "stdout",
     "output_type": "stream",
     "text": [
      "ABC"
     ]
    }
   ],
   "source": [
    "# criando uma lista e imprimindo cada um dos valores\n",
    "li = ['A', 'B', 'C']\n",
    "for i in li:\n",
    "    print(i, end='')"
   ]
  },
  {
   "cell_type": "code",
   "execution_count": 5,
   "metadata": {},
   "outputs": [
    {
     "name": "stdout",
     "output_type": "stream",
     "text": [
      "012345"
     ]
    }
   ],
   "source": [
    "# imprimindo os valores de 0 à 5 exclusive\n",
    "for i in range(0, 6):\n",
    "    print(i, end='')"
   ]
  },
  {
   "cell_type": "code",
   "execution_count": 7,
   "metadata": {},
   "outputs": [
    {
     "name": "stdout",
     "output_type": "stream",
     "text": [
      "2 , 4 , 6 , 8 , 10 , 12 , 14 , "
     ]
    }
   ],
   "source": [
    "# imprimindo na tela os valores de numero par de uma lista de numeros\n",
    "li = [1, 2, 3, 4, 5, 6, 7, 8, 9, 10, 11, 12, 13, 14]\n",
    "for i in li:\n",
    "    if i % 2 == 0:\n",
    "        print(i, ', ', end='')"
   ]
  },
  {
   "cell_type": "code",
   "execution_count": 8,
   "metadata": {},
   "outputs": [
    {
     "name": "stdout",
     "output_type": "stream",
     "text": [
      "0 2 4 6 8 10 12 14 16 18 20 22 24 26 28 30 32 34 36 38 40 42 44 46 48 50 52 54 56 58 60 62 64 66 68 70 72 74 76 78 80 82 84 86 88 90 92 94 96 98 100 102 "
     ]
    }
   ],
   "source": [
    "# interagindo de 0 à 102 com passo 2\n",
    "for i in range(0, 103, 2):\n",
    "    print(i, '', end='')"
   ]
  },
  {
   "cell_type": "code",
   "execution_count": 10,
   "metadata": {},
   "outputs": [
    {
     "name": "stdout",
     "output_type": "stream",
     "text": [
      "Python é uma línguagem divertida"
     ]
    }
   ],
   "source": [
    "# utilizando loop for em uma string\n",
    "for caractere in 'Python é uma línguagem divertida':\n",
    "    print(caractere, end='')"
   ]
  },
  {
   "cell_type": "markdown",
   "metadata": {},
   "source": [
    "## Loops aninhados"
   ]
  },
  {
   "cell_type": "code",
   "execution_count": 15,
   "metadata": {},
   "outputs": [
    {
     "name": "stdout",
     "output_type": "stream",
     "text": [
      "01234\n",
      "01234\n",
      "01234\n",
      "01234\n",
      "01234\n"
     ]
    }
   ],
   "source": [
    "# loop aninhado, matriz \n",
    "for i in range(0, 5):\n",
    "    for j in range(0, 5):\n",
    "        print(j, end='')\n",
    "    print()"
   ]
  },
  {
   "cell_type": "code",
   "execution_count": 17,
   "metadata": {},
   "outputs": [
    {
     "name": "stdout",
     "output_type": "stream",
     "text": [
      "A soma é 462:\n"
     ]
    }
   ],
   "source": [
    "# operando os valores de uma lista com loop\n",
    "lista = [32, 53, 85, 10, 15, 17, 19]\n",
    "soma = 0\n",
    "for i in lista:\n",
    "    double_i = i * 2\n",
    "    soma += double_i\n",
    "\n",
    "print(f'A soma é {soma}:')"
   ]
  },
  {
   "cell_type": "code",
   "execution_count": 24,
   "metadata": {},
   "outputs": [
    {
     "name": "stdout",
     "output_type": "stream",
     "text": [
      "['A', 'B', 'C']\n",
      "['D', 'E', 'F']\n",
      "['G', 'H', 'I']\n",
      "H\n"
     ]
    }
   ],
   "source": [
    "# loops em lista de listas\n",
    "lista_b = [['A', 'B', 'C'], ['D', 'E', 'F'], ['G', 'H', 'I']]\n",
    "for item in lista_b:\n",
    "    print(item)\n",
    "print(lista_b[2][1])"
   ]
  },
  {
   "cell_type": "code",
   "execution_count": 25,
   "metadata": {},
   "outputs": [
    {
     "name": "stdout",
     "output_type": "stream",
     "text": [
      "6\n"
     ]
    }
   ],
   "source": [
    "# contando os items de uma lista\n",
    "li = [0, 1, 2, 3, 4, 5]\n",
    "count = 0\n",
    "for i in li:\n",
    "    count += 1\n",
    "print(count)"
   ]
  },
  {
   "cell_type": "code",
   "execution_count": 28,
   "metadata": {},
   "outputs": [
    {
     "name": "stdout",
     "output_type": "stream",
     "text": [
      "3\n"
     ]
    }
   ],
   "source": [
    "# contando o número de colunas\n",
    "li = [[0, 1, 2], [0.1, 0.2, 0.3], ['um', 'dois', 'tres', 'quatro', 'cinco']]\n",
    "primeira_linha = li[0]\n",
    "# numero de colunas é o números de item\n",
    "count = 0\n",
    "for column in primeira_linha:\n",
    "    count += 1\n",
    "print(count)"
   ]
  },
  {
   "cell_type": "code",
   "execution_count": 30,
   "metadata": {},
   "outputs": [
    {
     "name": "stdout",
     "output_type": "stream",
     "text": [
      "Item encontrado na pesquisa!\n"
     ]
    }
   ],
   "source": [
    "# pequisando em listas\n",
    "lista_pesquisa = [0, 1, 11, 14, 56, 98]\n",
    "for i in lista_pesquisa:\n",
    "    if i == 56:\n",
    "        print('Item encontrado na pesquisa!')"
   ]
  },
  {
   "cell_type": "code",
   "execution_count": 32,
   "metadata": {},
   "outputs": [
    {
     "name": "stdout",
     "output_type": "stream",
     "text": [
      "k1\n",
      "k2\n",
      "k3\n"
     ]
    }
   ],
   "source": [
    "# listando as chaves de um dicionário\n",
    "dic = {'k1': 'Python', 'k2': 'R', 'k3': 'Scala'}\n",
    "for key in dic.keys():\n",
    "    print(key)"
   ]
  },
  {
   "cell_type": "code",
   "execution_count": 37,
   "metadata": {},
   "outputs": [
    {
     "name": "stdout",
     "output_type": "stream",
     "text": [
      "k1, Python\n",
      "k2, R\n",
      "key3, Scala\n",
      "key4, Java\n"
     ]
    }
   ],
   "source": [
    "# imprimindo a chave e o valor de um dicionário\n",
    "dic02 = {'k1': 'Python', 'k2': 'R', 'key3': 'Scala', 'key4': 'Java'}\n",
    "for k, v in dic02.items():\n",
    "    print(f'{k}, {v}')"
   ]
  },
  {
   "cell_type": "markdown",
   "metadata": {},
   "source": [
    "## Fim"
   ]
  },
  {
   "cell_type": "code",
   "execution_count": null,
   "metadata": {},
   "outputs": [],
   "source": []
  }
 ],
 "metadata": {
  "kernelspec": {
   "display_name": "Python 3",
   "language": "python",
   "name": "python3"
  },
  "language_info": {
   "codemirror_mode": {
    "name": "ipython",
    "version": 3
   },
   "file_extension": ".py",
   "mimetype": "text/x-python",
   "name": "python",
   "nbconvert_exporter": "python",
   "pygments_lexer": "ipython3",
   "version": "3.8.1"
  }
 },
 "nbformat": 4,
 "nbformat_minor": 4
}
