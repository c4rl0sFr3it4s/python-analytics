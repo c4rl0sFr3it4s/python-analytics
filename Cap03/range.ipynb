{
 "cells": [
  {
   "cell_type": "markdown",
   "metadata": {},
   "source": [
    "## Range"
   ]
  },
  {
   "cell_type": "code",
   "execution_count": 2,
   "metadata": {},
   "outputs": [
    {
     "name": "stdout",
     "output_type": "stream",
     "text": [
      "50  52  54  56  58  60  62  64  66  68  70  72  74  76  78  80  82  84  86  88  90  92  94  96  98  100  "
     ]
    }
   ],
   "source": [
    "#range inicio, fim, intervalo 2\n",
    "for i in range(50, 101, 2):\n",
    "    print(i, ' ', end='')"
   ]
  },
  {
   "cell_type": "code",
   "execution_count": 3,
   "metadata": {},
   "outputs": [
    {
     "name": "stdout",
     "output_type": "stream",
     "text": [
      "3  4  5  "
     ]
    }
   ],
   "source": [
    "# range com 2 parametros\n",
    "for i in range(3, 6):\n",
    "    print(i, ' ', end='')"
   ]
  },
  {
   "cell_type": "code",
   "execution_count": 4,
   "metadata": {},
   "outputs": [
    {
     "name": "stdout",
     "output_type": "stream",
     "text": [
      "0 -2 -4 -6 -8 -10 -12 -14 -16 -18 "
     ]
    }
   ],
   "source": [
    "# range regressivo, inicio, fim, passo\n",
    "for i in range(0, -20, -2):\n",
    "    print(i, '', end='')"
   ]
  },
  {
   "cell_type": "code",
   "execution_count": 10,
   "metadata": {},
   "outputs": [
    {
     "name": "stdout",
     "output_type": "stream",
     "text": [
      "Item( 0 )=> Morango\n",
      "Item( 1 )=> Banana\n",
      "Item( 2 )=> Maça\n",
      "Item( 3 )=> Uva\n"
     ]
    }
   ],
   "source": [
    "# range em cumprimento de objeto\n",
    "lista = ['Morango', 'Banana', 'Maça', 'Uva']\n",
    "tamanho = len(lista)\n",
    "for i in range(0, tamanho):\n",
    "    print('Item(', str(i), ')=>', lista[i])"
   ]
  },
  {
   "cell_type": "code",
   "execution_count": 12,
   "metadata": {},
   "outputs": [
    {
     "data": {
      "text/plain": [
       "range"
      ]
     },
     "execution_count": 12,
     "metadata": {},
     "output_type": "execute_result"
    }
   ],
   "source": [
    "# tudo em python é um objeto\n",
    "type(range(0 ,3))"
   ]
  },
  {
   "cell_type": "markdown",
   "metadata": {},
   "source": [
    "## Fim"
   ]
  },
  {
   "cell_type": "code",
   "execution_count": null,
   "metadata": {},
   "outputs": [],
   "source": []
  }
 ],
 "metadata": {
  "kernelspec": {
   "display_name": "Python 3",
   "language": "python",
   "name": "python3"
  },
  "language_info": {
   "codemirror_mode": {
    "name": "ipython",
    "version": 3
   },
   "file_extension": ".py",
   "mimetype": "text/x-python",
   "name": "python",
   "nbconvert_exporter": "python",
   "pygments_lexer": "ipython3",
   "version": "3.8.1"
  }
 },
 "nbformat": 4,
 "nbformat_minor": 4
}
