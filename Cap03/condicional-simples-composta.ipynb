{
 "cells": [
  {
   "cell_type": "markdown",
   "metadata": {},
   "source": [
    "## Condicional Simples-Composta"
   ]
  },
  {
   "cell_type": "code",
   "execution_count": 1,
   "metadata": {},
   "outputs": [
    {
     "name": "stdout",
     "output_type": "stream",
     "text": [
      "Python funciona!\n"
     ]
    }
   ],
   "source": [
    "# condicional simples\n",
    "if 5 > 2:\n",
    "    print('Python funciona!')"
   ]
  },
  {
   "cell_type": "code",
   "execution_count": 2,
   "metadata": {},
   "outputs": [
    {
     "name": "stdout",
     "output_type": "stream",
     "text": [
      "Ops! algo deu errado!\n"
     ]
    }
   ],
   "source": [
    "# condicional composta, retorna um valor boolena \n",
    "if 5 < 2:\n",
    "    print('Python funciona!')\n",
    "else:\n",
    "    print('Ops! algo deu errado!')"
   ]
  },
  {
   "cell_type": "code",
   "execution_count": 4,
   "metadata": {},
   "outputs": [
    {
     "name": "stdout",
     "output_type": "stream",
     "text": [
      "True\n"
     ]
    }
   ],
   "source": [
    "# testanto operadores relacionais, obtendo retorno boolean\n",
    "print(6 > 3)"
   ]
  },
  {
   "cell_type": "code",
   "execution_count": 6,
   "metadata": {},
   "outputs": [
    {
     "name": "stdout",
     "output_type": "stream",
     "text": [
      "False\n"
     ]
    }
   ],
   "source": [
    "print(3 > 7)"
   ]
  },
  {
   "cell_type": "code",
   "execution_count": 7,
   "metadata": {},
   "outputs": [
    {
     "name": "stdout",
     "output_type": "stream",
     "text": [
      "True\n"
     ]
    }
   ],
   "source": [
    "print(4 < 8)"
   ]
  },
  {
   "cell_type": "code",
   "execution_count": 8,
   "metadata": {},
   "outputs": [
    {
     "name": "stdout",
     "output_type": "stream",
     "text": [
      "True\n"
     ]
    }
   ],
   "source": [
    "print(4 >= 4)"
   ]
  },
  {
   "cell_type": "code",
   "execution_count": 9,
   "metadata": {},
   "outputs": [
    {
     "name": "stdout",
     "output_type": "stream",
     "text": [
      "Python funciona!\n"
     ]
    }
   ],
   "source": [
    "# estrutura condicional simples, operador de igualdade\n",
    "if 5 == 5:\n",
    "    print('Python funciona!')"
   ]
  },
  {
   "cell_type": "code",
   "execution_count": 10,
   "metadata": {},
   "outputs": [
    {
     "name": "stdout",
     "output_type": "stream",
     "text": [
      "Python funciona!\n"
     ]
    }
   ],
   "source": [
    "# estrutura condicional simples, operador boolean\n",
    "if True:\n",
    "    print('Python funciona!')"
   ]
  },
  {
   "cell_type": "code",
   "execution_count": 11,
   "metadata": {},
   "outputs": [
    {
     "name": "stdout",
     "output_type": "stream",
     "text": [
      "5 é maior que 3\n"
     ]
    }
   ],
   "source": [
    "# cuidado com operador relacional\n",
    "if 5 > 3:\n",
    "    print('5 é maior que 3, e tudo funciona')"
   ]
  },
  {
   "cell_type": "code",
   "execution_count": 13,
   "metadata": {},
   "outputs": [
    {
     "name": "stdout",
     "output_type": "stream",
     "text": [
      "Saindo da condicional e nada fuciona!!!!!\n"
     ]
    }
   ],
   "source": [
    "# cuidado com operador relacional, condição sendo falsa ele não entra na condição\n",
    "if 5 < 3:\n",
    "    print('5 é menor que 3')\n",
    "print('Saindo da condicional e nada fuciona!!!!!')"
   ]
  },
  {
   "cell_type": "markdown",
   "metadata": {},
   "source": [
    "## Condicional Composta"
   ]
  },
  {
   "cell_type": "code",
   "execution_count": 15,
   "metadata": {},
   "outputs": [
    {
     "name": "stdout",
     "output_type": "stream",
     "text": [
      "Voçê é de maior e pode dirigir. \n"
     ]
    }
   ],
   "source": [
    "# atribuindo uma variavel na condicional\n",
    "idade = 18\n",
    "if idade > 17:\n",
    "    print('Voçê é de maior e pode dirigir. ')"
   ]
  },
  {
   "cell_type": "code",
   "execution_count": 17,
   "metadata": {},
   "outputs": [
    {
     "name": "stdout",
     "output_type": "stream",
     "text": [
      "Ok Bob! voçê pode entrar!\n",
      "Fim da condição!\n"
     ]
    }
   ],
   "source": [
    "# estrutura condicional composta.\n",
    "nome = 'Bob'\n",
    "if idade > 17:\n",
    "    if nome == 'Bob':\n",
    "        print('Ok Bob! voçê pode entrar!')\n",
    "    else:\n",
    "        print('Desculpe! voçê não pode entrar! ')\n",
    "print('Fim da condição!')"
   ]
  },
  {
   "cell_type": "code",
   "execution_count": 18,
   "metadata": {},
   "outputs": [
    {
     "name": "stdout",
     "output_type": "stream",
     "text": [
      "Ok! Bob voçê pode entrar!\n"
     ]
    }
   ],
   "source": [
    "# estrutura aninhada com conectivo and\n",
    "idade = 13\n",
    "nome = 'Bob'\n",
    "if idade >= 13 and nome == 'Bob':\n",
    "    print('Ok! Bob voçê pode entrar!')"
   ]
  },
  {
   "cell_type": "code",
   "execution_count": 20,
   "metadata": {},
   "outputs": [
    {
     "name": "stdout",
     "output_type": "stream",
     "text": [
      "Ok! Bob voçê pode entrar! \n"
     ]
    }
   ],
   "source": [
    "# estrutura aninhada com conectivo or\n",
    "idade = 13\n",
    "nome = 'Bob'\n",
    "if (idade >= 13) or (nome == 'Bob'):\n",
    "    print('Ok! Bob voçê pode entrar! ')"
   ]
  },
  {
   "cell_type": "markdown",
   "metadata": {},
   "source": [
    "## Elif"
   ]
  },
  {
   "cell_type": "code",
   "execution_count": 21,
   "metadata": {},
   "outputs": [
    {
     "name": "stdout",
     "output_type": "stream",
     "text": [
      "Hoje choverá. \n"
     ]
    }
   ],
   "source": [
    "# estrutura composta\n",
    "dia = 'Terça'\n",
    "if dia == 'Segunda':\n",
    "    print('Hoje fará Sol. ')\n",
    "else:\n",
    "    print('Hoje choverá. ')"
   ]
  },
  {
   "cell_type": "code",
   "execution_count": 22,
   "metadata": {},
   "outputs": [
    {
     "name": "stdout",
     "output_type": "stream",
     "text": [
      "Hoje choverá. \n"
     ]
    }
   ],
   "source": [
    "# elif, evitar a escrita de vários if aninhado \n",
    "if dia == 'Segunda':\n",
    "    print('Hoje fará Sol. ')\n",
    "elif dia == 'Terça':\n",
    "    print('Hoje choverá. ')\n",
    "else:\n",
    "    print('Sem previsão do tempo! ')"
   ]
  },
  {
   "cell_type": "markdown",
   "metadata": {},
   "source": [
    "## Operadores Lógicos"
   ]
  },
  {
   "cell_type": "code",
   "execution_count": 23,
   "metadata": {},
   "outputs": [
    {
     "name": "stdout",
     "output_type": "stream",
     "text": [
      "Voçê está apito a dirigir.\n"
     ]
    }
   ],
   "source": [
    "# condicional simples\n",
    "idade = 18\n",
    "nome = 'Bob'\n",
    "if idade >= 18:\n",
    "    print('Voçê está apito a dirigir.')"
   ]
  },
  {
   "cell_type": "code",
   "execution_count": 25,
   "metadata": {},
   "outputs": [
    {
     "name": "stdout",
     "output_type": "stream",
     "text": [
      "Autorizado.\n"
     ]
    }
   ],
   "source": [
    "# operador lógico and\n",
    "if (idade >= 18) and (nome == 'Bob'):\n",
    "    print('Autorizado.')"
   ]
  },
  {
   "cell_type": "code",
   "execution_count": 26,
   "metadata": {},
   "outputs": [
    {
     "name": "stdout",
     "output_type": "stream",
     "text": [
      "Digite o nome da disciplina? Matemática\n",
      "Digite a nota final da disciplina [0 | 100]? 100\n",
      "Lamento acho que você precisa estudar mais!\n"
     ]
    }
   ],
   "source": [
    "# usando mais de uma opção na claúsula if\n",
    "disciplina = input('Digite o nome da disciplina? ')\n",
    "nota_final = input('Digite a nota final da disciplina [0 | 100]? ')\n",
    "if (disciplina == 'Geografia') and (nota_final >= '70'):\n",
    "    print('Voçê foi aprovado!')\n",
    "else:\n",
    "    print('Lamento acho que você precisa estudar mais!')"
   ]
  },
  {
   "cell_type": "code",
   "execution_count": 33,
   "metadata": {},
   "outputs": [
    {
     "name": "stdout",
     "output_type": "stream",
     "text": [
      "Digite o nome da Disciplina: Geografia\n",
      "Digite o valor da nota final [0 | 100]: 100\n",
      "Digite o numero do semestre [1 à 4]3\n",
      "Voçê foi aprovado em Geografia com média final 100.\n"
     ]
    }
   ],
   "source": [
    "# usando mais de uma cláusula if e introduzindo placeholders\n",
    "disciplina = input('Digite o nome da Disciplina: ')\n",
    "nota_final = int(input('Digite o valor da nota final [0 | 100]: '))\n",
    "semestre = int(input('Digite o numero do semestre [1 à 4]'))\n",
    "if ((disciplina == 'Geografia') and (nota_final >= 70) and (semestre != 1)):\n",
    "    print(f'Voçê foi aprovado em {disciplina} com média final {nota_final}.')\n",
    "else:\n",
    "    print('Lamento acho que você precisa estudar mais!')"
   ]
  },
  {
   "cell_type": "markdown",
   "metadata": {},
   "source": [
    "## Fique atento entre o espaços entre a  margem e cada um de seus comandos \n",
    "## A identação faz parte da línguagem python"
   ]
  },
  {
   "cell_type": "code",
   "execution_count": null,
   "metadata": {},
   "outputs": [],
   "source": []
  }
 ],
 "metadata": {
  "kernelspec": {
   "display_name": "Python 3",
   "language": "python",
   "name": "python3"
  },
  "language_info": {
   "codemirror_mode": {
    "name": "ipython",
    "version": 3
   },
   "file_extension": ".py",
   "mimetype": "text/x-python",
   "name": "python",
   "nbconvert_exporter": "python",
   "pygments_lexer": "ipython3",
   "version": "3.8.1"
  }
 },
 "nbformat": 4,
 "nbformat_minor": 4
}
