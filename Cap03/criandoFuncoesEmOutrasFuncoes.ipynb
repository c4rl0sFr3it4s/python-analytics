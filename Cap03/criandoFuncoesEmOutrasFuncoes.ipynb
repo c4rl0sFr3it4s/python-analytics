{
 "cells": [
  {
   "cell_type": "markdown",
   "metadata": {},
   "source": [
    "## Criando funções em outras funções"
   ]
  },
  {
   "cell_type": "code",
   "execution_count": 1,
   "metadata": {},
   "outputs": [
    {
     "data": {
      "text/plain": [
       "'Este número é primo.'"
      ]
     },
     "execution_count": 1,
     "metadata": {},
     "output_type": "execute_result"
    }
   ],
   "source": [
    "# calculando número primo apartir de aproximação da raiz quadrada\n",
    "import math\n",
    "\n",
    "def numPrimo(num):\n",
    "    '''\n",
    "    verificando se \n",
    "    um número é primo\n",
    "    '''\n",
    "    if (num % 2 == 0) and (num > 2):\n",
    "        return 'Este número não é primo!'\n",
    "    for i in range(3, int(math.sqrt(num)) + 1, 2):\n",
    "        if (num % 2 == 0):\n",
    "            return 'Este número não é primo'\n",
    "    return 'Este número é primo.'\n",
    "# chamando a função numero primo\n",
    "numPrimo(541)"
   ]
  },
  {
   "cell_type": "markdown",
   "metadata": {},
   "source": [
    "## Fazendo split de dados"
   ]
  },
  {
   "cell_type": "code",
   "execution_count": 3,
   "metadata": {},
   "outputs": [
    {
     "name": "stdout",
     "output_type": "stream",
     "text": [
      "['Esta', 'função', 'será', 'bastante', 'útil', 'para', 'separar', 'grandes', 'volumes', 'de', 'dados']"
     ]
    }
   ],
   "source": [
    "# fazendo split de dados, underline\n",
    "def split_dados(frase):\n",
    "    return frase.split(' ')\n",
    "\n",
    "frase = 'Esta função será bastante útil para separar grandes volumes de dados'\n",
    "print(split_dados(frase), end='')"
   ]
  },
  {
   "cell_type": "code",
   "execution_count": 4,
   "metadata": {},
   "outputs": [
    {
     "name": "stdout",
     "output_type": "stream",
     "text": [
      "['Esta', 'função', 'será', 'bastante', 'útil', 'para', 'separar', 'grandes', 'volumes', 'de', 'dados']\n"
     ]
    }
   ],
   "source": [
    "# guardando o split dentro de uma variável\n",
    "token = split_dados(frase)\n",
    "print(token)"
   ]
  },
  {
   "cell_type": "code",
   "execution_count": 8,
   "metadata": {},
   "outputs": [],
   "source": [
    "# armazenando uma string, para teste lower(), para baixo\n",
    "caixa_baixa = 'Este Texto Deveria Estar Todo em Lower Case'"
   ]
  },
  {
   "cell_type": "code",
   "execution_count": 9,
   "metadata": {},
   "outputs": [
    {
     "name": "stdout",
     "output_type": "stream",
     "text": [
      "este texto deveria estar todo em lower case\n"
     ]
    }
   ],
   "source": [
    "# funcao manipular string para caixa baixa, lower()\n",
    "def lower_case(texto):\n",
    "    return texto.lower()\n",
    "\n",
    "lower_case = lower_case(caixa_baixa)\n",
    "print(lower_case)"
   ]
  },
  {
   "cell_type": "code",
   "execution_count": 13,
   "metadata": {},
   "outputs": [
    {
     "name": "stdout",
     "output_type": "stream",
     "text": [
      "Imprimindo o 1º valor do argumento 10\n"
     ]
    }
   ],
   "source": [
    "# build in para argumentos em funções, *vartuple, explicita que a função pode receber quantos argumentos for\n",
    "# função com número variável de argumento\n",
    "def print_var_teste(arg1, *vartuple):\n",
    "    '''\n",
    "        mostrar a diferença o metodo build in\n",
    "        *vartuple\n",
    "    '''\n",
    "    # imprimindo o primeiro argumento\n",
    "    print('Imprimindo o 1º valor do argumento', arg1)\n",
    "    # imprimindo o argumento do *vartuple\n",
    "    for item in vartuple:\n",
    "        print(f'Parametros passado foi, vartuple {item}')\n",
    "    return;\n",
    "\n",
    "# fazendo a chamada da função com apenas 1 argumento\n",
    "print_var_teste(10)"
   ]
  },
  {
   "cell_type": "code",
   "execution_count": 14,
   "metadata": {},
   "outputs": [
    {
     "name": "stdout",
     "output_type": "stream",
     "text": [
      "Imprimindo o 1º valor do argumento Chocolate\n",
      "Parametros passado foi, vartuple Bolacha\n",
      "Parametros passado foi, vartuple Churros\n"
     ]
    }
   ],
   "source": [
    "# fazendo a chamada da função pelo vartuple\n",
    "print_var_teste('Chocolate', 'Bolacha', 'Churros')"
   ]
  },
  {
   "cell_type": "code",
   "execution_count": null,
   "metadata": {},
   "outputs": [],
   "source": []
  }
 ],
 "metadata": {
  "kernelspec": {
   "display_name": "Python 3",
   "language": "python",
   "name": "python3"
  },
  "language_info": {
   "codemirror_mode": {
    "name": "ipython",
    "version": 3
   },
   "file_extension": ".py",
   "mimetype": "text/x-python",
   "name": "python",
   "nbconvert_exporter": "python",
   "pygments_lexer": "ipython3",
   "version": "3.8.1"
  }
 },
 "nbformat": 4,
 "nbformat_minor": 4
}
