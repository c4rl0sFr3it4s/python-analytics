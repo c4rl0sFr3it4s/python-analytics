{
 "cells": [
  {
   "cell_type": "markdown",
   "metadata": {},
   "source": [
    "## Expressões Regulares\n",
    "Uma expressão regular é um método formal de se especificar um padrão de texto.\n",
    "Mais detalhadamente, é uma composição de símbolos, caracteres com funções especiais, que agrupados entre si e com caracteres literais, formam uma sequência, uma expressão,Essa expressão é interpretada como uma regra que indicará sucesso se uma entrada de dados qualquer casar com essa regra ou seja obdecer exatamente a todas as suas condições."
   ]
  },
  {
   "cell_type": "code",
   "execution_count": 1,
   "metadata": {},
   "outputs": [],
   "source": [
    "# importando o módulo re(regular expression)\n",
    "# Esse módulo fornece operações com expressões regulares (ER)\n",
    "import re"
   ]
  },
  {
   "cell_type": "code",
   "execution_count": 2,
   "metadata": {},
   "outputs": [],
   "source": [
    "# lista de termos para busca\n",
    "lista_pesquisa = ['informações', 'Negócios']"
   ]
  },
  {
   "cell_type": "code",
   "execution_count": 3,
   "metadata": {},
   "outputs": [],
   "source": [
    "# texto para o parse\n",
    "texto = 'Existem muitos desafios para o Big Data. O primerio deles é a coleta dos dados, pois fala-se aquie de'\\\n",
    "'enormes quantidades sendo geradas em uma taxa maior do que um servidor comum seria capaz de processar e armazenar.'\\\n",
    "'O segundo desafio é justamente o de processar essas informações. Com elas então distribuídas, a aplicação deve ser'\\\n",
    "'capaz de consumir partes das informações e gerar pequenas quantidades de dados processados, que serão calculados em'\\\n",
    "'conjunto depois para criar o resultado final. Outro desafio é a exibição dos resultados, de forma que as informações'\\\n",
    "'estejam disponíveis de forma clara para os tomadores de decisão.'"
   ]
  },
  {
   "cell_type": "code",
   "execution_count": 4,
   "metadata": {},
   "outputs": [
    {
     "name": "stdout",
     "output_type": "stream",
     "text": [
      "Buscando por \"informações\" em :\n",
      "\n",
      "\"Existem muitos desafios para o Big Data. O primerio deles é a coleta dos dados, pois fala-se aquie deenormes quantidades sendo geradas em uma taxa maior do que um servidor comum seria capaz de processar e armazenar.O segundo desafio é justamente o de processar essas informações. Com elas então distribuídas, a aplicação deve sercapaz de consumir partes das informações e gerar pequenas quantidades de dados processados, que serão calculados emconjunto depois para criar o resultado final. Outro desafio é a exibição dos resultados, de forma que as informaçõesestejam disponíveis de forma clara para os tomadores de decisão.\"\n",
      "\n",
      "\n",
      "Palavra encontrada. \n",
      "\n",
      "\n",
      "\n",
      "Buscando por \"Negócios\" em :\n",
      "\n",
      "\"Existem muitos desafios para o Big Data. O primerio deles é a coleta dos dados, pois fala-se aquie deenormes quantidades sendo geradas em uma taxa maior do que um servidor comum seria capaz de processar e armazenar.O segundo desafio é justamente o de processar essas informações. Com elas então distribuídas, a aplicação deve sercapaz de consumir partes das informações e gerar pequenas quantidades de dados processados, que serão calculados emconjunto depois para criar o resultado final. Outro desafio é a exibição dos resultados, de forma que as informaçõesestejam disponíveis de forma clara para os tomadores de decisão.\"\n",
      "\n",
      "\n",
      "Palavra não encontrada. \n",
      "\n",
      "\n",
      "\n"
     ]
    }
   ],
   "source": [
    "# exemplo básico de Data Mining\n",
    "for item in lista_pesquisa:\n",
    "    print('Buscando por \"%s\" em :\\n\\n\"%s\"'% (item, texto))\n",
    "    \n",
    "    # verificando o termo da pesquisa existe no texto\n",
    "    if re.search(item, texto):\n",
    "        print('\\n')\n",
    "        print('Palavra encontrada. \\n')\n",
    "        print('\\n')\n",
    "    else:\n",
    "        print('\\n')\n",
    "        print('Palavra não encontrada. \\n')\n",
    "        print('\\n')"
   ]
  },
  {
   "cell_type": "code",
   "execution_count": 5,
   "metadata": {},
   "outputs": [],
   "source": [
    "# termo usado para dividir uma string\n",
    "split_term = '@'"
   ]
  },
  {
   "cell_type": "code",
   "execution_count": 6,
   "metadata": {},
   "outputs": [],
   "source": [
    "frase = 'Qual o domínio de alguém com o e-mail: aluno@gamail.com'"
   ]
  },
  {
   "cell_type": "code",
   "execution_count": 7,
   "metadata": {},
   "outputs": [
    {
     "data": {
      "text/plain": [
       "['Qual o domínio de alguém com o e-mail: aluno', 'gamail.com']"
      ]
     },
     "execution_count": 7,
     "metadata": {},
     "output_type": "execute_result"
    }
   ],
   "source": [
    "# dividindo a frase\n",
    "re.split(split_term, frase)"
   ]
  },
  {
   "cell_type": "code",
   "execution_count": 8,
   "metadata": {},
   "outputs": [],
   "source": [
    "def encontrar_padrao(lista, frase):\n",
    "    \n",
    "    for item in lista:\n",
    "        print('Pesquisa na f: %r'% item)\n",
    "        print(re.findall(item, frase))\n",
    "        print('\\n')"
   ]
  },
  {
   "cell_type": "code",
   "execution_count": 9,
   "metadata": {},
   "outputs": [],
   "source": [
    "frase_padrao = 'zLzL..zzzLLL...zLLLzLLL...LzLz..dzzzzz...zLLLLL'\n",
    "\n",
    "lista_padroes = [ 'zL*',      # z seguido de zero ou mais L\n",
    "                  'zL+',      # z seguido por um ou mais L\n",
    "                  'zL?',      # z seguido por zero ou um L\n",
    "                  'zL{3}',    # z seguido por três L\n",
    "                  'zL{2, 3}', # z seguido por dois a três L\n",
    "                ]"
   ]
  },
  {
   "cell_type": "code",
   "execution_count": 10,
   "metadata": {},
   "outputs": [
    {
     "name": "stdout",
     "output_type": "stream",
     "text": [
      "Pesquisa na f: 'zL*'\n",
      "['zL', 'zL', 'z', 'z', 'zLLL', 'zLLL', 'zLLL', 'zL', 'z', 'z', 'z', 'z', 'z', 'z', 'zLLLLL']\n",
      "\n",
      "\n",
      "Pesquisa na f: 'zL+'\n",
      "['zL', 'zL', 'zLLL', 'zLLL', 'zLLL', 'zL', 'zLLLLL']\n",
      "\n",
      "\n",
      "Pesquisa na f: 'zL?'\n",
      "['zL', 'zL', 'z', 'z', 'zL', 'zL', 'zL', 'zL', 'z', 'z', 'z', 'z', 'z', 'z', 'zL']\n",
      "\n",
      "\n",
      "Pesquisa na f: 'zL{3}'\n",
      "['zLLL', 'zLLL', 'zLLL', 'zLLL']\n",
      "\n",
      "\n",
      "Pesquisa na f: 'zL{2, 3}'\n",
      "[]\n",
      "\n",
      "\n"
     ]
    }
   ],
   "source": [
    "encontrar_padrao(lista_padroes, frase_padrao)"
   ]
  },
  {
   "cell_type": "code",
   "execution_count": 12,
   "metadata": {},
   "outputs": [],
   "source": [
    "frase = 'Esta é uma string com pontuação. Isso pode ser um problema quando fazemos mineração de dados em busca'\\\n",
    "'de padrões! Não seria melhor retirar os sinais ao fim de cada frase?'"
   ]
  },
  {
   "cell_type": "code",
   "execution_count": 16,
   "metadata": {},
   "outputs": [
    {
     "data": {
      "text/plain": [
       "['Está',\n",
       " 'é',\n",
       " 'uma',\n",
       " 'frase',\n",
       " 'do',\n",
       " 'exemplo',\n",
       " 'Vamos',\n",
       " 'verificar',\n",
       " 'quais',\n",
       " 'padrões',\n",
       " 'serâo',\n",
       " 'encontradas']"
      ]
     },
     "execution_count": 16,
     "metadata": {},
     "output_type": "execute_result"
    }
   ],
   "source": [
    "# A expressão [^!.?] verifica por valores que não sejam pontuação\n",
    "# (!, ., ?) e o sinal de adição (+) verifica se o item aparece pelo menos\n",
    "# uma vez. Traduzindo: esta expressão diz: traga apenas as palavras na \n",
    "# frase\n",
    "re.findall('[^!.? ]+', frase)"
   ]
  },
  {
   "cell_type": "code",
   "execution_count": 17,
   "metadata": {},
   "outputs": [],
   "source": [
    "frase = 'Está é uma frase do exemplo. Vamos verificar quais padrões serâo encontradas.'\n",
    "lista_padroes = ['[a-z]+',        # sequência de letras minúsculas \n",
    "                 '[A-Z]+',        # sequência de letras maiúsculas\n",
    "                 '[a-zA-Z]+',     # sequência de letras minúculas e maiúsculas\n",
    "                 '[A-Z][a-z]+']   # uma letra maiúscula, seguida de uma letra minúscula"
   ]
  },
  {
   "cell_type": "code",
   "execution_count": 15,
   "metadata": {},
   "outputs": [
    {
     "name": "stdout",
     "output_type": "stream",
     "text": [
      "Pesquisa na f: '[a-z]+'\n",
      "['st', 'uma', 'frase', 'do', 'exemplo', 'amos', 'verificar', 'quais', 'padr', 'es', 'ser', 'o', 'encontradas']\n",
      "\n",
      "\n",
      "Pesquisa na f: '[A-Z]+'\n",
      "['E', 'V']\n",
      "\n",
      "\n",
      "Pesquisa na f: '[a-zA-Z]+'\n",
      "['Est', 'uma', 'frase', 'do', 'exemplo', 'Vamos', 'verificar', 'quais', 'padr', 'es', 'ser', 'o', 'encontradas']\n",
      "\n",
      "\n",
      "Pesquisa na f: '[A-Z][a-z]+'\n",
      "['Est', 'Vamos']\n",
      "\n",
      "\n"
     ]
    }
   ],
   "source": [
    "encontrar_padrao(lista_padroes, frase)"
   ]
  },
  {
   "cell_type": "markdown",
   "metadata": {},
   "source": [
    "## Escape code\n",
    "É possível usar códigos específicos para enocntrar padrões nos dados, tais como dígitos, não dígitos, espaços, etc..\n",
    "\n",
    "<table border=\"1\" class=\"docutils\">\n",
    "<colgroup>\n",
    "<col width=\"14%\" />\n",
    "<col width=\"86%\" />\n",
    "</colgroup>\n",
    "<thead valign=\"bottom\">\n",
    "<tr class=\"row-odd\"><th class=\"head\">Código</th>\n",
    "<th class=\"head\">Significado</th>\n",
    "</tr>\n",
    "</thead>\n",
    "<tbody valign=\"top\">\n",
    "<tr class=\"row-even\"><td><tt class=\"docutils literal\"><span class=\"pre\">\\d</span></tt></td>\n",
    "<td>um dígito</td>\n",
    "</tr>\n",
    "<tr class=\"row-odd\"><td><tt class=\"docutils literal\"><span class=\"pre\">\\D</span></tt></td>\n",
    "<td>um não-dígito</td>\n",
    "</tr>\n",
    "<tr class=\"row-even\"><td><tt class=\"docutils literal\"><span class=\"pre\">\\s</span></tt></td>\n",
    "<td>espaço (tab, espaço, nova linha, etc.)</td>\n",
    "</tr>\n",
    "<tr class=\"row-odd\"><td><tt class=\"docutils literal\"><span class=\"pre\">\\S</span></tt></td>\n",
    "<td>não-espaço</td>\n",
    "</tr>\n",
    "<tr class=\"row-even\"><td><tt class=\"docutils literal\"><span class=\"pre\">\\w</span></tt></td>\n",
    "<td>alfanumérico</td>\n",
    "</tr>\n",
    "<tr class=\"row-odd\"><td><tt class=\"docutils literal\"><span class=\"pre\">\\W</span></tt></td>\n",
    "<td>não-alfanumérico</td>\n",
    "</tr>\n",
    "</tbody>\n",
    "</table>"
   ]
  },
  {
   "cell_type": "code",
   "execution_count": 18,
   "metadata": {},
   "outputs": [
    {
     "data": {
      "text/plain": [
       "'\\\\b'"
      ]
     },
     "execution_count": 18,
     "metadata": {},
     "output_type": "execute_result"
    }
   ],
   "source": [
    "# O prefixo r antes da expressão regular evita o pré-processamenta da ER\n",
    "# pela linguage. Colocamos o modificador r (do inglês 'raw', crú)\n",
    "# imediatamente antes das aspas\n",
    "r'\\b'"
   ]
  },
  {
   "cell_type": "code",
   "execution_count": 19,
   "metadata": {},
   "outputs": [
    {
     "data": {
      "text/plain": [
       "'\\x08'"
      ]
     },
     "execution_count": 19,
     "metadata": {},
     "output_type": "execute_result"
    }
   ],
   "source": [
    "'\\b'"
   ]
  },
  {
   "cell_type": "code",
   "execution_count": 20,
   "metadata": {},
   "outputs": [],
   "source": [
    "frase = 'Está é uma string com alguns números, como 1287 e um símbolo #hashtag'\n",
    "\n",
    "lista_padroes = [r'\\d+', # sequência de digitos\n",
    "                 r'\\D+', # sequência de não digitos\n",
    "                 r'\\s+', # sequência de espaços\n",
    "                 r'\\S+', # sequência de não espaços\n",
    "                 r'\\w+', # caracteres alganuméricos\n",
    "                 r'\\W+', # não-alfanúmerico\n",
    "                ]"
   ]
  },
  {
   "cell_type": "code",
   "execution_count": 21,
   "metadata": {},
   "outputs": [
    {
     "name": "stdout",
     "output_type": "stream",
     "text": [
      "Pesquisa na f: '\\\\d+'\n",
      "['1287']\n",
      "\n",
      "\n",
      "Pesquisa na f: '\\\\D+'\n",
      "['Está é uma string com alguns números, como ', ' e um símbolo #hashtag']\n",
      "\n",
      "\n",
      "Pesquisa na f: '\\\\s+'\n",
      "[' ', ' ', ' ', ' ', ' ', ' ', ' ', ' ', ' ', ' ', ' ', ' ']\n",
      "\n",
      "\n",
      "Pesquisa na f: '\\\\S+'\n",
      "['Está', 'é', 'uma', 'string', 'com', 'alguns', 'números,', 'como', '1287', 'e', 'um', 'símbolo', '#hashtag']\n",
      "\n",
      "\n",
      "Pesquisa na f: '\\\\w+'\n",
      "['Está', 'é', 'uma', 'string', 'com', 'alguns', 'números', 'como', '1287', 'e', 'um', 'símbolo', 'hashtag']\n",
      "\n",
      "\n",
      "Pesquisa na f: '\\\\W+'\n",
      "[' ', ' ', ' ', ' ', ' ', ' ', ', ', ' ', ' ', ' ', ' ', ' #']\n",
      "\n",
      "\n"
     ]
    }
   ],
   "source": [
    "encontrar_padrao(lista_padroes, frase)"
   ]
  },
  {
   "cell_type": "code",
   "execution_count": null,
   "metadata": {},
   "outputs": [],
   "source": []
  }
 ],
 "metadata": {
  "kernelspec": {
   "display_name": "Python 3",
   "language": "python",
   "name": "python3"
  },
  "language_info": {
   "codemirror_mode": {
    "name": "ipython",
    "version": 3
   },
   "file_extension": ".py",
   "mimetype": "text/x-python",
   "name": "python",
   "nbconvert_exporter": "python",
   "pygments_lexer": "ipython3",
   "version": "3.7.6"
  }
 },
 "nbformat": 4,
 "nbformat_minor": 4
}
