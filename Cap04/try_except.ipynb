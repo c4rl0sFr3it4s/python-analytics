{
 "cells": [
  {
   "cell_type": "markdown",
   "metadata": {},
   "source": [
    "## try-except<br> Tratamento de erro e excessões"
   ]
  },
  {
   "cell_type": "code",
   "execution_count": 1,
   "metadata": {},
   "outputs": [
    {
     "ename": "SyntaxError",
     "evalue": "EOL while scanning string literal (<ipython-input-1-7c16554a9fac>, line 2)",
     "output_type": "error",
     "traceback": [
      "\u001b[1;36m  File \u001b[1;32m\"<ipython-input-1-7c16554a9fac>\"\u001b[1;36m, line \u001b[1;32m2\u001b[0m\n\u001b[1;33m    print('Olá)\u001b[0m\n\u001b[1;37m               ^\u001b[0m\n\u001b[1;31mSyntaxError\u001b[0m\u001b[1;31m:\u001b[0m EOL while scanning string literal\n"
     ]
    }
   ],
   "source": [
    "# gerando o 1º erro\n",
    "# importante observar a mensagem de erro que normalmente explica o erro que está acontecendo\n",
    "# uma boa prática em jupyter notebook é colocar pouco código em cada celula\n",
    "print('Olá)"
   ]
  },
  {
   "cell_type": "code",
   "execution_count": 2,
   "metadata": {},
   "outputs": [],
   "source": [
    "# criando uma função\n",
    "def numDiv(num1, num2):\n",
    "    resultado = num1 / num2\n",
    "    return resultado"
   ]
  },
  {
   "cell_type": "code",
   "execution_count": 4,
   "metadata": {},
   "outputs": [
    {
     "name": "stdout",
     "output_type": "stream",
     "text": [
      "0.5\n"
     ]
    }
   ],
   "source": [
    "# chamando a função, sem erro\n",
    "print(numDiv(2, 4))"
   ]
  },
  {
   "cell_type": "code",
   "execution_count": 5,
   "metadata": {},
   "outputs": [
    {
     "ename": "ZeroDivisionError",
     "evalue": "division by zero",
     "output_type": "error",
     "traceback": [
      "\u001b[1;31m---------------------------------------------------------------------------\u001b[0m",
      "\u001b[1;31mZeroDivisionError\u001b[0m                         Traceback (most recent call last)",
      "\u001b[1;32m<ipython-input-5-dcd75603c851>\u001b[0m in \u001b[0;36m<module>\u001b[1;34m\u001b[0m\n\u001b[0;32m      1\u001b[0m \u001b[1;31m# execução genrando erro\u001b[0m\u001b[1;33m\u001b[0m\u001b[1;33m\u001b[0m\u001b[1;33m\u001b[0m\u001b[0m\n\u001b[1;32m----> 2\u001b[1;33m \u001b[0mprint\u001b[0m\u001b[1;33m(\u001b[0m\u001b[0mnumDiv\u001b[0m\u001b[1;33m(\u001b[0m\u001b[1;36m2\u001b[0m\u001b[1;33m,\u001b[0m \u001b[1;36m0\u001b[0m\u001b[1;33m)\u001b[0m\u001b[1;33m)\u001b[0m\u001b[1;33m\u001b[0m\u001b[1;33m\u001b[0m\u001b[0m\n\u001b[0m",
      "\u001b[1;32m<ipython-input-2-f8edcfa5b1ae>\u001b[0m in \u001b[0;36mnumDiv\u001b[1;34m(num1, num2)\u001b[0m\n\u001b[0;32m      1\u001b[0m \u001b[1;31m# criando uma função\u001b[0m\u001b[1;33m\u001b[0m\u001b[1;33m\u001b[0m\u001b[1;33m\u001b[0m\u001b[0m\n\u001b[0;32m      2\u001b[0m \u001b[1;32mdef\u001b[0m \u001b[0mnumDiv\u001b[0m\u001b[1;33m(\u001b[0m\u001b[0mnum1\u001b[0m\u001b[1;33m,\u001b[0m \u001b[0mnum2\u001b[0m\u001b[1;33m)\u001b[0m\u001b[1;33m:\u001b[0m\u001b[1;33m\u001b[0m\u001b[1;33m\u001b[0m\u001b[0m\n\u001b[1;32m----> 3\u001b[1;33m     \u001b[0mresultado\u001b[0m \u001b[1;33m=\u001b[0m \u001b[0mnum1\u001b[0m \u001b[1;33m/\u001b[0m \u001b[0mnum2\u001b[0m\u001b[1;33m\u001b[0m\u001b[1;33m\u001b[0m\u001b[0m\n\u001b[0m\u001b[0;32m      4\u001b[0m     \u001b[1;32mreturn\u001b[0m \u001b[0mresultado\u001b[0m\u001b[1;33m\u001b[0m\u001b[1;33m\u001b[0m\u001b[0m\n",
      "\u001b[1;31mZeroDivisionError\u001b[0m: division by zero"
     ]
    }
   ],
   "source": [
    "# execução genrando erro\n",
    "print(numDiv(2, 0))"
   ]
  },
  {
   "cell_type": "markdown",
   "metadata": {},
   "source": [
    "## try, except, finally"
   ]
  },
  {
   "cell_type": "code",
   "execution_count": 7,
   "metadata": {},
   "outputs": [
    {
     "ename": "TypeError",
     "evalue": "unsupported operand type(s) for +: 'int' and 'str'",
     "output_type": "error",
     "traceback": [
      "\u001b[1;31m---------------------------------------------------------------------------\u001b[0m",
      "\u001b[1;31mTypeError\u001b[0m                                 Traceback (most recent call last)",
      "\u001b[1;32m<ipython-input-7-a8aa49a375aa>\u001b[0m in \u001b[0;36m<module>\u001b[1;34m\u001b[0m\n\u001b[0;32m      1\u001b[0m \u001b[1;31m## gerando 1º erro\u001b[0m\u001b[1;33m\u001b[0m\u001b[1;33m\u001b[0m\u001b[1;33m\u001b[0m\u001b[0m\n\u001b[1;32m----> 2\u001b[1;33m \u001b[1;36m8\u001b[0m \u001b[1;33m+\u001b[0m \u001b[1;34m'a'\u001b[0m\u001b[1;33m\u001b[0m\u001b[1;33m\u001b[0m\u001b[0m\n\u001b[0m",
      "\u001b[1;31mTypeError\u001b[0m: unsupported operand type(s) for +: 'int' and 'str'"
     ]
    }
   ],
   "source": [
    "## gerando 1º erro\n",
    "8 + 'a'"
   ]
  },
  {
   "cell_type": "code",
   "execution_count": 8,
   "metadata": {},
   "outputs": [
    {
     "name": "stdout",
     "output_type": "stream",
     "text": [
      "Operação não consedida! \n"
     ]
    }
   ],
   "source": [
    "# utilizando try, except\n",
    "try:\n",
    "    8 + 'a'\n",
    "except TypeError:\n",
    "    print('Operação não consedida! ')"
   ]
  },
  {
   "cell_type": "code",
   "execution_count": 10,
   "metadata": {},
   "outputs": [
    {
     "name": "stdout",
     "output_type": "stream",
     "text": [
      "Arquivo gravado com sucesso!\n"
     ]
    }
   ],
   "source": [
    "# utilizando try, exeption, else\n",
    "try:\n",
    "    f = open('C:/pythonFundamentos/Cap04/Notebooks/arquivos/testandoerros.txt', 'w')\n",
    "    f.write('Gravando no arquivo')\n",
    "except IOError:\n",
    "    print('Arquivo não pode ser encontrado!')\n",
    "else:\n",
    "    print('Arquivo gravado com sucesso!')\n",
    "    f.close()\n",
    "    "
   ]
  },
  {
   "cell_type": "code",
   "execution_count": 11,
   "metadata": {},
   "outputs": [
    {
     "name": "stdout",
     "output_type": "stream",
     "text": [
      "Arquivo não encontrado! \n"
     ]
    }
   ],
   "source": [
    "# utilizando try, exeption, else simulando erro na busca pelo arquivo\n",
    "# não explode o erro na tela entra na excessão\n",
    "try:\n",
    "    f = open('C:/pythonFundamentos/Cap04/Notebooks/arquivos/testeandoerros', 'r')\n",
    "    texto = f.read()\n",
    "except IOError:\n",
    "    print('Arquivo não encontrado! ')\n",
    "else:\n",
    "    print('Arquivo aberto com sucesso! ')\n",
    "    f.close()"
   ]
  },
  {
   "cell_type": "code",
   "execution_count": 12,
   "metadata": {},
   "outputs": [
    {
     "name": "stdout",
     "output_type": "stream",
     "text": [
      "Conteúdo gravado com sucesso! \n",
      "Comando finally sempre será executado. \n"
     ]
    }
   ],
   "source": [
    "# executando try, exeption, else, finally será sempre executado independente do erro\n",
    "try:\n",
    "    f = open('C:/pythonFundamentos/Cap04/Notebooks/arquivos/testandoerros.txt', 'w')\n",
    "    f.write('Gavando no arquivo.')\n",
    "except IOError:\n",
    "    print('Erro! arquivo não encontrado ou não pode ser salvo! ')\n",
    "else:\n",
    "    print('Conteúdo gravado com sucesso! ')\n",
    "finally:\n",
    "    print('Comando finally sempre será executado. ')\n",
    "    f.close()"
   ]
  },
  {
   "cell_type": "code",
   "execution_count": 16,
   "metadata": {},
   "outputs": [],
   "source": [
    "# função com tratamento e exeções\n",
    "# entrada do enter é quebra de carro, quebra de linha, um caractere \\n\n",
    "def askInt():\n",
    "    try:\n",
    "        num = int(input('Digite um número: '))\n",
    "    except UnboundLocalError:\n",
    "        print('Voçê não digitou um número: ')\n",
    "    finally:\n",
    "        print('Obrigado!')\n",
    "    return num"
   ]
  },
  {
   "cell_type": "code",
   "execution_count": 18,
   "metadata": {},
   "outputs": [
    {
     "name": "stdout",
     "output_type": "stream",
     "text": [
      "Digite um número: \n",
      "Obrigado!\n"
     ]
    },
    {
     "ename": "ValueError",
     "evalue": "invalid literal for int() with base 10: ''",
     "output_type": "error",
     "traceback": [
      "\u001b[1;31m---------------------------------------------------------------------------\u001b[0m",
      "\u001b[1;31mValueError\u001b[0m                                Traceback (most recent call last)",
      "\u001b[1;32m<ipython-input-18-bf61fdcc040d>\u001b[0m in \u001b[0;36m<module>\u001b[1;34m\u001b[0m\n\u001b[0;32m      1\u001b[0m \u001b[1;31m# tecle enter e observe o erro gerado pelo literal\u001b[0m\u001b[1;33m\u001b[0m\u001b[1;33m\u001b[0m\u001b[1;33m\u001b[0m\u001b[0m\n\u001b[1;32m----> 2\u001b[1;33m \u001b[0maskInt\u001b[0m\u001b[1;33m(\u001b[0m\u001b[1;33m)\u001b[0m\u001b[1;33m\u001b[0m\u001b[1;33m\u001b[0m\u001b[0m\n\u001b[0m",
      "\u001b[1;32m<ipython-input-16-604dd3ef848c>\u001b[0m in \u001b[0;36maskInt\u001b[1;34m()\u001b[0m\n\u001b[0;32m      3\u001b[0m \u001b[1;32mdef\u001b[0m \u001b[0maskInt\u001b[0m\u001b[1;33m(\u001b[0m\u001b[1;33m)\u001b[0m\u001b[1;33m:\u001b[0m\u001b[1;33m\u001b[0m\u001b[1;33m\u001b[0m\u001b[0m\n\u001b[0;32m      4\u001b[0m     \u001b[1;32mtry\u001b[0m\u001b[1;33m:\u001b[0m\u001b[1;33m\u001b[0m\u001b[1;33m\u001b[0m\u001b[0m\n\u001b[1;32m----> 5\u001b[1;33m         \u001b[0mnum\u001b[0m \u001b[1;33m=\u001b[0m \u001b[0mint\u001b[0m\u001b[1;33m(\u001b[0m\u001b[0minput\u001b[0m\u001b[1;33m(\u001b[0m\u001b[1;34m'Digite um número: '\u001b[0m\u001b[1;33m)\u001b[0m\u001b[1;33m)\u001b[0m\u001b[1;33m\u001b[0m\u001b[1;33m\u001b[0m\u001b[0m\n\u001b[0m\u001b[0;32m      6\u001b[0m     \u001b[1;32mexcept\u001b[0m \u001b[0mUnboundLocalError\u001b[0m\u001b[1;33m:\u001b[0m\u001b[1;33m\u001b[0m\u001b[1;33m\u001b[0m\u001b[0m\n\u001b[0;32m      7\u001b[0m         \u001b[0mprint\u001b[0m\u001b[1;33m(\u001b[0m\u001b[1;34m'Voçê não digitou um número: '\u001b[0m\u001b[1;33m)\u001b[0m\u001b[1;33m\u001b[0m\u001b[1;33m\u001b[0m\u001b[0m\n",
      "\u001b[1;31mValueError\u001b[0m: invalid literal for int() with base 10: ''"
     ]
    }
   ],
   "source": [
    "# tecle enter e observe o erro gerado pelo literal\n",
    "askInt()"
   ]
  },
  {
   "cell_type": "code",
   "execution_count": 23,
   "metadata": {},
   "outputs": [],
   "source": [
    "# obtendo valor na exeção, sem especificar o tipo de exceção\n",
    "def askInt():\n",
    "    try:\n",
    "        num = int(input('Digite um número: '))\n",
    "    except:\n",
    "        print('Voçê não digitou um número! ')\n",
    "        num = int(input('Digite um número! '))\n",
    "    finally:\n",
    "        print('Obrigado!')\n",
    "    return num"
   ]
  },
  {
   "cell_type": "code",
   "execution_count": 24,
   "metadata": {},
   "outputs": [
    {
     "name": "stdout",
     "output_type": "stream",
     "text": [
      "Digite um número: \n",
      "Voçê não digitou um número! \n",
      "Digite um número! 10\n",
      "Obrigado!\n"
     ]
    },
    {
     "data": {
      "text/plain": [
       "10"
      ]
     },
     "execution_count": 24,
     "metadata": {},
     "output_type": "execute_result"
    }
   ],
   "source": [
    "askInt()"
   ]
  },
  {
   "cell_type": "code",
   "execution_count": 33,
   "metadata": {},
   "outputs": [],
   "source": [
    "# utilizando try, exception, else, finally, o continue fica interagindo com o loop até preencher a variável\n",
    "def askInt():\n",
    "    while True:\n",
    "        try:\n",
    "            num = int(input('Digite um número: '))\n",
    "        except:\n",
    "            print('Você não digitou um número: ')\n",
    "            continue\n",
    "        else:\n",
    "            print('Obrigado por digitar um número: ')\n",
    "            break\n",
    "        finally:\n",
    "            print('Fim da execução! ')\n",
    "\n",
    "            print(num)"
   ]
  },
  {
   "cell_type": "code",
   "execution_count": 34,
   "metadata": {},
   "outputs": [
    {
     "name": "stdout",
     "output_type": "stream",
     "text": [
      "Digite um número: 1\n",
      "Obrigado por digitar um número: \n",
      "Fim da execução! \n",
      "1\n"
     ]
    }
   ],
   "source": [
    "# chamando a função\n",
    "askInt()"
   ]
  },
  {
   "cell_type": "code",
   "execution_count": 35,
   "metadata": {},
   "outputs": [
    {
     "name": "stdout",
     "output_type": "stream",
     "text": [
      "Error 'tuple' object has no attribute 'append'\n"
     ]
    }
   ],
   "source": [
    "# excessões capturando o código de erro, em tupla não é imutavél\n",
    "tuple = (1, 2, 3, 4, 5)\n",
    "try:\n",
    "    tuple.append(6)\n",
    "    for each in tuple:\n",
    "        print(each)\n",
    "except AttributeError as e:\n",
    "    print('Error', e)\n",
    "except IOError as e:\n",
    "    print('Error de I/O:', e)\n",
    "    "
   ]
  },
  {
   "cell_type": "markdown",
   "metadata": {},
   "source": [
    "## Fim"
   ]
  }
 ],
 "metadata": {
  "kernelspec": {
   "display_name": "Python 3",
   "language": "python",
   "name": "python3"
  },
  "language_info": {
   "codemirror_mode": {
    "name": "ipython",
    "version": 3
   },
   "file_extension": ".py",
   "mimetype": "text/x-python",
   "name": "python",
   "nbconvert_exporter": "python",
   "pygments_lexer": "ipython3",
   "version": "3.7.4"
  }
 },
 "nbformat": 4,
 "nbformat_minor": 2
}
