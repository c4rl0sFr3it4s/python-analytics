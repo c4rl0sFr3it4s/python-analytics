{
 "cells": [
  {
   "cell_type": "markdown",
   "metadata": {},
   "source": [
    "## Zip"
   ]
  },
  {
   "cell_type": "code",
   "execution_count": 2,
   "metadata": {},
   "outputs": [
    {
     "name": "stdout",
     "output_type": "stream",
     "text": [
      "[(1, 4), (2, 5), (3, 6)]\n"
     ]
    }
   ],
   "source": [
    "# criando listas, enumaretor\n",
    "x = [1, 2, 3]\n",
    "y = [4, 5, 6]\n",
    "# zip retorna um iterator precisa executar alguma coisa para ver o resultado\n",
    "# dentro de uma lista retorna uma tupla da união dos valores\n",
    "print(list(zip(x, y)))"
   ]
  },
  {
   "cell_type": "code",
   "execution_count": 4,
   "metadata": {},
   "outputs": [
    {
     "name": "stdout",
     "output_type": "stream",
     "text": [
      "[('A', 'D'), ('B', 'E'), ('C', 'F')]\n"
     ]
    }
   ],
   "source": [
    "# listando string, sempre retornando o valor da menor sequência\n",
    "print(list(zip('ABC', 'DEFGH')))"
   ]
  },
  {
   "cell_type": "code",
   "execution_count": 5,
   "metadata": {},
   "outputs": [
    {
     "name": "stdout",
     "output_type": "stream",
     "text": [
      "[('a', 'c'), ('b', 'd')]\n"
     ]
    }
   ],
   "source": [
    "# usando em dicionários\n",
    "d1 = {'a': 1, 'b': 2}\n",
    "d2 = {'c': 3, 'd': 4}\n",
    "# trabalhar apenas com \n",
    "print(list(zip(d1, d2)))"
   ]
  },
  {
   "cell_type": "code",
   "execution_count": 6,
   "metadata": {},
   "outputs": [
    {
     "name": "stdout",
     "output_type": "stream",
     "text": [
      "[('a', 3), ('b', 4)]\n"
     ]
    }
   ],
   "source": [
    "# zip pode unir as keys com os values dos itens\n",
    "print(list(zip(d1, d2.values())))"
   ]
  },
  {
   "cell_type": "code",
   "execution_count": 7,
   "metadata": {},
   "outputs": [],
   "source": [
    "# criando uma função para trocar valores entre 2 dicionários\n",
    "def troca_valores(d1, d2):\n",
    "    dictTemp = {}\n",
    "    \n",
    "    for dicKey, dicValue in zip(d1, d2.values()):\n",
    "        dictTemp[dicKey] = dicValue\n",
    "        \n",
    "    return dictTemp"
   ]
  },
  {
   "cell_type": "code",
   "execution_count": 8,
   "metadata": {},
   "outputs": [
    {
     "name": "stdout",
     "output_type": "stream",
     "text": [
      "{'a': 3, 'b': 4}\n"
     ]
    }
   ],
   "source": [
    "# passando d1, d2 como paramêtro\n",
    "print(troca_valores(d1, d2))"
   ]
  },
  {
   "cell_type": "code",
   "execution_count": null,
   "metadata": {},
   "outputs": [],
   "source": []
  }
 ],
 "metadata": {
  "kernelspec": {
   "display_name": "Python 3",
   "language": "python",
   "name": "python3"
  },
  "language_info": {
   "codemirror_mode": {
    "name": "ipython",
    "version": 3
   },
   "file_extension": ".py",
   "mimetype": "text/x-python",
   "name": "python",
   "nbconvert_exporter": "python",
   "pygments_lexer": "ipython3",
   "version": "3.7.4"
  }
 },
 "nbformat": 4,
 "nbformat_minor": 2
}
