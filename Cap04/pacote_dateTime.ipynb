{
 "cells": [
  {
   "cell_type": "markdown",
   "metadata": {},
   "source": [
    "## Datetime<br>Este módulo permite a manipulação de datas em python"
   ]
  },
  {
   "cell_type": "code",
   "execution_count": 1,
   "metadata": {},
   "outputs": [],
   "source": [
    "# improtando o módulo\n",
    "import datetime"
   ]
  },
  {
   "cell_type": "code",
   "execution_count": 2,
   "metadata": {},
   "outputs": [],
   "source": [
    "# pegando a data atual\n",
    "agora = datetime.datetime.now()"
   ]
  },
  {
   "cell_type": "code",
   "execution_count": 3,
   "metadata": {},
   "outputs": [
    {
     "name": "stdout",
     "output_type": "stream",
     "text": [
      "2020-03-09 10:51:55.514761\n"
     ]
    }
   ],
   "source": [
    "#imprimindo a idexação da váriavel, year, moth, day, hour, \n",
    "print(agora)"
   ]
  },
  {
   "cell_type": "code",
   "execution_count": 7,
   "metadata": {},
   "outputs": [],
   "source": [
    "# formatando a hora, não aceita 0\n",
    "t = datetime.time(9, 3, 19)"
   ]
  },
  {
   "cell_type": "code",
   "execution_count": 8,
   "metadata": {},
   "outputs": [
    {
     "name": "stdout",
     "output_type": "stream",
     "text": [
      "09:03:19\n"
     ]
    }
   ],
   "source": [
    "# imprimindo hora criada\n",
    "print(t)"
   ]
  },
  {
   "cell_type": "code",
   "execution_count": 9,
   "metadata": {},
   "outputs": [
    {
     "name": "stdout",
     "output_type": "stream",
     "text": [
      "Hora:  9\n",
      "Minutos:  3\n",
      "Segundos:  19\n",
      "Milesegundos:  0\n"
     ]
    }
   ],
   "source": [
    "# apartir do objeto criado t podemos extrair alguns dados\n",
    "print('Hora: ', t.hour)\n",
    "print('Minutos: ', t.minute)\n",
    "print('Segundos: ', t.second)\n",
    "print('Milesegundos: ', t.microsecond)"
   ]
  },
  {
   "cell_type": "code",
   "execution_count": 33,
   "metadata": {},
   "outputs": [
    {
     "name": "stdout",
     "output_type": "stream",
     "text": [
      "00:00:00\n"
     ]
    }
   ],
   "source": [
    "# retornando o minuto de hoje\n",
    "print(datetime.time.min)"
   ]
  },
  {
   "cell_type": "code",
   "execution_count": 22,
   "metadata": {},
   "outputs": [],
   "source": [
    "# data de hoje\n",
    "hoje = datetime.date.today()"
   ]
  },
  {
   "cell_type": "code",
   "execution_count": 26,
   "metadata": {},
   "outputs": [
    {
     "name": "stdout",
     "output_type": "stream",
     "text": [
      "Data atual:  2020-03-09\n",
      "Ano:  2020\n",
      "Mês:  3\n",
      "Dia 9\n"
     ]
    }
   ],
   "source": [
    "# imprimindo a data\n",
    "print('Data atual: ', hoje)\n",
    "print('Ano: ', hoje.year)\n",
    "print('Mês: ', hoje.month)\n",
    "print('Dia', hoje.day)"
   ]
  },
  {
   "cell_type": "code",
   "execution_count": 27,
   "metadata": {},
   "outputs": [],
   "source": [
    "# manipulando elementos da data\n",
    "d1 = datetime.date(2015, 4, 28)"
   ]
  },
  {
   "cell_type": "code",
   "execution_count": 28,
   "metadata": {},
   "outputs": [
    {
     "name": "stdout",
     "output_type": "stream",
     "text": [
      "2016-04-28\n"
     ]
    }
   ],
   "source": [
    "# trocando elemeto da data\n",
    "d2 = d1.replace(year=2016)\n",
    "print(d2)"
   ]
  },
  {
   "cell_type": "code",
   "execution_count": 29,
   "metadata": {},
   "outputs": [],
   "source": [
    "# operação de diferençã desta duas datas\n",
    "diferenca = d1 - d2"
   ]
  },
  {
   "cell_type": "code",
   "execution_count": 30,
   "metadata": {},
   "outputs": [
    {
     "name": "stdout",
     "output_type": "stream",
     "text": [
      "-366 days, 0:00:00\n"
     ]
    }
   ],
   "source": [
    "print(diferenca)"
   ]
  },
  {
   "cell_type": "markdown",
   "metadata": {},
   "source": [
    "## Fim"
   ]
  }
 ],
 "metadata": {
  "kernelspec": {
   "display_name": "Python 3",
   "language": "python",
   "name": "python3"
  },
  "language_info": {
   "codemirror_mode": {
    "name": "ipython",
    "version": 3
   },
   "file_extension": ".py",
   "mimetype": "text/x-python",
   "name": "python",
   "nbconvert_exporter": "python",
   "pygments_lexer": "ipython3",
   "version": "3.7.4"
  }
 },
 "nbformat": 4,
 "nbformat_minor": 2
}
