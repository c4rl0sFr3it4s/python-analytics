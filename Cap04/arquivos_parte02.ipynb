{
 "cells": [
  {
   "cell_type": "markdown",
   "metadata": {},
   "source": [
    "## Manipulação de arquivo"
   ]
  },
  {
   "cell_type": "markdown",
   "metadata": {},
   "source": [
    "## <ul><li>Arquivo .txt</li><li>Arquivo .csv</li><li>Arquivo .json</li></ul>"
   ]
  },
  {
   "cell_type": "markdown",
   "metadata": {},
   "source": [
    "## Manipulando arquivos de texto"
   ]
  },
  {
   "cell_type": "code",
   "execution_count": 18,
   "metadata": {},
   "outputs": [],
   "source": [
    "texto = 'Cientista de dados é a profissão que mais tem crescrido no mundo.\\n'\n",
    "texto = texto + 'Estes profissionais precisam se profissionalizar em programação estátistica e machine learning.\\n'\n",
    "texto += 'É claro, em Big Data'"
   ]
  },
  {
   "cell_type": "code",
   "execution_count": 19,
   "metadata": {},
   "outputs": [
    {
     "name": "stdout",
     "output_type": "stream",
     "text": [
      "Cientista de dados é a profissão que mais tem crescrido no mundo.\n",
      "Estes profissionais precisam se profissionalizar em programação estátistica e machine learning.\n",
      "É claro, em Big Data\n"
     ]
    }
   ],
   "source": [
    "print(texto)"
   ]
  },
  {
   "cell_type": "code",
   "execution_count": 20,
   "metadata": {},
   "outputs": [],
   "source": [
    "# importando o pacote os, pacote sistema operacional serve para você, manipular arquivos, diretórios, manipular variáveis de ambiente\n",
    "import os"
   ]
  },
  {
   "cell_type": "code",
   "execution_count": 21,
   "metadata": {},
   "outputs": [],
   "source": [
    "# criando o arquivo, funcao join, modulo path, pacote os\n",
    "arquivo = open(os.path.join('Notebooks/arquivos/cientista.txt'), 'w')"
   ]
  },
  {
   "cell_type": "code",
   "execution_count": 22,
   "metadata": {},
   "outputs": [],
   "source": [
    "# escrevendo string indexada na palavra no arquivo\n",
    "# texto é uma sequência então para cada palavra em uma sequência de caractere, vai concatena palavra concatenado com ' '\n",
    "for palavra in texto.split():\n",
    "    arquivo.write(palavra+ ' ')"
   ]
  },
  {
   "cell_type": "code",
   "execution_count": 23,
   "metadata": {},
   "outputs": [],
   "source": [
    "# fechando arquivo, em modo escrita\n",
    "arquivo.close()"
   ]
  },
  {
   "cell_type": "code",
   "execution_count": 24,
   "metadata": {},
   "outputs": [],
   "source": [
    "# abrindo o arquivo em modo leitura\n",
    "arquivo = open('Notebooks/arquivos/cientista.txt', 'r')"
   ]
  },
  {
   "cell_type": "code",
   "execution_count": 25,
   "metadata": {},
   "outputs": [],
   "source": [
    "# lendo o arquivo e idexando\n",
    "conteudo = arquivo.read()\n",
    "# fechando o arquivo\n",
    "arquivo.close()"
   ]
  },
  {
   "cell_type": "code",
   "execution_count": 26,
   "metadata": {},
   "outputs": [
    {
     "name": "stdout",
     "output_type": "stream",
     "text": [
      "Cientista de dados é a profissão que mais tem crescrido no mundo. Estes profissionais precisam se profissionalizar em programação estátistica e machine learning. É claro, em Big Data \n"
     ]
    }
   ],
   "source": [
    "print(conteudo)"
   ]
  },
  {
   "cell_type": "markdown",
   "metadata": {},
   "source": [
    "## Usando a expressão with (com)"
   ]
  },
  {
   "cell_type": "markdown",
   "metadata": {},
   "source": [
    "## <h4>O metodo close() fecha automáticamente</h4>"
   ]
  },
  {
   "cell_type": "code",
   "execution_count": 32,
   "metadata": {},
   "outputs": [],
   "source": [
    "# com arquivo aberto como arquivo, faça leitura de um arquivo e guarde em uma variável\n",
    "with open('Notebooks/arquivos/cientista.txt', 'r') as arquivo:\n",
    "    conteudo = arquivo.read()"
   ]
  },
  {
   "cell_type": "code",
   "execution_count": 29,
   "metadata": {},
   "outputs": [
    {
     "name": "stdout",
     "output_type": "stream",
     "text": [
      "183\n"
     ]
    }
   ],
   "source": [
    "# imprimindo a quantidade de dados do conteudo\n",
    "print(len(conteudo))"
   ]
  },
  {
   "cell_type": "code",
   "execution_count": 31,
   "metadata": {},
   "outputs": [
    {
     "name": "stdout",
     "output_type": "stream",
     "text": [
      "Cientista de dados é a profissão que mais tem crescrido no mundo. Estes profissionais precisam se profissionalizar em programação estátistica e machine learning. É claro, em Big Data \n"
     ]
    }
   ],
   "source": [
    "# imprimindo o conteudo\n",
    "print(conteudo)"
   ]
  },
  {
   "cell_type": "code",
   "execution_count": 36,
   "metadata": {},
   "outputs": [],
   "source": [
    "# usando sequência slice, quando você trabalha com uma sequência de caractere você pode acessar esta sequência\n",
    "with open('Notebooks/arquivos/cientista.txt', 'w') as arquivo:\n",
    "    arquivo.write(texto[:21])\n",
    "    arquivo.write('\\n')\n",
    "    arquivo.write(texto[:33])"
   ]
  },
  {
   "cell_type": "code",
   "execution_count": 38,
   "metadata": {},
   "outputs": [
    {
     "name": "stdout",
     "output_type": "stream",
     "text": [
      "Cientista de dados é \n",
      "Cientista de dados é a profissão \n"
     ]
    }
   ],
   "source": [
    "# lendo arquivo\n",
    "arquivo = open('Notebooks/arquivos/cientista.txt', 'r')\n",
    "conteudo = arquivo.read()\n",
    "arquivo.close()\n",
    "print(conteudo)"
   ]
  },
  {
   "cell_type": "markdown",
   "metadata": {},
   "source": [
    "## Manipulando arquivos csv(comma-separated values)"
   ]
  },
  {
   "cell_type": "code",
   "execution_count": 17,
   "metadata": {},
   "outputs": [],
   "source": [
    "# importando modulo csv\n",
    "import csv"
   ]
  },
  {
   "cell_type": "code",
   "execution_count": 18,
   "metadata": {},
   "outputs": [],
   "source": [
    "with open('Notebooks/arquivos/numeros.csv', 'w') as arquivo:\n",
    "    writer = csv.writer(arquivo)\n",
    "    writer.writerow(('primeira','segunda','terceira'))\n",
    "    writer.writerow((55,93,76)) \n",
    "    writer.writerow((62,14,86))"
   ]
  },
  {
   "cell_type": "code",
   "execution_count": 19,
   "metadata": {},
   "outputs": [
    {
     "name": "stdout",
     "output_type": "stream",
     "text": [
      "Número de colunas: 3\n",
      "['primeira', 'segunda', 'terceira']\n",
      "Número de colunas: 3\n",
      "['55', '93', '76']\n",
      "Número de colunas: 3\n",
      "['62', '14', '86']\n"
     ]
    }
   ],
   "source": [
    "# leitura do arquivo csv\n",
    "with open('Notebooks/arquivos/numeros.csv', 'r', encoding='utf8', newline = '\\r\\n') as arquivo:\n",
    "    leitor = csv.reader(arquivo)\n",
    "    for x in leitor:\n",
    "        print('Número de colunas:', len(x))\n",
    "        print(x)"
   ]
  },
  {
   "cell_type": "code",
   "execution_count": 21,
   "metadata": {},
   "outputs": [
    {
     "name": "stdout",
     "output_type": "stream",
     "text": [
      "[['primeira', 'segunda', 'terceira'], ['55', '93', '76'], ['62', '14', '86']]\n"
     ]
    }
   ],
   "source": [
    "# gerando uma lista com dados do arquivo csv\n",
    "# isto é muito importante porque transformamos arquivo em objeto em python.\n",
    "with open('Notebooks/arquivos/numeros.csv', 'r', encoding='utf8', newline = '\\r\\n') as arquivo:\n",
    "    leitor = csv.reader(arquivo)\n",
    "    dados = list(leitor)\n",
    "    \n",
    "print(dados)\n",
    "    "
   ]
  },
  {
   "cell_type": "code",
   "execution_count": 22,
   "metadata": {},
   "outputs": [
    {
     "name": "stdout",
     "output_type": "stream",
     "text": [
      "['55', '93', '76']\n",
      "['62', '14', '86']\n"
     ]
    }
   ],
   "source": [
    "# iteragindo com a lista, tirando o cabeçalho\n",
    "for linha in dados[1:]:\n",
    "    print(linha)"
   ]
  },
  {
   "cell_type": "markdown",
   "metadata": {},
   "source": [
    "## Manipulando arquivos JSON (java script object notation)\n",
    "## <h4>Json(java script objetct notation) É uma maneira de armazenar informações de forma organizada, e de facíl acesso, Em outras palavras eles nos dá uma coleção legivél de dados que podem ser acessados de uma forma muito lógica, Pode ser uma fonte de Big Data.</h4>"
   ]
  },
  {
   "cell_type": "code",
   "execution_count": 23,
   "metadata": {},
   "outputs": [],
   "source": [
    "# criando um dicionário\n",
    "dict = {'nome': 'Guido Van Russum',\n",
    "        'linguagem': 'Python', \n",
    "        'similar': ['c', 'modula-3', 'lisp'], \n",
    "       'users': 1000000}"
   ]
  },
  {
   "cell_type": "code",
   "execution_count": 25,
   "metadata": {},
   "outputs": [
    {
     "name": "stdout",
     "output_type": "stream",
     "text": [
      "nome Guido Van Russum\n",
      "linguagem Python\n",
      "similar ['c', 'modula-3', 'lisp']\n",
      "users 1000000\n"
     ]
    }
   ],
   "source": [
    "# iteração em key e value do dicionario\n",
    "for k, v in dict.items():\n",
    "    print(k, v)"
   ]
  },
  {
   "cell_type": "code",
   "execution_count": 26,
   "metadata": {},
   "outputs": [],
   "source": [
    "# importando o pacote json\n",
    "import json"
   ]
  },
  {
   "cell_type": "code",
   "execution_count": 28,
   "metadata": {},
   "outputs": [
    {
     "data": {
      "text/plain": [
       "'{\"nome\": \"Guido Van Russum\", \"linguagem\": \"Python\", \"similar\": [\"c\", \"modula-3\", \"lisp\"], \"users\": 1000000}'"
      ]
     },
     "execution_count": 28,
     "metadata": {},
     "output_type": "execute_result"
    }
   ],
   "source": [
    "# convertendo um objeto dicionario para json\n",
    "json.dumps(dict)"
   ]
  },
  {
   "cell_type": "code",
   "execution_count": 31,
   "metadata": {},
   "outputs": [],
   "source": [
    "# criando um arquivo json\n",
    "with open('C:/pythonFundamentos/Cap04/Notebooks/arquivos/dados.json', 'w') as arquivo:\n",
    "    arquivo.write(json.dumps(dict))"
   ]
  },
  {
   "cell_type": "code",
   "execution_count": 32,
   "metadata": {},
   "outputs": [
    {
     "name": "stdout",
     "output_type": "stream",
     "text": [
      "{'nome': 'Guido van Rossum', 'linguagem': 'Python', 'similar': ['c', 'Modula-3', 'lisp'], 'users': 1000000}\n"
     ]
    }
   ],
   "source": [
    "# abrindo o arquivo json\n",
    "with open('C:/pythonFundamentos/Cap04/Notebooks/arquivos/dados.json', 'r') as arquivo:\n",
    "    texto = arquivo.read()\n",
    "    data = json.loads(texto)\n",
    "    \n",
    "print(data)"
   ]
  },
  {
   "cell_type": "code",
   "execution_count": 33,
   "metadata": {},
   "outputs": [
    {
     "name": "stdout",
     "output_type": "stream",
     "text": [
      "Guido van Rossum\n"
     ]
    }
   ],
   "source": [
    "# acessando item do json apartir da chave\n",
    "print(data['nome'])"
   ]
  },
  {
   "cell_type": "code",
   "execution_count": 34,
   "metadata": {},
   "outputs": [],
   "source": [
    "# imprimindo um arquivo json copiado da internet\n",
    "from urllib.request import urlopen\n",
    "\n",
    "response = urlopen('http://vimeo.com/api/v2/video/57733101.json').read().decode('utf-8')\n",
    "data = json.loads(response)[0]"
   ]
  },
  {
   "cell_type": "code",
   "execution_count": 40,
   "metadata": {},
   "outputs": [
    {
     "name": "stdout",
     "output_type": "stream",
     "text": [
      "id : 57733101\n",
      "title : The Good Man trailer\n",
      "description : Trailer for the Manifesto Films production, The Good Man, now available in UK/Ireland/US/Canada/Australia/New Zealand on iTunes (https://itunes.apple.com/us/movie/the-good-man/id873130906) and DVD (http://www.amazon.co.uk/The-Good-Man-Aiden-Gillen/dp/B00IIK6CGU/). Co-production with Jet Black Entertainment (South Africa). Starring Aidan Gillen, Thabang Sidloyi, Kelly Campbell, Lunathi Mampofu. Written & directed by Phil Harrison. More info at www.thegoodmanfilm.com<br />\r\n",
      "<br />\r\n",
      "Check out the Variety Magazine review here: http://www.variety.com/review/VE1117947909/\n",
      "url : https://vimeo.com/57733101\n",
      "upload_date : 2013-01-19 04:01:15\n",
      "thumbnail_small : http://i.vimeocdn.com/video/436057121_100x75.jpg\n",
      "thumbnail_medium : http://i.vimeocdn.com/video/436057121_200x150.jpg\n",
      "thumbnail_large : http://i.vimeocdn.com/video/436057121_640.jpg\n",
      "user_id : 1334563\n",
      "user_name : Manifesto Films\n",
      "user_url : https://vimeo.com/manifestofilms\n",
      "user_portrait_small : http://i.vimeocdn.com/portrait/4778306_30x30\n",
      "user_portrait_medium : http://i.vimeocdn.com/portrait/4778306_75x75\n",
      "user_portrait_large : http://i.vimeocdn.com/portrait/4778306_100x100\n",
      "user_portrait_huge : http://i.vimeocdn.com/portrait/4778306_300x300\n",
      "stats_number_of_likes : 17\n",
      "stats_number_of_plays : 5867\n",
      "stats_number_of_comments : 0\n",
      "duration : 143\n",
      "width : 640\n",
      "height : 360\n",
      "tags : film, ireland, africa, cape town, belfast\n",
      "embed_privacy : anywhere\n"
     ]
    }
   ],
   "source": [
    "for k, v in data.items():\n",
    "    print(k, ':', v)"
   ]
  },
  {
   "cell_type": "code",
   "execution_count": 41,
   "metadata": {},
   "outputs": [
    {
     "name": "stdout",
     "output_type": "stream",
     "text": [
      "Titulo:  The Good Man trailer\n",
      "URL:  https://vimeo.com/57733101\n",
      "Duração:  143\n",
      "Numero de visualizações:  5867\n"
     ]
    }
   ],
   "source": [
    "# acessando item do objeto\n",
    "print('Titulo: ', data['title'])\n",
    "print('URL: ', data['url'])\n",
    "print('Duração: ', data['duration'])\n",
    "print('Numero de visualizações: ', data['stats_number_of_plays'])"
   ]
  },
  {
   "cell_type": "code",
   "execution_count": 46,
   "metadata": {},
   "outputs": [],
   "source": [
    "# copiando dados de arquivo para outros, manipulando no S.O\n",
    "import os\n",
    "arquivo_fonte = 'C:/pythonFundamentos/Cap04/Notebooks/arquivos/dados.json'\n",
    "arquivo_destino = 'C:/pythonFundamentos/Cap04/Notebooks/arquivos/json_data.txt'\n"
   ]
  },
  {
   "cell_type": "code",
   "execution_count": 50,
   "metadata": {},
   "outputs": [],
   "source": [
    "# metodo 01, metodo with\n",
    "with open('C:/pythonFundamentos/Cap04/Notebooks/arquivos/dados.json', 'r') as infile:\n",
    "    texto = infile.read()\n",
    "    with open('C:/pythonFundamentos/Cap04/Notebooks/arquivos/json_data.txt', 'w') as outfile:\n",
    "        outfile.write(texto)"
   ]
  },
  {
   "cell_type": "code",
   "execution_count": 51,
   "metadata": {},
   "outputs": [
    {
     "data": {
      "text/plain": [
       "107"
      ]
     },
     "execution_count": 51,
     "metadata": {},
     "output_type": "execute_result"
    }
   ],
   "source": [
    "# metodo 02, metodos concatenados\n",
    "open(arquivo_destino, 'w').write(open(arquivo_fonte, 'r').read())"
   ]
  },
  {
   "cell_type": "code",
   "execution_count": 53,
   "metadata": {},
   "outputs": [
    {
     "name": "stdout",
     "output_type": "stream",
     "text": [
      "{'nome': 'Guido van Rossum', 'linguagem': 'Python', 'similar': ['c', 'Modula-3', 'lisp'], 'users': 1000000}\n"
     ]
    }
   ],
   "source": [
    "# fazendo a leitura do arquivo\n",
    "with open('C:/pythonFundamentos/Cap04/Notebooks/arquivos/json_data.txt') as arquivo:\n",
    "    texto = arquivo.read()\n",
    "    data = json.loads(texto)\n",
    "\n",
    "print(data)"
   ]
  },
  {
   "cell_type": "markdown",
   "metadata": {},
   "source": [
    "## Fim"
   ]
  }
 ],
 "metadata": {
  "kernelspec": {
   "display_name": "Python 3",
   "language": "python",
   "name": "python3"
  },
  "language_info": {
   "codemirror_mode": {
    "name": "ipython",
    "version": 3
   },
   "file_extension": ".py",
   "mimetype": "text/x-python",
   "name": "python",
   "nbconvert_exporter": "python",
   "pygments_lexer": "ipython3",
   "version": "3.7.4"
  }
 },
 "nbformat": 4,
 "nbformat_minor": 4
}
