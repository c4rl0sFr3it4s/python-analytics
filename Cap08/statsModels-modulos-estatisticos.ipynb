{
 "cells": [
  {
   "cell_type": "markdown",
   "metadata": {},
   "source": [
    "## StatsModels"
   ]
  },
  {
   "cell_type": "markdown",
   "metadata": {},
   "source": [
    "### Linear Regression Models"
   ]
  },
  {
   "cell_type": "code",
   "execution_count": 1,
   "metadata": {},
   "outputs": [],
   "source": [
    "# para visualização dos gráficos\n",
    "# paylab gráfico de 2 dimensões\n",
    "\n",
    "from pylab import *\n",
    "%matplotlib inline"
   ]
  },
  {
   "cell_type": "code",
   "execution_count": 9,
   "metadata": {},
   "outputs": [
    {
     "name": "stderr",
     "output_type": "stream",
     "text": [
      "/home/carlos-freitas/anaconda3/lib/python3.7/importlib/_bootstrap.py:219: RuntimeWarning: numpy.ufunc size changed, may indicate binary incompatibility. Expected 192 from C header, got 216 from PyObject\n",
      "  return f(*args, **kwds)\n"
     ]
    }
   ],
   "source": [
    "# importando pacote numpy \n",
    "# impotando pacote pandas \n",
    "# importando pacote statsmodels\n",
    "\n",
    "import numpy as np\n",
    "import pandas as pd\n",
    "import statsmodels.api as sm\n",
    "from statsmodels.sandbox.regression.predstd import wls_prediction_std\n",
    "\n",
    "# gerando semente\n",
    "np.random.seed(9876789)"
   ]
  },
  {
   "cell_type": "code",
   "execution_count": 7,
   "metadata": {},
   "outputs": [],
   "source": [
    "# criando dados artificialmente \n",
    "nsample = 100\n",
    "\n",
    "# start, stop, step\n",
    "x = np.linspace(0, 10, 100)\n",
    "\n",
    "x = np.column_stack((x, x ** 2))\n",
    "\n",
    "beta = np.array([1, 0.1, 10])\n",
    "e = np.random.normal(size = nsample)"
   ]
  },
  {
   "cell_type": "code",
   "execution_count": 10,
   "metadata": {},
   "outputs": [],
   "source": [
    "# fazendo uma analíse\n",
    "x = sm.add_constant(x)\n",
    "y = np.dot(x, beta) + e"
   ]
  },
  {
   "cell_type": "code",
   "execution_count": 12,
   "metadata": {},
   "outputs": [
    {
     "name": "stdout",
     "output_type": "stream",
     "text": [
      "                            OLS Regression Results                            \n",
      "==============================================================================\n",
      "Dep. Variable:                      y   R-squared:                       1.000\n",
      "Model:                            OLS   Adj. R-squared:                  1.000\n",
      "Method:                 Least Squares   F-statistic:                 4.020e+06\n",
      "Date:                Wed, 25 Mar 2020   Prob (F-statistic):          2.83e-239\n",
      "Time:                        16:50:33   Log-Likelihood:                -146.51\n",
      "No. Observations:                 100   AIC:                             299.0\n",
      "Df Residuals:                      97   BIC:                             306.8\n",
      "Df Model:                           2                                         \n",
      "Covariance Type:            nonrobust                                         \n",
      "==============================================================================\n",
      "                 coef    std err          t      P>|t|      [0.025      0.975]\n",
      "------------------------------------------------------------------------------\n",
      "const          1.3423      0.313      4.292      0.000       0.722       1.963\n",
      "x1            -0.0402      0.145     -0.278      0.781      -0.327       0.247\n",
      "x2            10.0103      0.014    715.745      0.000       9.982      10.038\n",
      "==============================================================================\n",
      "Omnibus:                        2.042   Durbin-Watson:                   2.274\n",
      "Prob(Omnibus):                  0.360   Jarque-Bera (JB):                1.875\n",
      "Skew:                           0.234   Prob(JB):                        0.392\n",
      "Kurtosis:                       2.519   Cond. No.                         144.\n",
      "==============================================================================\n",
      "\n",
      "Warnings:\n",
      "[1] Standard Errors assume that the covariance matrix of the errors is correctly specified.\n"
     ]
    }
   ],
   "source": [
    "# criando um modelo\n",
    "model = sm.OLS(y, x)\n",
    "results = model.fit()\n",
    "print(results.summary())"
   ]
  },
  {
   "cell_type": "markdown",
   "metadata": {},
   "source": [
    "## Tabela de Regressão"
   ]
  },
  {
   "cell_type": "code",
   "execution_count": 13,
   "metadata": {},
   "outputs": [
    {
     "name": "stdout",
     "output_type": "stream",
     "text": [
      "Parameters:  [ 1.34233516 -0.04024948 10.01025357]\n",
      "R2 0.9999879365025871\n"
     ]
    }
   ],
   "source": [
    "# mostrando parametros\n",
    "# mostrando erros\n",
    "# mostrando os valores predicatos\n",
    "print('Parameters: ', results.params)\n",
    "print('R2', results.rsquared)"
   ]
  },
  {
   "cell_type": "code",
   "execution_count": 14,
   "metadata": {},
   "outputs": [
    {
     "name": "stdout",
     "output_type": "stream",
     "text": [
      "                            OLS Regression Results                            \n",
      "==============================================================================\n",
      "Dep. Variable:                      y   R-squared:                       0.998\n",
      "Model:                            OLS   Adj. R-squared:                  0.998\n",
      "Method:                 Least Squares   F-statistic:                     6635.\n",
      "Date:                Wed, 25 Mar 2020   Prob (F-statistic):           1.21e-60\n",
      "Time:                        17:02:04   Log-Likelihood:                -38.308\n",
      "No. Observations:                  50   AIC:                             84.62\n",
      "Df Residuals:                      46   BIC:                             92.26\n",
      "Df Model:                           3                                         \n",
      "Covariance Type:            nonrobust                                         \n",
      "==============================================================================\n",
      "                 coef    std err          t      P>|t|      [0.025      0.975]\n",
      "------------------------------------------------------------------------------\n",
      "x1             0.4704      0.029     16.487      0.000       0.413       0.528\n",
      "x2             0.2931      0.112      2.613      0.012       0.067       0.519\n",
      "x3            -0.1983      0.003    -79.145      0.000      -0.203      -0.193\n",
      "const          5.2494      0.185     28.375      0.000       4.877       5.622\n",
      "==============================================================================\n",
      "Omnibus:                        1.779   Durbin-Watson:                   2.359\n",
      "Prob(Omnibus):                  0.411   Jarque-Bera (JB):                1.440\n",
      "Skew:                           0.414   Prob(JB):                        0.487\n",
      "Kurtosis:                       2.933   Cond. No.                         221.\n",
      "==============================================================================\n",
      "\n",
      "Warnings:\n",
      "[1] Standard Errors assume that the covariance matrix of the errors is correctly specified.\n"
     ]
    }
   ],
   "source": [
    "# criação de dados fecticios\n",
    "\n",
    "nsample = 50\n",
    "sig = 0.5\n",
    "x = np.linspace(0, 20, nsample)\n",
    "x = np.column_stack((x, np.sin(x), (x-5) ** 2, np.ones(nsample)))\n",
    "beta = [0.5, 0.5, -0.20, 5.]\n",
    "\n",
    "y_true = np.dot(x, beta)\n",
    "y = y_true + sig * np.random.normal(size = nsample)\n",
    "\n",
    "res = sm.OLS(y, x).fit()\n",
    "print(res.summary())"
   ]
  },
  {
   "cell_type": "code",
   "execution_count": 15,
   "metadata": {},
   "outputs": [
    {
     "name": "stdout",
     "output_type": "stream",
     "text": [
      "Paramentros:  [ 0.47040466  0.2931004  -0.19826292  5.24935422]\n",
      "Standard errosrs:  [0.02853117 0.11215937 0.00250506 0.18499717]\n",
      "Predicted values:  [  0.29278116   1.37732805   2.37670071   3.27492544   4.06179335\n",
      "   4.73453767   5.29828834   5.76522914   6.15259596   6.47984497\n",
      "   6.76545605   7.02389655   7.26324443   7.48386099   7.67833154\n",
      "   7.83268364   7.92868268   7.94682782   7.86955591   7.68412704\n",
      "   7.38471771   6.97337758   6.45969277   5.85921081   5.19088628\n",
      "   4.47396662   3.72482981   2.95429355   2.16583788   1.3550335\n",
      "   0.51026942  -0.38533935  -1.35117764  -2.40594527  -3.56458471\n",
      "  -4.83582607  -6.22075279  -7.71262359  -9.29798009 -10.95885795\n",
      " -12.6757384  -14.43075507 -16.21062941 -18.00885232 -19.82675357\n",
      " -21.67328332 -23.56354165 -25.51629765 -27.55090568 -29.68412557]\n"
     ]
    }
   ],
   "source": [
    "# mostrando paramentros\n",
    "# mostrando standard errors\n",
    "# mostrando predicted values\n",
    "\n",
    "print('Paramentros: ', res.params)\n",
    "print('Standard errosrs: ', res.bse)\n",
    "print('Predicted values: ', res.predict())"
   ]
  },
  {
   "cell_type": "code",
   "execution_count": null,
   "metadata": {},
   "outputs": [],
   "source": []
  }
 ],
 "metadata": {
  "kernelspec": {
   "display_name": "Python 3",
   "language": "python",
   "name": "python3"
  },
  "language_info": {
   "codemirror_mode": {
    "name": "ipython",
    "version": 3
   },
   "file_extension": ".py",
   "mimetype": "text/x-python",
   "name": "python",
   "nbconvert_exporter": "python",
   "pygments_lexer": "ipython3",
   "version": "3.7.6"
  }
 },
 "nbformat": 4,
 "nbformat_minor": 4
}
