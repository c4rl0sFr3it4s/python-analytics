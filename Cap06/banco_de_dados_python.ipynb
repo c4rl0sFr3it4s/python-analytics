{
 "cells": [
  {
   "cell_type": "markdown",
   "metadata": {},
   "source": [
    "## Acessando Banco de Dados com Python<br>Documentação SQLite <a href='https://www.sqlite.org/docs.html'>w.w.w.sqlite.org.docs.html</a>"
   ]
  },
  {
   "cell_type": "code",
   "execution_count": 3,
   "metadata": {},
   "outputs": [],
   "source": [
    "# importando pacote os, sqlite 3\n",
    "import os\n",
    "import sqlite3\n",
    "\n",
    "# remove o arquivo com o banco de dados SQLite (caso exista) \n",
    "os.remove('escola.db') if os.path.exists('escola.db') else None"
   ]
  },
  {
   "cell_type": "code",
   "execution_count": 4,
   "metadata": {},
   "outputs": [],
   "source": [
    "# cria uma conexão com o BD\n",
    "# Se não existir ele é criado neste momento\n",
    "con = sqlite3.connect('escola.db')"
   ]
  },
  {
   "cell_type": "code",
   "execution_count": 6,
   "metadata": {},
   "outputs": [
    {
     "name": "stdout",
     "output_type": "stream",
     "text": [
      "<class 'sqlite3.Connection'>\n"
     ]
    }
   ],
   "source": [
    "# tipo de dados do objeto con\n",
    "print(type(con))"
   ]
  },
  {
   "cell_type": "code",
   "execution_count": 7,
   "metadata": {},
   "outputs": [],
   "source": [
    "# criando um cursor \n",
    "# um cursor permite percorrer todos os registros em um conjunto de dados\n",
    "cur = con.cursor()"
   ]
  },
  {
   "cell_type": "code",
   "execution_count": 8,
   "metadata": {},
   "outputs": [
    {
     "name": "stdout",
     "output_type": "stream",
     "text": [
      "<class 'sqlite3.Cursor'>\n"
     ]
    }
   ],
   "source": [
    "# tipo do objeto cursor\n",
    "print(type(cur))"
   ]
  },
  {
   "cell_type": "code",
   "execution_count": 13,
   "metadata": {},
   "outputs": [],
   "source": [
    "# criando um String com instrução DDL em SQL\n",
    "sql_create = 'create table cursos'\\\n",
    "'(id integer primary key, '\\\n",
    "'titulo varchar(100), '\\\n",
    "'categoria varchar(140))'"
   ]
  },
  {
   "cell_type": "code",
   "execution_count": 14,
   "metadata": {},
   "outputs": [
    {
     "data": {
      "text/plain": [
       "<sqlite3.Cursor at 0x1a21cde21f0>"
      ]
     },
     "execution_count": 14,
     "metadata": {},
     "output_type": "execute_result"
    }
   ],
   "source": [
    "# Executando a instrução DDL no cursor\n",
    "cur.execute(sql_create)"
   ]
  },
  {
   "cell_type": "code",
   "execution_count": 15,
   "metadata": {},
   "outputs": [],
   "source": [
    "# criando outra senteça SQL DDL para inserir registros\n",
    "sql_insert = 'insert into cursos values (?, ?, ?)'"
   ]
  },
  {
   "cell_type": "code",
   "execution_count": 16,
   "metadata": {},
   "outputs": [],
   "source": [
    "# dados\n",
    "recset = [(1000, 'Ciência de Dados', 'Data Science'),\n",
    "         (1001, 'Big Data Fundamentos', 'Big Data'),\n",
    "         (1002, 'Python Fundamentos', 'Análise de Dados')]"
   ]
  },
  {
   "cell_type": "code",
   "execution_count": 17,
   "metadata": {},
   "outputs": [],
   "source": [
    "# inserindo os registros\n",
    "for rec in recset:\n",
    "    cur.execute(sql_insert, rec)"
   ]
  },
  {
   "cell_type": "code",
   "execution_count": 18,
   "metadata": {},
   "outputs": [],
   "source": [
    "# gravar a transação\n",
    "con.commit()"
   ]
  },
  {
   "cell_type": "code",
   "execution_count": 19,
   "metadata": {},
   "outputs": [],
   "source": [
    "# cirando outra setença SQl para selecionar registros\n",
    "sql_select = 'select * from cursos'"
   ]
  },
  {
   "cell_type": "code",
   "execution_count": 20,
   "metadata": {},
   "outputs": [],
   "source": [
    "# selecionando todos os registros e recuperaros registros\n",
    "cur.execute(sql_select)\n",
    "dados = cur.fetchall()"
   ]
  },
  {
   "cell_type": "code",
   "execution_count": 21,
   "metadata": {},
   "outputs": [
    {
     "name": "stdout",
     "output_type": "stream",
     "text": [
      "Curso Id: 1000, Titulo: Ciência de Dados, Categoria Data Science \n",
      "\n",
      "Curso Id: 1001, Titulo: Big Data Fundamentos, Categoria Big Data \n",
      "\n",
      "Curso Id: 1002, Titulo: Python Fundamentos, Categoria Análise de Dados \n",
      "\n"
     ]
    }
   ],
   "source": [
    "# mostrar\n",
    "# % percent caracter magic in jupyter, more string %s \n",
    "for row in dados:\n",
    "    print('Curso Id: %s, Titulo: %s, Categoria %s \\n' %row)"
   ]
  },
  {
   "cell_type": "code",
   "execution_count": 24,
   "metadata": {},
   "outputs": [],
   "source": [
    "# gerando outros registros\n",
    "recset = [(1003, 'Gestão de Dados com MongoDB', 'Big Data'),\n",
    "         (1004, 'R Fundamentos', 'Analise de Dados')]\n",
    "\n",
    "# inserindo os registros\n",
    "for rec in recset:\n",
    "    cur.execute(sql_insert, rec)\n",
    "\n",
    "# gravando transação\n",
    "con.commit()"
   ]
  },
  {
   "cell_type": "code",
   "execution_count": 26,
   "metadata": {},
   "outputs": [
    {
     "name": "stdout",
     "output_type": "stream",
     "text": [
      "Cursos Id: 1000, Titulo Ciência de Dados, Categoria Data Science\n",
      "Cursos Id: 1001, Titulo Big Data Fundamentos, Categoria Big Data\n",
      "Cursos Id: 1002, Titulo Python Fundamentos, Categoria Análise de Dados\n",
      "Cursos Id: 1003, Titulo Gestão de Dados com MongoDB, Categoria Big Data\n",
      "Cursos Id: 1004, Titulo R Fundamentos, Categoria Analise de Dados\n"
     ]
    }
   ],
   "source": [
    "# selecionando todos os registros\n",
    "cur.execute('select * from cursos')\n",
    "\n",
    "# Recuperar os resultados\n",
    "recset = cur.fetchall()\n",
    "\n",
    "# mostrar\n",
    "for rec in recset:\n",
    "    print('Cursos Id: %s, Titulo %s, Categoria %s' %rec)"
   ]
  },
  {
   "cell_type": "code",
   "execution_count": 27,
   "metadata": {},
   "outputs": [],
   "source": [
    "# fecha a conezão\n",
    "con.close()"
   ]
  },
  {
   "cell_type": "markdown",
   "metadata": {},
   "source": [
    "## Fim"
   ]
  }
 ],
 "metadata": {
  "kernelspec": {
   "display_name": "Python 3",
   "language": "python",
   "name": "python3"
  },
  "language_info": {
   "codemirror_mode": {
    "name": "ipython",
    "version": 3
   },
   "file_extension": ".py",
   "mimetype": "text/x-python",
   "name": "python",
   "nbconvert_exporter": "python",
   "pygments_lexer": "ipython3",
   "version": "3.7.4"
  }
 },
 "nbformat": 4,
 "nbformat_minor": 2
}
