{
 "cells": [
  {
   "cell_type": "markdown",
   "metadata": {},
   "source": [
    "## Gravando dados no MongoDB com PyMongo"
   ]
  },
  {
   "cell_type": "code",
   "execution_count": 2,
   "metadata": {},
   "outputs": [
    {
     "name": "stdout",
     "output_type": "stream",
     "text": [
      "Collecting pymongo\n",
      "  Downloading https://files.pythonhosted.org/packages/5b/df/d0f82279467c72dd0c8cd1908e04a7fb56145a5d222704722e2593af79f1/pymongo-3.10.1-cp37-cp37m-win_amd64.whl (354kB)\n",
      "Installing collected packages: pymongo\n",
      "Successfully installed pymongo-3.10.1\n"
     ]
    }
   ],
   "source": [
    "# instalando pacote pymongo\n",
    "# ! será executado no sistema operacional não no jupyter notebook\n",
    "!pip install pymongo"
   ]
  },
  {
   "cell_type": "code",
   "execution_count": 4,
   "metadata": {},
   "outputs": [],
   "source": [
    "# importando o MongoCliente para conectar nossa aplicação ao MongoDB\n",
    "from pymongo import MongoClient"
   ]
  },
  {
   "cell_type": "markdown",
   "metadata": {},
   "source": [
    "## Caso o PyMongo não esteja instalado, abra um prompt de comando e execute: pip install pymongo"
   ]
  },
  {
   "cell_type": "code",
   "execution_count": 5,
   "metadata": {},
   "outputs": [],
   "source": [
    "# estabelecendo conexão com MongoDB\n",
    "conn = MongoClient('localhost', 27017)"
   ]
  },
  {
   "cell_type": "code",
   "execution_count": 6,
   "metadata": {},
   "outputs": [
    {
     "data": {
      "text/plain": [
       "pymongo.mongo_client.MongoClient"
      ]
     },
     "execution_count": 6,
     "metadata": {},
     "output_type": "execute_result"
    }
   ],
   "source": [
    "# qual tipo do objeto\n",
    "# pymongo é uma conexão do mongoDB\n",
    "type(conn)"
   ]
  },
  {
   "cell_type": "code",
   "execution_count": 9,
   "metadata": {},
   "outputs": [],
   "source": [
    "# Uma única instância do MongoDB pode suportar diversos bancos de dados\n",
    "# Vamos criar o banco de dados cadastrodb\n",
    "db = conn.cadastrodb"
   ]
  },
  {
   "cell_type": "code",
   "execution_count": 10,
   "metadata": {},
   "outputs": [
    {
     "name": "stdout",
     "output_type": "stream",
     "text": [
      "<class 'pymongo.database.Database'>\n"
     ]
    }
   ],
   "source": [
    "# tipo do objeto db\n",
    "print(type(db))"
   ]
  },
  {
   "cell_type": "code",
   "execution_count": 11,
   "metadata": {},
   "outputs": [],
   "source": [
    "# uma coleção é um grupo de documentos armazenados no MongoDB\n",
    "# (relativamente parecido com o conceito de tabelas em bancos relacionais)\n",
    "# cadastrodb é o nome da coluna no mongoDB\n",
    "collections = db.cadastrodb"
   ]
  },
  {
   "cell_type": "code",
   "execution_count": 12,
   "metadata": {},
   "outputs": [
    {
     "name": "stdout",
     "output_type": "stream",
     "text": [
      "<class 'pymongo.collection.Collection'>\n"
     ]
    }
   ],
   "source": [
    "# tipo objeto collections\n",
    "print(type(collections))"
   ]
  },
  {
   "cell_type": "markdown",
   "metadata": {},
   "source": [
    "## <h5><font color='red'>Uma nota importante sobre collections(em bancos de dados) no MongoDB é que eles são criados posteriormente - nenhum dos comandos acima executou efetivamente qualquer operação no servidor MongoDB. Coleção e bancos de dados são criadas quando o primeiro documento é inserido.</font></h5>"
   ]
  },
  {
   "cell_type": "code",
   "execution_count": 13,
   "metadata": {},
   "outputs": [],
   "source": [
    "# importando pacote datetime\n",
    "import datetime"
   ]
  },
  {
   "cell_type": "markdown",
   "metadata": {},
   "source": [
    "## <h5>Dados no MongoDB são representados (e armazenados) usando documentos JSON(Java Script Object Notation). Com O PyMongo usamos dicionários para representar documentos</h5> "
   ]
  },
  {
   "cell_type": "code",
   "execution_count": 14,
   "metadata": {},
   "outputs": [],
   "source": [
    "# criando um dicionário\n",
    "# utcnow() pega uma data disponível agora no sistema operacional\n",
    "post1 = {'codigo': 'ID-9987725',\n",
    "        'prod_name': 'Geladeira',\n",
    "        'marcas': ['Brastemp', 'Consul', 'Eletrolux'],\n",
    "        'data_cadastro': datetime.datetime.utcnow()}"
   ]
  },
  {
   "cell_type": "code",
   "execution_count": 15,
   "metadata": {},
   "outputs": [
    {
     "name": "stdout",
     "output_type": "stream",
     "text": [
      "<class 'dict'>\n"
     ]
    }
   ],
   "source": [
    "# tipo do objeto post1\n",
    "print(type(post1))"
   ]
  },
  {
   "cell_type": "code",
   "execution_count": 16,
   "metadata": {},
   "outputs": [],
   "source": [
    "# criando uma instância da postagem\n",
    "collections = db.posts"
   ]
  },
  {
   "cell_type": "code",
   "execution_count": 17,
   "metadata": {},
   "outputs": [],
   "source": [
    "# inserindo documento\n",
    "# post_id vai receber uma chave especial do documento inserido\n",
    "post_id = collections.insert_one(post1)"
   ]
  },
  {
   "cell_type": "code",
   "execution_count": 18,
   "metadata": {},
   "outputs": [
    {
     "data": {
      "text/plain": [
       "ObjectId('5e722a20d25248562cd91425')"
      ]
     },
     "execution_count": 18,
     "metadata": {},
     "output_type": "execute_result"
    }
   ],
   "source": [
    "# mostrando o id do documento inserido\n",
    "post_id.inserted_id"
   ]
  },
  {
   "cell_type": "code",
   "execution_count": 19,
   "metadata": {},
   "outputs": [
    {
     "data": {
      "text/plain": [
       "<pymongo.results.InsertOneResult at 0x285b6cd7f08>"
      ]
     },
     "execution_count": 19,
     "metadata": {},
     "output_type": "execute_result"
    }
   ],
   "source": [
    "# quando um documento é inserido uma chave especial '_id', é adicionada\n",
    "# automaticamente se o documento ainda não contém uma chave '_id'\n",
    "post_id"
   ]
  },
  {
   "cell_type": "code",
   "execution_count": 20,
   "metadata": {},
   "outputs": [],
   "source": [
    "# inserindo o segundo registro \n",
    "# podemos considerar um conjunto de dados semi-estruturado\n",
    "# a instrutura é estruturada por se tratar de um dicionário\n",
    "# porém os valores são diferentes por conter uma lista como valor\n",
    "post2 = {'codigo': 'ID-2209876',\n",
    "        'prod_name': 'Televisor',\n",
    "        'Marcas': ['Samsung', 'Panasonic', 'Lg'],\n",
    "        'data_cadastro': datetime.datetime.utcnow()}"
   ]
  },
  {
   "cell_type": "code",
   "execution_count": 21,
   "metadata": {},
   "outputs": [],
   "source": [
    "# criando instância de postagem\n",
    "collections = db.posts"
   ]
  },
  {
   "cell_type": "code",
   "execution_count": 22,
   "metadata": {},
   "outputs": [],
   "source": [
    "# inserindo documento\n",
    "post_2 = collections.insert_one(post2).inserted_id"
   ]
  },
  {
   "cell_type": "code",
   "execution_count": 25,
   "metadata": {},
   "outputs": [
    {
     "data": {
      "text/plain": [
       "<pymongo.results.InsertOneResult at 0x285b9e221c8>"
      ]
     },
     "execution_count": 25,
     "metadata": {},
     "output_type": "execute_result"
    }
   ],
   "source": [
    "# id do post_2\n",
    "post_2"
   ]
  },
  {
   "cell_type": "code",
   "execution_count": 27,
   "metadata": {},
   "outputs": [
    {
     "data": {
      "text/plain": [
       "<pymongo.cursor.Cursor at 0x285bae2c648>"
      ]
     },
     "execution_count": 27,
     "metadata": {},
     "output_type": "execute_result"
    }
   ],
   "source": [
    "# utilizando find\n",
    "# retorna um cursor que aponta para os ids das collections\n",
    "collections.find({'prod_name': 'Televisor'})"
   ]
  },
  {
   "cell_type": "code",
   "execution_count": 28,
   "metadata": {},
   "outputs": [
    {
     "name": "stdout",
     "output_type": "stream",
     "text": [
      "{'_id': ObjectId('5e722a20d25248562cd91425'), 'codigo': 'ID-9987725', 'prod_name': 'Geladeira', 'marcas': ['Brastemp', 'Consul', 'Eletrolux'], 'data_cadastro': datetime.datetime(2020, 3, 18, 13, 50, 44, 819000)}\n",
      "{'_id': ObjectId('5e722c06d25248562cd91426'), 'codigo': 'ID-2209876', 'prod_name': 'Televisor', 'Marcas': ['Samsung', 'Panasonic', 'Lg'], 'data_cadastro': datetime.datetime(2020, 3, 18, 14, 9, 42, 189000)}\n"
     ]
    }
   ],
   "source": [
    "# através do collections.find(), retorno um cursor\n",
    "# imprimo na tela\n",
    "# temo s_id: objectId('5e722a20d25248562cd9142') que é a chave depois os valores\n",
    "for post in collections.find():\n",
    "    print(post)"
   ]
  },
  {
   "cell_type": "code",
   "execution_count": 29,
   "metadata": {},
   "outputs": [
    {
     "data": {
      "text/plain": [
       "'cadastrodb'"
      ]
     },
     "execution_count": 29,
     "metadata": {},
     "output_type": "execute_result"
    }
   ],
   "source": [
    "# verificando o nome do banco de dados\n",
    "db.name"
   ]
  },
  {
   "cell_type": "code",
   "execution_count": 31,
   "metadata": {},
   "outputs": [
    {
     "data": {
      "text/plain": [
       "['posts']"
      ]
     },
     "execution_count": 31,
     "metadata": {},
     "output_type": "execute_result"
    }
   ],
   "source": [
    "# listando as coleções disponiveis\n",
    "# coleções são as tabelas\n",
    "db.list_collection_names()"
   ]
  },
  {
   "cell_type": "markdown",
   "metadata": {},
   "source": [
    "##  <h5>O que muitas empresas fazem por ai você faz uma aplicação qualquer, para acessar uma página web, está aplicação gera um arquivo JSON, o JSON é enviado para o MongoDB e gravado no Banco de Dados.<br>Voçê ainda nestas condições não está armazenado dados estruturados ainda estamos fazendo um DataLake, armazenando dados semi-estruturados, não-estruturados\n",
    "</h5> "
   ]
  },
  {
   "cell_type": "markdown",
   "metadata": {},
   "source": [
    "## Fim"
   ]
  }
 ],
 "metadata": {
  "kernelspec": {
   "display_name": "Python 3",
   "language": "python",
   "name": "python3"
  },
  "language_info": {
   "codemirror_mode": {
    "name": "ipython",
    "version": 3
   },
   "file_extension": ".py",
   "mimetype": "text/x-python",
   "name": "python",
   "nbconvert_exporter": "python",
   "pygments_lexer": "ipython3",
   "version": "3.7.4"
  }
 },
 "nbformat": 4,
 "nbformat_minor": 2
}
