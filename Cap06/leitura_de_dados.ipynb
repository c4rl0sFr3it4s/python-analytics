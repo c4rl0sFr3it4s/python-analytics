{
 "cells": [
  {
   "cell_type": "markdown",
   "metadata": {},
   "source": [
    "## Leitura de Dados"
   ]
  },
  {
   "cell_type": "code",
   "execution_count": 1,
   "metadata": {},
   "outputs": [],
   "source": [
    "# importando pacotes, sqlite, random, time, datetime\n",
    "import sqlite3\n",
    "import random\n",
    "import datetime\n",
    "import time"
   ]
  },
  {
   "cell_type": "code",
   "execution_count": 11,
   "metadata": {},
   "outputs": [],
   "source": [
    "# criando conexão, com arquivo SQLite produtos\n",
    "conn = sqlite3.connect('produtos.db')\n",
    "\n",
    "# criando cursor\n",
    "cur = conn.cursor()"
   ]
  },
  {
   "cell_type": "code",
   "execution_count": 45,
   "metadata": {},
   "outputs": [],
   "source": [
    "# criando tabela\n",
    "def create_table():\n",
    "    cur.execute('CREATE TABLE IF NOT EXISTS produtos (id INTEGER PRIMARY KEY NOT NULL,'\\\n",
    "                ' date TEXT,'\\\n",
    "                ' prod_name TEXT,'\\\n",
    "                ' valor REAL)')\n",
    "    \n",
    "# inserindo na tabela\n",
    "def data_insert(prod):\n",
    "    new_date = datetime.datetime.now()\n",
    "    new_prod = prod\n",
    "    valor = random.randrange(50, 100)\n",
    "    cur.execute(\"INSERT INTO produtos (date, prod_name, valor)\"\\\n",
    "    \"VALUES (?, ?, ?)\", (new_date, new_prod, valor))\n",
    "    # gravando os registros\n",
    "    conn.commit()\n",
    "    \n",
    "# selecionando todos valores\n",
    "def data_select_all():\n",
    "    cur.execute('SELECT * FROM produtos')\n",
    "    produtos = cur.fetchall()\n",
    "    return produtos\n",
    "\n",
    "# leitura de registros especificos\n",
    "def data_log_specific():\n",
    "    cur.execute('SELECT valor FROM produtos WHERE valor >= 60.0')\n",
    "    for linha in cur.fetchall():\n",
    "        print(linha)\n",
    "        \n",
    "# selecionando colunas especificas\n",
    "def data_select_specific_column(valor):\n",
    "    cur.execute('SELECT * FROM produtos')\n",
    "    for linha in cur.fetchall():\n",
    "        print('Valor: ', linha[valor])\n",
    "        \n",
    "# fechando cursor e conexão\n",
    "def close():\n",
    "    cur.close()\n",
    "    conn.close()"
   ]
  },
  {
   "cell_type": "code",
   "execution_count": 15,
   "metadata": {},
   "outputs": [],
   "source": [
    "# recuperando valor do db\n",
    "def data_print(produtos):\n",
    "    count = 1\n",
    "    for produto in produtos:\n",
    "        print(str(count)+ '-'+ 'Id: %s, Data: %s, Nome: %s, Valor %s' %produto)\n",
    "        count += 1"
   ]
  },
  {
   "cell_type": "code",
   "execution_count": 6,
   "metadata": {},
   "outputs": [],
   "source": [
    "# inserindo um novo produto\n",
    "data_insert('Mouse')"
   ]
  },
  {
   "cell_type": "code",
   "execution_count": 12,
   "metadata": {},
   "outputs": [],
   "source": [
    "# selecionando produtos, que recebe produtos \n",
    "produtos = data_select_all()"
   ]
  },
  {
   "cell_type": "code",
   "execution_count": 18,
   "metadata": {},
   "outputs": [
    {
     "name": "stdout",
     "output_type": "stream",
     "text": [
      "1-Id: 1, Data: 2020-03-17 10:18:39.712008, Nome: Monitor, Valor 56.0\n",
      "2-Id: 2, Data: 2020-03-17 10:18:40.736482, Nome: Monitor, Valor 77.0\n",
      "3-Id: 3, Data: 2020-03-17 10:18:41.738458, Nome: Monitor, Valor 62.0\n",
      "4-Id: 4, Data: 2020-03-17 10:18:42.738492, Nome: Monitor, Valor 61.0\n",
      "5-Id: 5, Data: 2020-03-17 10:18:43.749719, Nome: Monitor, Valor 80.0\n",
      "6-Id: 6, Data: 2020-03-17 10:18:44.760513, Nome: Monitor, Valor 84.0\n",
      "7-Id: 7, Data: 2020-03-17 10:18:45.770584, Nome: Monitor, Valor 60.0\n",
      "8-Id: 8, Data: 2020-03-17 10:18:46.774138, Nome: Monitor, Valor 94.0\n",
      "9-Id: 9, Data: 2020-03-17 10:18:47.777252, Nome: Monitor, Valor 56.0\n",
      "10-Id: 10, Data: 2020-03-17 10:18:48.781388, Nome: Monitor, Valor 86.0\n",
      "11-Id: 11, Data: 2020-03-17 11:15:50.357031, Nome: Mouse, Valor 64.0\n"
     ]
    }
   ],
   "source": [
    "# impriminso todos\n",
    "data_print(produtos)"
   ]
  },
  {
   "cell_type": "code",
   "execution_count": 42,
   "metadata": {},
   "outputs": [
    {
     "name": "stdout",
     "output_type": "stream",
     "text": [
      "56.0\n",
      "77.0\n",
      "62.0\n",
      "61.0\n",
      "80.0\n",
      "84.0\n",
      "60.0\n",
      "94.0\n",
      "56.0\n",
      "86.0\n",
      "64.0\n"
     ]
    }
   ],
   "source": [
    "# imprimindo coluna especifica, valor 3\n",
    "data_column_specific(3)"
   ]
  },
  {
   "cell_type": "code",
   "execution_count": 46,
   "metadata": {},
   "outputs": [
    {
     "name": "stdout",
     "output_type": "stream",
     "text": [
      "(77.0,)\n",
      "(62.0,)\n",
      "(61.0,)\n",
      "(80.0,)\n",
      "(84.0,)\n",
      "(60.0,)\n",
      "(94.0,)\n",
      "(86.0,)\n",
      "(64.0,)\n"
     ]
    }
   ],
   "source": [
    "# imprimindo registros especificos maior e igual a 60.0\n",
    "data_log_specific()"
   ]
  },
  {
   "cell_type": "code",
   "execution_count": 47,
   "metadata": {},
   "outputs": [],
   "source": [
    "# fechando conexão \n",
    "# fechando cursor\n",
    "close()"
   ]
  },
  {
   "cell_type": "markdown",
   "metadata": {},
   "source": [
    "## Fim"
   ]
  }
 ],
 "metadata": {
  "kernelspec": {
   "display_name": "Python 3",
   "language": "python",
   "name": "python3"
  },
  "language_info": {
   "codemirror_mode": {
    "name": "ipython",
    "version": 3
   },
   "file_extension": ".py",
   "mimetype": "text/x-python",
   "name": "python",
   "nbconvert_exporter": "python",
   "pygments_lexer": "ipython3",
   "version": "3.7.4"
  }
 },
 "nbformat": 4,
 "nbformat_minor": 2
}
