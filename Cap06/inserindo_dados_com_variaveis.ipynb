{
 "cells": [
  {
   "cell_type": "markdown",
   "metadata": {},
   "source": [
    "## Dados com variáveis"
   ]
  },
  {
   "cell_type": "code",
   "execution_count": 1,
   "metadata": {},
   "outputs": [],
   "source": [
    "# importando pacotes, sqlite3, random, time, datetime, os\n",
    "import os\n",
    "import sqlite3\n",
    "import random\n",
    "import time\n",
    "import datetime"
   ]
  },
  {
   "cell_type": "code",
   "execution_count": 49,
   "metadata": {},
   "outputs": [],
   "source": [
    "# remove o arquivo (caso exista)\n",
    "def remove():\n",
    "    '''\n",
    "        remove o arquivo\n",
    "        SQLite (caso exista)\n",
    "    '''\n",
    "    # remove arquivo com o banco de dados SQLite (caso exista)\n",
    "    os.remove('produtos.db') if os.path.exists('produtos.db') else None"
   ]
  },
  {
   "cell_type": "code",
   "execution_count": 2,
   "metadata": {},
   "outputs": [],
   "source": [
    "# criando conexão\n",
    "conn = sqlite3.connect('produtos.db')\n",
    "\n",
    "# criando cursor\n",
    "cur = conn.cursor()"
   ]
  },
  {
   "cell_type": "code",
   "execution_count": 6,
   "metadata": {},
   "outputs": [],
   "source": [
    "# cria a tabela\n",
    "def create_table():\n",
    "    '''\n",
    "        cria tabela produtos\n",
    "    '''\n",
    "    cur.execute('CREATE TABLE IF NOT EXISTS produtos (id INTEGER PRIMARY KEY AUTOINCREMENT NOT NULL, date TEXT, prod_name TEXT, valor REAL)')\n",
    "    "
   ]
  },
  {
   "cell_type": "code",
   "execution_count": 7,
   "metadata": {},
   "outputs": [],
   "source": [
    "# insere na tabela\n",
    "def data_insert():\n",
    "    '''\n",
    "        insere valor na tabela\n",
    "        entrega commit\n",
    "    '''\n",
    "    new_date = datetime.datetime.now()\n",
    "    new_prod_name = 'Monitor'\n",
    "    new_value = random.randrange(50, 100)\n",
    "    cur.execute(\"INSERT INTO produtos (date, prod_name, valor) VALUES (?, ?, ?)\", (new_date, new_prod_name, new_value))\n",
    "    conn.commit()\n",
    "    # fechando cursor, conexão\n",
    "    cur.close()\n",
    "    conn.close()"
   ]
  },
  {
   "cell_type": "code",
   "execution_count": 10,
   "metadata": {},
   "outputs": [],
   "source": [
    "# recuperando valor\n",
    "def data_select():\n",
    "    cur.execute('SELECT id, date, prod_name, valor FROM produtos')\n",
    "    recset = cur.fetchall()\n",
    "    return recset"
   ]
  },
  {
   "cell_type": "code",
   "execution_count": 13,
   "metadata": {},
   "outputs": [],
   "source": [
    "# imprimindo os valores\n",
    "def data_imprime(recset):\n",
    "    for row in recset:\n",
    "        print('Produtos')\n",
    "        print('Id: %s, Date: %s, Nome: %s, Valor: %s'%row)"
   ]
  },
  {
   "cell_type": "code",
   "execution_count": 8,
   "metadata": {},
   "outputs": [],
   "source": [
    "# criando tabela\n",
    "create_table()"
   ]
  },
  {
   "cell_type": "code",
   "execution_count": 9,
   "metadata": {},
   "outputs": [],
   "source": [
    "# gerando valores e inserindo na tabela\n",
    "for i in range(10):\n",
    "    data_insert()\n",
    "    time.sleep(1)"
   ]
  },
  {
   "cell_type": "code",
   "execution_count": 11,
   "metadata": {},
   "outputs": [],
   "source": [
    "#recuperando valor\n",
    "recset = data_select()"
   ]
  },
  {
   "cell_type": "code",
   "execution_count": 14,
   "metadata": {},
   "outputs": [
    {
     "name": "stdout",
     "output_type": "stream",
     "text": [
      "Produtos\n",
      "Id: 1, Date: 2020-03-17 10:18:39.712008, Nome: Monitor, Valor: 56.0\n",
      "Produtos\n",
      "Id: 2, Date: 2020-03-17 10:18:40.736482, Nome: Monitor, Valor: 77.0\n",
      "Produtos\n",
      "Id: 3, Date: 2020-03-17 10:18:41.738458, Nome: Monitor, Valor: 62.0\n",
      "Produtos\n",
      "Id: 4, Date: 2020-03-17 10:18:42.738492, Nome: Monitor, Valor: 61.0\n",
      "Produtos\n",
      "Id: 5, Date: 2020-03-17 10:18:43.749719, Nome: Monitor, Valor: 80.0\n",
      "Produtos\n",
      "Id: 6, Date: 2020-03-17 10:18:44.760513, Nome: Monitor, Valor: 84.0\n",
      "Produtos\n",
      "Id: 7, Date: 2020-03-17 10:18:45.770584, Nome: Monitor, Valor: 60.0\n",
      "Produtos\n",
      "Id: 8, Date: 2020-03-17 10:18:46.774138, Nome: Monitor, Valor: 94.0\n",
      "Produtos\n",
      "Id: 9, Date: 2020-03-17 10:18:47.777252, Nome: Monitor, Valor: 56.0\n",
      "Produtos\n",
      "Id: 10, Date: 2020-03-17 10:18:48.781388, Nome: Monitor, Valor: 86.0\n"
     ]
    }
   ],
   "source": [
    "# mostrando o valor\n",
    "data_imprime(recset)"
   ]
  },
  {
   "cell_type": "markdown",
   "metadata": {},
   "source": [
    "## Fim"
   ]
  }
 ],
 "metadata": {
  "kernelspec": {
   "display_name": "Python 3",
   "language": "python",
   "name": "python3"
  },
  "language_info": {
   "codemirror_mode": {
    "name": "ipython",
    "version": 3
   },
   "file_extension": ".py",
   "mimetype": "text/x-python",
   "name": "python",
   "nbconvert_exporter": "python",
   "pygments_lexer": "ipython3",
   "version": "3.7.4"
  }
 },
 "nbformat": 4,
 "nbformat_minor": 2
}
