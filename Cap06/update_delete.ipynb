{
 "cells": [
  {
   "cell_type": "markdown",
   "metadata": {},
   "source": [
    "## Update e Delete"
   ]
  },
  {
   "cell_type": "code",
   "execution_count": 20,
   "metadata": {},
   "outputs": [],
   "source": [
    "# importando pacotes sqlite3, datetime, time, os\n",
    "import os\n",
    "import sqlite3\n",
    "import datetime\n",
    "import time"
   ]
  },
  {
   "cell_type": "code",
   "execution_count": null,
   "metadata": {},
   "outputs": [],
   "source": [
    "# deletando o arquivo DB(caso exista)\n",
    "os.remove('informatica.db') if os.path.exists('informatica.db') else None"
   ]
  },
  {
   "cell_type": "code",
   "execution_count": 3,
   "metadata": {},
   "outputs": [],
   "source": [
    "# criando conexão db (caso não exista)\n",
    "conn = sqlite3.connect('informatica.db')\n",
    "\n",
    "# criando cursor\n",
    "cur = conn.cursor()"
   ]
  },
  {
   "cell_type": "code",
   "execution_count": 41,
   "metadata": {},
   "outputs": [],
   "source": [
    "# funções\n",
    "def close():\n",
    "    '''\n",
    "        fechar conexão\n",
    "        fechar cursor\n",
    "    '''\n",
    "    conn.close()\n",
    "    cur.close()\n",
    "\n",
    "def create_table():\n",
    "    '''\n",
    "        criar tabela produtos\n",
    "    '''\n",
    "    cur.execute('CREATE TABLE IF NOT EXISTS produtos'\\\n",
    "                '(id INTEGER PRIMARY KEY NOT NULL,'\\\n",
    "                'date TEXT, '\\\n",
    "                'prod_nome TEXT, '\\\n",
    "                'valor REAL)')\n",
    "\n",
    "def data_insert(prod, value):\n",
    "    '''\n",
    "    '''\n",
    "    new_date = datetime.datetime.now()\n",
    "    new_prod = prod\n",
    "    new_value = value\n",
    "    cur.execute(\"INSERT INTO produtos(date, prod_nome, valor)\"\\\n",
    "                \"VALUES (?, ?, ?)\", (new_date, new_prod, new_value))\n",
    "    conn.commit()\n",
    "\n",
    "def data_selct_all():\n",
    "    '''\n",
    "        selecionar produtos\n",
    "    '''\n",
    "    cur.execute('SELECT * FROM produtos')\n",
    "    print('PRODUTOS')\n",
    "    for linha in cur.fetchall():\n",
    "        print(linha)\n",
    "    print('------------------------------------------')\n",
    "\n",
    "def data_update():\n",
    "    '''\n",
    "        atualizar produtos\n",
    "    '''\n",
    "    cur.execute(\"UPDATE produtos SET valor = 30.0 WHERE valor = 15.0\")\n",
    "    conn.commit()\n",
    "    \n",
    "def data_remove():\n",
    "    '''\n",
    "        deletar registro\n",
    "    '''\n",
    "    cur.execute('DELETE FROM produtos WHERE valor = 90.0')\n",
    "    conn.commit()\n"
   ]
  },
  {
   "cell_type": "code",
   "execution_count": 9,
   "metadata": {},
   "outputs": [],
   "source": [
    "# criar a tabela\n",
    "create_table()"
   ]
  },
  {
   "cell_type": "code",
   "execution_count": 21,
   "metadata": {},
   "outputs": [
    {
     "name": "stdout",
     "output_type": "stream",
     "text": [
      "Nome do produto: Teclado\n",
      "Preço: 90\n",
      "Nome do produto: Mouse\n",
      "Preço: 30\n",
      "Nome do produto: Monitor\n",
      "Preço: 150\n",
      "Nome do produto: Cabo vga\n",
      "Preço: 15\n",
      "Nome do produto: Cabo rede\n",
      "Preço: 15\n",
      "Nome do produto: Fonte\n",
      "Preço: 190\n",
      "Nome do produto: Caixa som\n",
      "Preço: 70\n",
      "Nome do produto: Cooler usb\n",
      "Preço: 90\n",
      "Nome do produto: Touch mouse\n",
      "Preço: 300\n",
      "Nome do produto: Roteador\n",
      "Preço: 30\n"
     ]
    }
   ],
   "source": [
    "# inserindo dados\n",
    "for i in range(10):\n",
    "    produto = input('Nome do produto: ')\n",
    "    value = float(input('Preço: '))\n",
    "    data_insert(produto, value)\n",
    "    time.sleep(1)\n",
    "    "
   ]
  },
  {
   "cell_type": "code",
   "execution_count": 28,
   "metadata": {},
   "outputs": [
    {
     "name": "stdout",
     "output_type": "stream",
     "text": [
      "PRODUTOS\n",
      "(1, '2020-03-17 12:50:55.378617', 'Teclado', 90.0)\n",
      "(2, '2020-03-17 12:53:03.032033', 'Teclado', 90.0)\n",
      "(3, '2020-03-17 12:55:41.326071', 'Teclado', 90.0)\n",
      "(4, '2020-03-17 12:56:05.469540', 'Mouse', 15.0)\n",
      "(5, '2020-03-17 12:56:19.437597', 'Monitor', 150.0)\n",
      "(6, '2020-03-17 12:56:33.455108', 'Cabo vga', 15.0)\n",
      "(7, '2020-03-17 12:57:45.340528', 'Cabo rede', 15.0)\n",
      "(8, '2020-03-17 12:57:58.684558', 'Fonte', 190.0)\n",
      "(9, '2020-03-17 12:58:25.812025', 'Caixa som', 70.0)\n",
      "(10, '2020-03-17 12:58:51.323712', 'Cooler usb', 90.0)\n",
      "(11, '2020-03-17 12:59:28.675245', 'Touch mouse', 300.0)\n",
      "(12, '2020-03-17 13:00:21.865923', 'Roteador', 15.0)\n",
      "------------------------------------------\n"
     ]
    }
   ],
   "source": [
    "# mostrando produtos\n",
    "data_selct_all()"
   ]
  },
  {
   "cell_type": "code",
   "execution_count": 42,
   "metadata": {},
   "outputs": [],
   "source": [
    "# atualizando dados\n",
    "data_update()"
   ]
  },
  {
   "cell_type": "code",
   "execution_count": 33,
   "metadata": {},
   "outputs": [],
   "source": [
    "# deletar registro\n",
    "data_remove()"
   ]
  },
  {
   "cell_type": "code",
   "execution_count": 43,
   "metadata": {},
   "outputs": [
    {
     "name": "stdout",
     "output_type": "stream",
     "text": [
      "PRODUTOS\n",
      "(4, '2020-03-17 12:56:05.469540', 'Mouse', 30.0)\n",
      "(5, '2020-03-17 12:56:19.437597', 'Monitor', 150.0)\n",
      "(6, '2020-03-17 12:56:33.455108', 'Cabo vga', 30.0)\n",
      "(7, '2020-03-17 12:57:45.340528', 'Cabo rede', 30.0)\n",
      "(8, '2020-03-17 12:57:58.684558', 'Fonte', 190.0)\n",
      "(9, '2020-03-17 12:58:25.812025', 'Caixa som', 70.0)\n",
      "(11, '2020-03-17 12:59:28.675245', 'Touch mouse', 300.0)\n",
      "(12, '2020-03-17 13:00:21.865923', 'Roteador', 30.0)\n",
      "------------------------------------------\n"
     ]
    }
   ],
   "source": [
    "data_selct_all()"
   ]
  },
  {
   "cell_type": "markdown",
   "metadata": {},
   "source": [
    "## Fim"
   ]
  }
 ],
 "metadata": {
  "kernelspec": {
   "display_name": "Python 3",
   "language": "python",
   "name": "python3"
  },
  "language_info": {
   "codemirror_mode": {
    "name": "ipython",
    "version": 3
   },
   "file_extension": ".py",
   "mimetype": "text/x-python",
   "name": "python",
   "nbconvert_exporter": "python",
   "pygments_lexer": "ipython3",
   "version": "3.7.4"
  }
 },
 "nbformat": 4,
 "nbformat_minor": 2
}
