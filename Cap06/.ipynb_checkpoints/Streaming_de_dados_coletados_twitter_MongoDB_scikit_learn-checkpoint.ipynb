{
 "cells": [
  {
   "cell_type": "markdown",
   "metadata": {},
   "source": [
    "## Pipeline sequência de execução"
   ]
  },
  {
   "cell_type": "markdown",
   "metadata": {},
   "source": [
    "## <font color='blue'>Streming de dados no twitter com MongoDB, Pandas e Scikit Learn</font>"
   ]
  },
  {
   "cell_type": "markdown",
   "metadata": {},
   "source": [
    "## Preparação de conexão com twitter"
   ]
  },
  {
   "cell_type": "code",
   "execution_count": 1,
   "metadata": {},
   "outputs": [
    {
     "name": "stdout",
     "output_type": "stream",
     "text": [
      "Collecting tweepy\n",
      "  Downloading https://files.pythonhosted.org/packages/36/1b/2bd38043d22ade352fc3d3902cf30ce0e2f4bf285be3b304a2782a767aec/tweepy-3.8.0-py2.py3-none-any.whl\n",
      "Collecting requests-oauthlib>=0.7.0 (from tweepy)\n",
      "  Using cached https://files.pythonhosted.org/packages/a3/12/b92740d845ab62ea4edf04d2f4164d82532b5a0b03836d4d4e71c6f3d379/requests_oauthlib-1.3.0-py2.py3-none-any.whl\n",
      "Requirement already satisfied: PySocks>=1.5.7 in c:\\users\\ticar\\anaconda3\\lib\\site-packages (from tweepy) (1.7.1)\n",
      "Requirement already satisfied: requests>=2.11.1 in c:\\users\\ticar\\anaconda3\\lib\\site-packages (from tweepy) (2.22.0)\n",
      "Requirement already satisfied: six>=1.10.0 in c:\\users\\ticar\\anaconda3\\lib\\site-packages (from tweepy) (1.12.0)\n",
      "Collecting oauthlib>=3.0.0 (from requests-oauthlib>=0.7.0->tweepy)\n",
      "  Using cached https://files.pythonhosted.org/packages/05/57/ce2e7a8fa7c0afb54a0581b14a65b56e62b5759dbc98e80627142b8a3704/oauthlib-3.1.0-py2.py3-none-any.whl\n",
      "Requirement already satisfied: idna<2.9,>=2.5 in c:\\users\\ticar\\anaconda3\\lib\\site-packages (from requests>=2.11.1->tweepy) (2.8)\n",
      "Requirement already satisfied: certifi>=2017.4.17 in c:\\users\\ticar\\anaconda3\\lib\\site-packages (from requests>=2.11.1->tweepy) (2019.9.11)\n",
      "Requirement already satisfied: chardet<3.1.0,>=3.0.2 in c:\\users\\ticar\\anaconda3\\lib\\site-packages (from requests>=2.11.1->tweepy) (3.0.4)\n",
      "Requirement already satisfied: urllib3!=1.25.0,!=1.25.1,<1.26,>=1.21.1 in c:\\users\\ticar\\anaconda3\\lib\\site-packages (from requests>=2.11.1->tweepy) (1.24.2)\n",
      "Installing collected packages: oauthlib, requests-oauthlib, tweepy\n",
      "Successfully installed oauthlib-3.1.0 requests-oauthlib-1.3.0 tweepy-3.8.0\n"
     ]
    }
   ],
   "source": [
    "# instalação de pacotes tweepy\n",
    "!pip install tweepy"
   ]
  },
  {
   "cell_type": "code",
   "execution_count": 2,
   "metadata": {},
   "outputs": [],
   "source": [
    "# importando os módulos tweepy, Datetime e Json\n",
    "# listerner, ouvinte, vai ficar ouvindo pelos twitters\n",
    "# OAuthHandler, permitir autehnticação com o twitter\n",
    "# Stream, dados continuos\n",
    "\n",
    "from tweepy.streaming import StreamListener\n",
    "from tweepy import OAuthHandler\n",
    "from tweepy import Stream\n",
    "from datetime import datetime\n",
    "import json"
   ]
  },
  {
   "cell_type": "code",
   "execution_count": 10,
   "metadata": {},
   "outputs": [],
   "source": [
    "# definindo as chaves\n",
    "# chave do consumidor \n",
    "consumer_key = 'gvnrEENC1XyYoLeKdDieBSkVQ'"
   ]
  },
  {
   "cell_type": "code",
   "execution_count": 11,
   "metadata": {},
   "outputs": [],
   "source": [
    "# chave do consumidor secreta\n",
    "consumer_secret = 'QY1zP0JuPpEofQJRFSlkEXYhIERP6dhK5kZqfpi9rkLf4lnNIg'"
   ]
  },
  {
   "cell_type": "code",
   "execution_count": 12,
   "metadata": {},
   "outputs": [],
   "source": [
    "# token de acesso\n",
    "acess_token = '1231963153845628929-53nTZACvlRPHc1qHD8XuUczzridaEZ'"
   ]
  },
  {
   "cell_type": "code",
   "execution_count": 13,
   "metadata": {},
   "outputs": [],
   "source": [
    "# token secreto\n",
    "acess_token_secret = 'KDIrbgbkQyDaAvoBKzThA1H5g9gcLL4uA6JxGnnkeJsXg'"
   ]
  },
  {
   "cell_type": "code",
   "execution_count": 14,
   "metadata": {},
   "outputs": [],
   "source": [
    "# criando as chaves de autenticação\n",
    "auth = OAuthHandler(consumer_key, consumer_secret)"
   ]
  },
  {
   "cell_type": "code",
   "execution_count": 15,
   "metadata": {},
   "outputs": [],
   "source": [
    "auth.set_access_token(acess_token,acess_token_secret)"
   ]
  },
  {
   "cell_type": "code",
   "execution_count": 28,
   "metadata": {},
   "outputs": [],
   "source": [
    "# criando uma classe para capturar Streaming de dados do twitter\n",
    "# classe MyListerner, herda de StreamListerner\n",
    "class MyListerner(StreamListener):\n",
    "    def on_data(self, dados):\n",
    "        '''\n",
    "            coletar dados, transformar em JSON\n",
    "            coletar colunas do twitter\n",
    "            guardar no BD\n",
    "        '''\n",
    "        tweet = json.loads(dados)\n",
    "        created_at = tweet['created_at']\n",
    "        id_str = tweet['id_str']\n",
    "        text = tweet['text']\n",
    "        obj = {'created_at': created_at, 'id_str': id_str, 'text': text,}\n",
    "        tweetind = col.insert_one(obj).inserted_id\n",
    "        print(obj)\n",
    "        return True"
   ]
  },
  {
   "cell_type": "code",
   "execution_count": 18,
   "metadata": {},
   "outputs": [],
   "source": [
    "# criando uma instância de MyListerner\n",
    "mylisterner = MyListerner()"
   ]
  },
  {
   "cell_type": "code",
   "execution_count": 19,
   "metadata": {},
   "outputs": [],
   "source": [
    "# criando uma instância de Streaming\n",
    "mystream = Stream(auth, listener = mylisterner)"
   ]
  },
  {
   "cell_type": "markdown",
   "metadata": {},
   "source": [
    "## Preparando conexão com MongoDB"
   ]
  },
  {
   "cell_type": "code",
   "execution_count": 20,
   "metadata": {},
   "outputs": [],
   "source": [
    "# importando pymongo o módulo MongoClient\n",
    "from pymongo import MongoClient"
   ]
  },
  {
   "cell_type": "code",
   "execution_count": 21,
   "metadata": {},
   "outputs": [],
   "source": [
    "# criando a conexão ao MongoDB\n",
    "client = MongoClient('localhost', 27017)"
   ]
  },
  {
   "cell_type": "code",
   "execution_count": 22,
   "metadata": {},
   "outputs": [],
   "source": [
    "# criando o banco de dados twetterdb\n",
    "db = client.twetterdb"
   ]
  },
  {
   "cell_type": "code",
   "execution_count": 23,
   "metadata": {},
   "outputs": [],
   "source": [
    "# criando uma collection col\n",
    "col = db.twetts"
   ]
  },
  {
   "cell_type": "code",
   "execution_count": 24,
   "metadata": {},
   "outputs": [],
   "source": [
    "# criando uma lista de palavras chave para buscar nos tweets\n",
    "keywords = ['Big Data', 'Python', 'Data Mining', 'Data Science']"
   ]
  },
  {
   "cell_type": "markdown",
   "metadata": {},
   "source": [
    "## Coletando twitters"
   ]
  },
  {
   "cell_type": "code",
   "execution_count": 25,
   "metadata": {},
   "outputs": [
    {
     "name": "stdout",
     "output_type": "stream",
     "text": [
      "{'created_at': 'Wed Mar 18 18:06:51 +0000 2020', 'id_str': '1240338895272845315', 'text': 'Great idea if you are #WFH #teachingduringcoronavirus @scicommhannah @UniofReading @UK_CEH', '_id': ObjectId('5e726341151debed689f2ebd')}\n",
      "{'created_at': 'Wed Mar 18 18:06:52 +0000 2020', 'id_str': '1240338897630105600', 'text': 'Thread. Good analysis. \\n\\nIt’s not enough to have the data - you have to be capable of using it safely and to good e… https://t.co/rhc3Q8A2M1', '_id': ObjectId('5e726341151debed689f2ebe')}\n",
      "{'created_at': 'Wed Mar 18 18:06:53 +0000 2020', 'id_str': '1240338904206770176', 'text': 'RT @alosefer: تفضل استاذ نايف تعلم اللغة الاولى بالعالم بالعربي:\\nhttps://t.co/GJjGD45Oqj\\nللتطبيق مباشره بالمتصفح:\\nhttps://t.co/6ZVGonFunC\\nم…', '_id': ObjectId('5e726343151debed689f2ebf')}\n",
      "{'created_at': 'Wed Mar 18 18:06:55 +0000 2020', 'id_str': '1240338911529816064', 'text': 'RT @gp_pulipaka: Business Case for Rearchitecting. #BigData #Analytics #DataScience #AI #MachineLearning #IoT #IIoT #PyTorch #Python #RStat…', '_id': ObjectId('5e726344151debed689f2ec0')}\n",
      "{'created_at': 'Wed Mar 18 18:06:56 +0000 2020', 'id_str': '1240338914403069953', 'text': 'https://t.co/MWfmsYLJxh @PlayCraftLearn #MinecraftEdu', '_id': ObjectId('5e726345151debed689f2ec1')}\n",
      "{'created_at': 'Wed Mar 18 18:06:58 +0000 2020', 'id_str': '1240338923630592003', 'text': 'RT @_daveguy: Job Advertisements that you will come accross moving forward, it is either you adapt or perish.\\n\\n-Cloud Engineer\\n-Big Data En…', '_id': ObjectId('5e726347151debed689f2ec2')}\n",
      "{'created_at': 'Wed Mar 18 18:06:58 +0000 2020', 'id_str': '1240338924289044481', 'text': 'RT @M0REhead: Do you think you can take Python Big Dick ?? 🥴🤭 https://t.co/NYfdj8lGDG', '_id': ObjectId('5e726347151debed689f2ec3')}\n",
      "{'created_at': 'Wed Mar 18 18:07:00 +0000 2020', 'id_str': '1240338933197803523', 'text': 'RT @gp_pulipaka: Business Case for Rearchitecting. #BigData #Analytics #DataScience #AI #MachineLearning #IoT #IIoT #PyTorch #Python #RStat…', '_id': ObjectId('5e72634a151debed689f2ec4')}\n",
      "{'created_at': 'Wed Mar 18 18:07:02 +0000 2020', 'id_str': '1240338938687967237', 'text': 'RT @gp_pulipaka: Business Case for Rearchitecting. #BigData #Analytics #DataScience #AI #MachineLearning #IoT #IIoT #PyTorch #Python #RStat…', '_id': ObjectId('5e72634b151debed689f2ec5')}\n",
      "{'created_at': 'Wed Mar 18 18:07:03 +0000 2020', 'id_str': '1240338944102809600', 'text': 'RT @SST_Programming: So you want to be a Programmer? https://t.co/3OAwx6rrww #coding #programmer #docker #android #saas #developer #100Days…', '_id': ObjectId('5e72634c151debed689f2ec6')}\n",
      "{'created_at': 'Wed Mar 18 18:07:05 +0000 2020', 'id_str': '1240338954009939970', 'text': '@cleidianeloy @juzao @udemy O que tu me mandou não era de python web?', '_id': ObjectId('5e72634f151debed689f2ec7')}\n",
      "{'created_at': 'Wed Mar 18 18:07:08 +0000 2020', 'id_str': '1240338966622212096', 'text': '@dbongino No the WHO is! \\n\\nhttps://t.co/Bhr7noss7w', '_id': ObjectId('5e726352151debed689f2ec8')}\n",
      "{'created_at': 'Wed Mar 18 18:07:09 +0000 2020', 'id_str': '1240338970321408000', 'text': \"@ronnytodgers @SimonDJohnson @carolecadwalla @WHO @timberners_lee @Nigel_Shadbolt @ODIHQ I don't think she was demo… https://t.co/vklr7ZR50S\", '_id': ObjectId('5e726352151debed689f2ec9')}\n",
      "{'created_at': 'Wed Mar 18 18:07:15 +0000 2020', 'id_str': '1240338995739049991', 'text': \"RT @beajayemac: #coronavirus DEAR #BORIS AND #HANCOCK\\n1.If you are not collecting the data  'YOU ARE NOT FOLLOWING THE SCIENCE. \\n2. If a sc…\", '_id': ObjectId('5e726359151debed689f2eca')}\n",
      "{'created_at': 'Wed Mar 18 18:07:16 +0000 2020', 'id_str': '1240338997743927296', 'text': 'RT @epc_angela: Wow.#Google has never been slow to exploit personal #data commercially. now they will “build new tools technologies product…', '_id': ObjectId('5e726359151debed689f2ecb')}\n",
      "{'created_at': 'Wed Mar 18 18:07:18 +0000 2020', 'id_str': '1240339009043193857', 'text': 'RT @AnnoDomaini: Crypto #startups can now create a #brand with #CryptoLTE. Visit https://t.co/iSDjR5SMlL Advice #crypto #Data #MachineLearn…', '_id': ObjectId('5e72635c151debed689f2ecc')}\n",
      "{'created_at': 'Wed Mar 18 18:07:19 +0000 2020', 'id_str': '1240339013929553920', 'text': 'BBCPIE Python Dick CUMS Multiple Times In Carolina Sweets - https://t.co/k7PW3wglum', '_id': ObjectId('5e72635d151debed689f2ecd')}\n",
      "{'created_at': 'Wed Mar 18 18:07:24 +0000 2020', 'id_str': '1240339034376794113', 'text': 'RT @RuchikaJain89: @ITConsultants4u 1) Cloud Computing - C\\n2) Data Science - E\\n3) Digital Marketing - D\\n4) Big Data - B\\n5) Artificial Intel…', '_id': ObjectId('5e726362151debed689f2ece')}\n",
      "{'created_at': 'Wed Mar 18 18:07:26 +0000 2020', 'id_str': '1240339040412581888', 'text': \"MUNDIAL\\nCoronavirus y guerra de 'big data' -\\nhttps://t.co/vdsG2UMHHB\", '_id': ObjectId('5e726363151debed689f2ecf')}\n",
      "{'created_at': 'Wed Mar 18 18:07:32 +0000 2020', 'id_str': '1240339065427369985', 'text': 'RT @droensovka: @CreditSuisse  and @UBS remain fossil banks according to latest data! #CreditSuisse is the biggest non-Chinese funder\\nof co…', '_id': ObjectId('5e726369151debed689f2ed0')}\n",
      "{'created_at': 'Wed Mar 18 18:07:39 +0000 2020', 'id_str': '1240339097165725697', 'text': \"RT @gp_pulipaka: Last Week's Articles. #MachineLearning. #BigData #Analytics #DataScience #AI #IoT #IIoT #Python #RStats #JavaScript #React…\", '_id': ObjectId('5e726371151debed689f2ed1')}\n",
      "{'created_at': 'Wed Mar 18 18:07:43 +0000 2020', 'id_str': '1240339113146044424', 'text': '@Boxenberger AI &amp; Big Data Conference, but it is in july, i expect they will cancel that.', '_id': ObjectId('5e726375151debed689f2ed2')}\n",
      "{'created_at': 'Wed Mar 18 18:07:44 +0000 2020', 'id_str': '1240339118837596160', 'text': \"RT @gp_pulipaka: Last Week's Articles. #MachineLearning. #BigData #Analytics #DataScience #AI #IoT #IIoT #Python #RStats #JavaScript #React…\", '_id': ObjectId('5e726376151debed689f2ed3')}\n",
      "{'created_at': 'Wed Mar 18 18:07:45 +0000 2020', 'id_str': '1240339122285248513', 'text': 'RT @EdKwedar: Free Book: #Statistics -- New Foundations, Toolbox, and Recipes | #BigData #Analytics #DataScience #IoT #IIoT #Python #RStats…', '_id': ObjectId('5e726377151debed689f2ed4')}\n",
      "{'created_at': 'Wed Mar 18 18:07:46 +0000 2020', 'id_str': '1240339123153408001', 'text': \"Unless one's an expert researcher, scientistist, healthcare professional, etc their opinion is moot 🤷\\u200d♀️\\n\\nGut feeli… https://t.co/x75jPNFwX7\", '_id': ObjectId('5e726377151debed689f2ed5')}\n",
      "{'created_at': 'Wed Mar 18 18:07:46 +0000 2020', 'id_str': '1240339124550320130', 'text': 'Desde tu casa, gratis y online puedes ganar habilidades en marketing digital, comercio, diseño,  big data y mucho m… https://t.co/xoCbfACySd', '_id': ObjectId('5e726378151debed689f2ed6')}\n",
      "{'created_at': 'Wed Mar 18 18:07:46 +0000 2020', 'id_str': '1240339126794272774', 'text': 'RT @gp_pulipaka: Business Case for Rearchitecting. #BigData #Analytics #DataScience #AI #MachineLearning #IoT #IIoT #PyTorch #Python #RStat…', '_id': ObjectId('5e726378151debed689f2ed7')}\n",
      "{'created_at': 'Wed Mar 18 18:07:47 +0000 2020', 'id_str': '1240339128899813376', 'text': '@PeterKeal @cornwall70001 @robertsessford1 @YouTube Ohhh right so you send a link to a python sketch but not a link… https://t.co/w4qVkjiA1t', '_id': ObjectId('5e726378151debed689f2ed8')}\n",
      "{'created_at': 'Wed Mar 18 18:07:50 +0000 2020', 'id_str': '1240339143017795585', 'text': 'RT @EdKwedar: Free Book: #Statistics -- New Foundations, Toolbox, and Recipes | #BigData #Analytics #DataScience #IoT #IIoT #Python #RStats…', '_id': ObjectId('5e72637c151debed689f2ed9')}\n",
      "{'created_at': 'Wed Mar 18 18:07:52 +0000 2020', 'id_str': '1240339148340428800', 'text': 'RT @gp_pulipaka: Webinar: Petabytes of Data to Understand to Understand the Universe Better. #BigData #Analytics #DataScience #AI #MachineL…', '_id': ObjectId('5e72637d151debed689f2eda')}\n",
      "{'created_at': 'Wed Mar 18 18:07:53 +0000 2020', 'id_str': '1240339154011119623', 'text': '#enterpreneur #stocks #stockmarkets #bitcoin #enterprenureship #binaryoptions #dataanalysis #forexlifestyle… https://t.co/mqyB3bl7bE', '_id': ObjectId('5e72637e151debed689f2edb')}\n",
      "{'created_at': 'Wed Mar 18 18:07:55 +0000 2020', 'id_str': '1240339163184074753', 'text': 'RT @HWillert: Coronavirus: How #ArtificialIntelligence, #DataScience And #Technology Is Used To Fight The #Pandemic via @forbes https://t.c…', '_id': ObjectId('5e726380151debed689f2edc')}\n"
     ]
    },
    {
     "name": "stdout",
     "output_type": "stream",
     "text": [
      "{'created_at': 'Wed Mar 18 18:07:56 +0000 2020', 'id_str': '1240339165616771072', 'text': 'RT @eCapitalAdvisor: RT @Ronald_vanLoon\\nBig Insight by @BoozAllen @SlideShare #AI #IoT #BigData #MachineLearning #Cloud #ML #MI #Digital #D…', '_id': ObjectId('5e726381151debed689f2edd')}\n",
      "{'created_at': 'Wed Mar 18 18:07:59 +0000 2020', 'id_str': '1240339179424407554', 'text': 'RT @ananoterminal: Alguém me recomenda material que ensine a fazer teste mock com Python pra quem não sabe nada sobre (eu) poder entender.…', '_id': ObjectId('5e726384151debed689f2ede')}\n",
      "{'created_at': 'Wed Mar 18 18:08:00 +0000 2020', 'id_str': '1240339184310779913', 'text': '@DrewUpOn8 My uni course (2nd year) starts April. Gotta learn me some python. Next year Cisco systems.', '_id': ObjectId('5e726385151debed689f2edf')}\n",
      "{'created_at': 'Wed Mar 18 18:08:01 +0000 2020', 'id_str': '1240339186726641664', 'text': 'RT @Deep_In_Depth: How China’s health care AI helps it deal with the epidemic https://t.co/Pi6hWtv2P9 #DeepLearning #NeuralNetworks  #Artif…', '_id': ObjectId('5e726386151debed689f2ee0')}\n",
      "{'created_at': 'Wed Mar 18 18:08:01 +0000 2020', 'id_str': '1240339187414556675', 'text': 'RT @eCapitalAdvisor: RT @Ronald_vanLoon\\nBig Insight by @BoozAllen @SlideShare #AI #IoT #BigData #MachineLearning #Cloud #ML #MI #Digital #D…', '_id': ObjectId('5e726386151debed689f2ee1')}\n",
      "{'created_at': 'Wed Mar 18 18:08:01 +0000 2020', 'id_str': '1240339187896930304', 'text': 'RT @gp_pulipaka: Machine Learning: Autoencoders. #BigData #Analytics #DataScience #AI #MachineLearning #IoT #IIoT #PyTorch #Python #RStats…', '_id': ObjectId('5e726386151debed689f2ee2')}\n",
      "{'created_at': 'Wed Mar 18 18:08:02 +0000 2020', 'id_str': '1240339190581202946', 'text': 'It’s been a true pleasure working with Leigh on #VirtualFish. I’m excited about the new features coming soon, which… https://t.co/jaR0ATYhPU', '_id': ObjectId('5e726387151debed689f2ee3')}\n",
      "{'created_at': 'Wed Mar 18 18:08:02 +0000 2020', 'id_str': '1240339192149934083', 'text': 'How Big Data Can Be Used To Slow Coronavirus Outbreak\\nhttps://t.co/Th4tnXQ0ns #coronavirus #BigData https://t.co/GlJdcnUM22', '_id': ObjectId('5e726387151debed689f2ee4')}\n",
      "{'created_at': 'Wed Mar 18 18:08:04 +0000 2020', 'id_str': '1240339199728861184', 'text': 'RT @renanmouraf: isdigit(): checking digits only in a string in #Python #CodeNewbie #100DaysOfCode https://t.co/SU0ESzrLFo', '_id': ObjectId('5e726389151debed689f2ee5')}\n",
      "{'created_at': 'Wed Mar 18 18:08:04 +0000 2020', 'id_str': '1240339200504987648', 'text': 'Data suggest that higher presence of guns leads to more gun injury.  Ergo, if people are buying guns, we would expe… https://t.co/RaUN6xiomB', '_id': ObjectId('5e726389151debed689f2ee6')}\n",
      "{'created_at': 'Wed Mar 18 18:08:06 +0000 2020', 'id_str': '1240339208545468418', 'text': 'RT @Deep_In_Depth: How China’s health care AI helps it deal with the epidemic https://t.co/Pi6hWtv2P9 #DeepLearning #NeuralNetworks  #Artif…', '_id': ObjectId('5e72638b151debed689f2ee7')}\n",
      "{'created_at': 'Wed Mar 18 18:08:06 +0000 2020', 'id_str': '1240339209862381569', 'text': 'RT @gp_pulipaka: Machine Learning: Autoencoders. #BigData #Analytics #DataScience #AI #MachineLearning #IoT #IIoT #PyTorch #Python #RStats…', '_id': ObjectId('5e72638c151debed689f2ee8')}\n",
      "{'created_at': 'Wed Mar 18 18:08:06 +0000 2020', 'id_str': '1240339211120713728', 'text': 'RT @gp_pulipaka: Disrupting Deepfakes: Image Translation Networks and Facial Manipulation Systems by @UMassBoston. #BigData #Analytics #Dat…', '_id': ObjectId('5e72638c151debed689f2ee9')}\n",
      "{'created_at': 'Wed Mar 18 18:08:08 +0000 2020', 'id_str': '1240339216866914304', 'text': 'RT @Fbillionare: Anyone who wants to learn code.  I have material I can share. For Java/Android. Python (Django, Flask) and basic HTML, CSS…', '_id': ObjectId('5e72638d151debed689f2eea')}\n",
      "{'created_at': 'Wed Mar 18 18:08:09 +0000 2020', 'id_str': '1240339219685560322', 'text': 'RT @analyticbridge: Big Data: 17 Predictions Everyone Should Read https://t.co/gYOy3yPFRw', '_id': ObjectId('5e72638e151debed689f2eeb')}\n",
      "{'created_at': 'Wed Mar 18 18:08:10 +0000 2020', 'id_str': '1240339226517897216', 'text': 'RT @cleancoder85: Day 8: Today I returned back to python basic from practicing django. Because I realized that without strong knowledge on…', '_id': ObjectId('5e726390151debed689f2eec')}\n",
      "{'created_at': 'Wed Mar 18 18:08:11 +0000 2020', 'id_str': '1240339230691397632', 'text': 'RT @Deep_In_Depth: How China’s health care AI helps it deal with the epidemic https://t.co/Pi6hWtv2P9 #DeepLearning #NeuralNetworks  #Artif…', '_id': ObjectId('5e726391151debed689f2eed')}\n",
      "{'created_at': 'Wed Mar 18 18:08:12 +0000 2020', 'id_str': '1240339232775962625', 'text': 'RT @gp_pulipaka: Disrupting Deepfakes: Image Translation Networks and Facial Manipulation Systems by @UMassBoston. #BigData #Analytics #Dat…', '_id': ObjectId('5e726391151debed689f2eee')}\n",
      "{'created_at': 'Wed Mar 18 18:08:14 +0000 2020', 'id_str': '1240339243806814208', 'text': \"RT @SystemSoft_Tech: How AI and Big Data Are Changing Customer's Experience https://t.co/5dPlOLNtRO @rebecca_jeames #ai #machinelearning #d…\", '_id': ObjectId('5e726394151debed689f2eef')}\n",
      "{'created_at': 'Wed Mar 18 18:08:15 +0000 2020', 'id_str': '1240339245719531522', 'text': 'I’ve read a few of Zen’s books, didn’t want to put them down.\\nIf you’re looking for even more reading, check these… https://t.co/vo9SLMbowX', '_id': ObjectId('5e726394151debed689f2ef0')}\n",
      "{'created_at': 'Wed Mar 18 18:08:15 +0000 2020', 'id_str': '1240339247447638017', 'text': 'RT @Kokodave4: Thread for Online Courses Both free and Paid for zile zinaeza saidia Upcoming Devs na other Materials . Na Pia @Fbillionare…', '_id': ObjectId('5e726395151debed689f2ef1')}\n",
      "{'created_at': 'Wed Mar 18 18:08:16 +0000 2020', 'id_str': '1240339250601758722', 'text': 'RT @pharma_program: #Python の変数について、まとめてみました。\\n#プログラミング初心者 #駆け出しエンジニアと繋がりたい\\nhttps://t.co/5CaN3gkS92', '_id': ObjectId('5e726395151debed689f2ef2')}\n",
      "{'created_at': 'Wed Mar 18 18:08:16 +0000 2020', 'id_str': '1240339250794631168', 'text': 'RT @gp_pulipaka: How to Auto-Detect Errors in a Dataset. #BigData #Analytics #DataScience #AI #MachineLearning #IoT #IIoT #Python #RStats #…', '_id': ObjectId('5e726395151debed689f2ef3')}\n",
      "{'created_at': 'Wed Mar 18 18:08:19 +0000 2020', 'id_str': '1240339263516020736', 'text': 'RT @sugabelly: And best believe at the end of a 6 month lockdown, most people who see this and need this will not have done it despite havi…', '_id': ObjectId('5e726398151debed689f2ef4')}\n",
      "{'created_at': 'Wed Mar 18 18:08:20 +0000 2020', 'id_str': '1240339268293312512', 'text': 'RT @gp_pulipaka: Framework for Atomic-Level Characterization of Quantum Computer. #MachineLearning #IoT #IIoT #Python #RStats #TensorFlow #…', '_id': ObjectId('5e72639a151debed689f2ef5')}\n",
      "{'created_at': 'Wed Mar 18 18:08:23 +0000 2020', 'id_str': '1240339281765265409', 'text': 'RT @HarshKhatri24: Day 41:\\nMade all mails of @gymaale asynchronous with celery and redis and worked on some more things!!\\n#DBMS #javascript…', '_id': ObjectId('5e72639d151debed689f2ef6')}\n",
      "{'created_at': 'Wed Mar 18 18:08:24 +0000 2020', 'id_str': '1240339283183128579', 'text': '.@DrJAshton on whether people with high blood pressure are at higher risk:\\n\\n“Yes, we know from early data released… https://t.co/I6a9FFMmFr', '_id': ObjectId('5e72639d151debed689f2ef7')}\n",
      "{'created_at': 'Wed Mar 18 18:08:30 +0000 2020', 'id_str': '1240339308910989313', 'text': 'Edojobs Graduates Over 50 Youths From Data Science, Artificial Intelligence Training https://t.co/jKtLLLA0YR', '_id': ObjectId('5e7263a3151debed689f2ef8')}\n",
      "{'created_at': 'Wed Mar 18 18:08:33 +0000 2020', 'id_str': '1240339320692563968', 'text': 'Pythonわかる人いないかな？\\n少しでも、教えてもらいたい。', '_id': ObjectId('5e7263a6151debed689f2ef9')}\n",
      "{'created_at': 'Wed Mar 18 18:08:33 +0000 2020', 'id_str': '1240339321581903873', 'text': 'We specialize in hosting, troubleshooting and application development https://t.co/X6V7dqamNS #python #love #edge #apphosting', '_id': ObjectId('5e7263a6151debed689f2efa')}\n",
      "{'created_at': 'Wed Mar 18 18:08:33 +0000 2020', 'id_str': '1240339323972546560', 'text': 'We reflect a year after the 15th of March 2019 Mosque Attacks.\\n\\nhttps://t.co/jJvC23Hp6Q \\n\\n#NZPUG #Python… https://t.co/7eaRfucRvC', '_id': ObjectId('5e7263a7151debed689f2efb')}\n"
     ]
    },
    {
     "name": "stdout",
     "output_type": "stream",
     "text": [
      "{'created_at': 'Wed Mar 18 18:08:36 +0000 2020', 'id_str': '1240339333552508928', 'text': 'RT @gp_pulipaka: Disrupting Deepfakes: Image Translation Networks and Facial Manipulation Systems by @UMassBoston. #BigData #Analytics #Dat…', '_id': ObjectId('5e7263a9151debed689f2efc')}\n",
      "{'created_at': 'Wed Mar 18 18:08:36 +0000 2020', 'id_str': '1240339333955141635', 'text': 'Research Assistants Jack and Angus conducting fish population surveys. All of the data they collect will contribute… https://t.co/1fV3624G3D', '_id': ObjectId('5e7263a9151debed689f2efd')}\n",
      "{'created_at': 'Wed Mar 18 18:08:37 +0000 2020', 'id_str': '1240339340632494087', 'text': 'BIG MISTAKE: The World Relies on Coronavirus Data from China and the China Influenced WHO https://t.co/wWoP8ILe8A v… https://t.co/0TYdZ5HqoK', '_id': ObjectId('5e7263ab151debed689f2efe')}\n",
      "{'created_at': 'Wed Mar 18 18:08:37 +0000 2020', 'id_str': '1240339341081284609', 'text': 'RT @umdbiosci: What do researchers do when they only have imperfect data? @kwren88 discusses with @TheAtlantic. https://t.co/R11atrtqMR', '_id': ObjectId('5e7263ab151debed689f2eff')}\n"
     ]
    },
    {
     "ename": "KeyboardInterrupt",
     "evalue": "",
     "output_type": "error",
     "traceback": [
      "\u001b[1;31m---------------------------------------------------------------------------\u001b[0m",
      "\u001b[1;31mWantReadError\u001b[0m                             Traceback (most recent call last)",
      "\u001b[1;32m~\\Anaconda3\\lib\\site-packages\\urllib3\\contrib\\pyopenssl.py\u001b[0m in \u001b[0;36mrecv_into\u001b[1;34m(self, *args, **kwargs)\u001b[0m\n\u001b[0;32m    296\u001b[0m         \u001b[1;32mtry\u001b[0m\u001b[1;33m:\u001b[0m\u001b[1;33m\u001b[0m\u001b[1;33m\u001b[0m\u001b[0m\n\u001b[1;32m--> 297\u001b[1;33m             \u001b[1;32mreturn\u001b[0m \u001b[0mself\u001b[0m\u001b[1;33m.\u001b[0m\u001b[0mconnection\u001b[0m\u001b[1;33m.\u001b[0m\u001b[0mrecv_into\u001b[0m\u001b[1;33m(\u001b[0m\u001b[1;33m*\u001b[0m\u001b[0margs\u001b[0m\u001b[1;33m,\u001b[0m \u001b[1;33m**\u001b[0m\u001b[0mkwargs\u001b[0m\u001b[1;33m)\u001b[0m\u001b[1;33m\u001b[0m\u001b[1;33m\u001b[0m\u001b[0m\n\u001b[0m\u001b[0;32m    298\u001b[0m         \u001b[1;32mexcept\u001b[0m \u001b[0mOpenSSL\u001b[0m\u001b[1;33m.\u001b[0m\u001b[0mSSL\u001b[0m\u001b[1;33m.\u001b[0m\u001b[0mSysCallError\u001b[0m \u001b[1;32mas\u001b[0m \u001b[0me\u001b[0m\u001b[1;33m:\u001b[0m\u001b[1;33m\u001b[0m\u001b[1;33m\u001b[0m\u001b[0m\n",
      "\u001b[1;32m~\\Anaconda3\\lib\\site-packages\\OpenSSL\\SSL.py\u001b[0m in \u001b[0;36mrecv_into\u001b[1;34m(self, buffer, nbytes, flags)\u001b[0m\n\u001b[0;32m   1821\u001b[0m             \u001b[0mresult\u001b[0m \u001b[1;33m=\u001b[0m \u001b[0m_lib\u001b[0m\u001b[1;33m.\u001b[0m\u001b[0mSSL_read\u001b[0m\u001b[1;33m(\u001b[0m\u001b[0mself\u001b[0m\u001b[1;33m.\u001b[0m\u001b[0m_ssl\u001b[0m\u001b[1;33m,\u001b[0m \u001b[0mbuf\u001b[0m\u001b[1;33m,\u001b[0m \u001b[0mnbytes\u001b[0m\u001b[1;33m)\u001b[0m\u001b[1;33m\u001b[0m\u001b[1;33m\u001b[0m\u001b[0m\n\u001b[1;32m-> 1822\u001b[1;33m         \u001b[0mself\u001b[0m\u001b[1;33m.\u001b[0m\u001b[0m_raise_ssl_error\u001b[0m\u001b[1;33m(\u001b[0m\u001b[0mself\u001b[0m\u001b[1;33m.\u001b[0m\u001b[0m_ssl\u001b[0m\u001b[1;33m,\u001b[0m \u001b[0mresult\u001b[0m\u001b[1;33m)\u001b[0m\u001b[1;33m\u001b[0m\u001b[1;33m\u001b[0m\u001b[0m\n\u001b[0m\u001b[0;32m   1823\u001b[0m \u001b[1;33m\u001b[0m\u001b[0m\n",
      "\u001b[1;32m~\\Anaconda3\\lib\\site-packages\\OpenSSL\\SSL.py\u001b[0m in \u001b[0;36m_raise_ssl_error\u001b[1;34m(self, ssl, result)\u001b[0m\n\u001b[0;32m   1621\u001b[0m         \u001b[1;32mif\u001b[0m \u001b[0merror\u001b[0m \u001b[1;33m==\u001b[0m \u001b[0m_lib\u001b[0m\u001b[1;33m.\u001b[0m\u001b[0mSSL_ERROR_WANT_READ\u001b[0m\u001b[1;33m:\u001b[0m\u001b[1;33m\u001b[0m\u001b[1;33m\u001b[0m\u001b[0m\n\u001b[1;32m-> 1622\u001b[1;33m             \u001b[1;32mraise\u001b[0m \u001b[0mWantReadError\u001b[0m\u001b[1;33m(\u001b[0m\u001b[1;33m)\u001b[0m\u001b[1;33m\u001b[0m\u001b[1;33m\u001b[0m\u001b[0m\n\u001b[0m\u001b[0;32m   1623\u001b[0m         \u001b[1;32melif\u001b[0m \u001b[0merror\u001b[0m \u001b[1;33m==\u001b[0m \u001b[0m_lib\u001b[0m\u001b[1;33m.\u001b[0m\u001b[0mSSL_ERROR_WANT_WRITE\u001b[0m\u001b[1;33m:\u001b[0m\u001b[1;33m\u001b[0m\u001b[1;33m\u001b[0m\u001b[0m\n",
      "\u001b[1;31mWantReadError\u001b[0m: ",
      "\nDuring handling of the above exception, another exception occurred:\n",
      "\u001b[1;31mKeyboardInterrupt\u001b[0m                         Traceback (most recent call last)",
      "\u001b[1;32m<ipython-input-25-81372dacd035>\u001b[0m in \u001b[0;36m<module>\u001b[1;34m\u001b[0m\n\u001b[0;32m      1\u001b[0m \u001b[1;31m# iniciando o filtro e gravando no mongoDB\u001b[0m\u001b[1;33m\u001b[0m\u001b[1;33m\u001b[0m\u001b[1;33m\u001b[0m\u001b[0m\n\u001b[1;32m----> 2\u001b[1;33m \u001b[0mmystream\u001b[0m\u001b[1;33m.\u001b[0m\u001b[0mfilter\u001b[0m\u001b[1;33m(\u001b[0m\u001b[0mtrack\u001b[0m \u001b[1;33m=\u001b[0m \u001b[0mkeywords\u001b[0m\u001b[1;33m)\u001b[0m\u001b[1;33m\u001b[0m\u001b[1;33m\u001b[0m\u001b[0m\n\u001b[0m",
      "\u001b[1;32m~\\Anaconda3\\lib\\site-packages\\tweepy\\streaming.py\u001b[0m in \u001b[0;36mfilter\u001b[1;34m(self, follow, track, is_async, locations, stall_warnings, languages, encoding, filter_level)\u001b[0m\n\u001b[0;32m    472\u001b[0m             \u001b[0mself\u001b[0m\u001b[1;33m.\u001b[0m\u001b[0mbody\u001b[0m\u001b[1;33m[\u001b[0m\u001b[1;34m'filter_level'\u001b[0m\u001b[1;33m]\u001b[0m \u001b[1;33m=\u001b[0m \u001b[0mfilter_level\u001b[0m\u001b[1;33m.\u001b[0m\u001b[0mencode\u001b[0m\u001b[1;33m(\u001b[0m\u001b[0mencoding\u001b[0m\u001b[1;33m)\u001b[0m\u001b[1;33m\u001b[0m\u001b[1;33m\u001b[0m\u001b[0m\n\u001b[0;32m    473\u001b[0m         \u001b[0mself\u001b[0m\u001b[1;33m.\u001b[0m\u001b[0msession\u001b[0m\u001b[1;33m.\u001b[0m\u001b[0mparams\u001b[0m \u001b[1;33m=\u001b[0m \u001b[1;33m{\u001b[0m\u001b[1;34m'delimited'\u001b[0m\u001b[1;33m:\u001b[0m \u001b[1;34m'length'\u001b[0m\u001b[1;33m}\u001b[0m\u001b[1;33m\u001b[0m\u001b[1;33m\u001b[0m\u001b[0m\n\u001b[1;32m--> 474\u001b[1;33m         \u001b[0mself\u001b[0m\u001b[1;33m.\u001b[0m\u001b[0m_start\u001b[0m\u001b[1;33m(\u001b[0m\u001b[0mis_async\u001b[0m\u001b[1;33m)\u001b[0m\u001b[1;33m\u001b[0m\u001b[1;33m\u001b[0m\u001b[0m\n\u001b[0m\u001b[0;32m    475\u001b[0m \u001b[1;33m\u001b[0m\u001b[0m\n\u001b[0;32m    476\u001b[0m     def sitestream(self, follow, stall_warnings=False,\n",
      "\u001b[1;32m~\\Anaconda3\\lib\\site-packages\\tweepy\\streaming.py\u001b[0m in \u001b[0;36m_start\u001b[1;34m(self, is_async)\u001b[0m\n\u001b[0;32m    387\u001b[0m             \u001b[0mself\u001b[0m\u001b[1;33m.\u001b[0m\u001b[0m_thread\u001b[0m\u001b[1;33m.\u001b[0m\u001b[0mstart\u001b[0m\u001b[1;33m(\u001b[0m\u001b[1;33m)\u001b[0m\u001b[1;33m\u001b[0m\u001b[1;33m\u001b[0m\u001b[0m\n\u001b[0;32m    388\u001b[0m         \u001b[1;32melse\u001b[0m\u001b[1;33m:\u001b[0m\u001b[1;33m\u001b[0m\u001b[1;33m\u001b[0m\u001b[0m\n\u001b[1;32m--> 389\u001b[1;33m             \u001b[0mself\u001b[0m\u001b[1;33m.\u001b[0m\u001b[0m_run\u001b[0m\u001b[1;33m(\u001b[0m\u001b[1;33m)\u001b[0m\u001b[1;33m\u001b[0m\u001b[1;33m\u001b[0m\u001b[0m\n\u001b[0m\u001b[0;32m    390\u001b[0m \u001b[1;33m\u001b[0m\u001b[0m\n\u001b[0;32m    391\u001b[0m     \u001b[1;32mdef\u001b[0m \u001b[0mon_closed\u001b[0m\u001b[1;33m(\u001b[0m\u001b[0mself\u001b[0m\u001b[1;33m,\u001b[0m \u001b[0mresp\u001b[0m\u001b[1;33m)\u001b[0m\u001b[1;33m:\u001b[0m\u001b[1;33m\u001b[0m\u001b[1;33m\u001b[0m\u001b[0m\n",
      "\u001b[1;32m~\\Anaconda3\\lib\\site-packages\\tweepy\\streaming.py\u001b[0m in \u001b[0;36m_run\u001b[1;34m(self)\u001b[0m\n\u001b[0;32m    287\u001b[0m                     \u001b[0mself\u001b[0m\u001b[1;33m.\u001b[0m\u001b[0msnooze_time\u001b[0m \u001b[1;33m=\u001b[0m \u001b[0mself\u001b[0m\u001b[1;33m.\u001b[0m\u001b[0msnooze_time_step\u001b[0m\u001b[1;33m\u001b[0m\u001b[1;33m\u001b[0m\u001b[0m\n\u001b[0;32m    288\u001b[0m                     \u001b[0mself\u001b[0m\u001b[1;33m.\u001b[0m\u001b[0mlistener\u001b[0m\u001b[1;33m.\u001b[0m\u001b[0mon_connect\u001b[0m\u001b[1;33m(\u001b[0m\u001b[1;33m)\u001b[0m\u001b[1;33m\u001b[0m\u001b[1;33m\u001b[0m\u001b[0m\n\u001b[1;32m--> 289\u001b[1;33m                     \u001b[0mself\u001b[0m\u001b[1;33m.\u001b[0m\u001b[0m_read_loop\u001b[0m\u001b[1;33m(\u001b[0m\u001b[0mresp\u001b[0m\u001b[1;33m)\u001b[0m\u001b[1;33m\u001b[0m\u001b[1;33m\u001b[0m\u001b[0m\n\u001b[0m\u001b[0;32m    290\u001b[0m             \u001b[1;32mexcept\u001b[0m \u001b[1;33m(\u001b[0m\u001b[0mTimeout\u001b[0m\u001b[1;33m,\u001b[0m \u001b[0mssl\u001b[0m\u001b[1;33m.\u001b[0m\u001b[0mSSLError\u001b[0m\u001b[1;33m)\u001b[0m \u001b[1;32mas\u001b[0m \u001b[0mexc\u001b[0m\u001b[1;33m:\u001b[0m\u001b[1;33m\u001b[0m\u001b[1;33m\u001b[0m\u001b[0m\n\u001b[0;32m    291\u001b[0m                 \u001b[1;31m# This is still necessary, as a SSLError can actually be\u001b[0m\u001b[1;33m\u001b[0m\u001b[1;33m\u001b[0m\u001b[1;33m\u001b[0m\u001b[0m\n",
      "\u001b[1;32m~\\Anaconda3\\lib\\site-packages\\tweepy\\streaming.py\u001b[0m in \u001b[0;36m_read_loop\u001b[1;34m(self, resp)\u001b[0m\n\u001b[0;32m    337\u001b[0m             \u001b[0mlength\u001b[0m \u001b[1;33m=\u001b[0m \u001b[1;36m0\u001b[0m\u001b[1;33m\u001b[0m\u001b[1;33m\u001b[0m\u001b[0m\n\u001b[0;32m    338\u001b[0m             \u001b[1;32mwhile\u001b[0m \u001b[1;32mnot\u001b[0m \u001b[0mresp\u001b[0m\u001b[1;33m.\u001b[0m\u001b[0mraw\u001b[0m\u001b[1;33m.\u001b[0m\u001b[0mclosed\u001b[0m\u001b[1;33m:\u001b[0m\u001b[1;33m\u001b[0m\u001b[1;33m\u001b[0m\u001b[0m\n\u001b[1;32m--> 339\u001b[1;33m                 \u001b[0mline\u001b[0m \u001b[1;33m=\u001b[0m \u001b[0mbuf\u001b[0m\u001b[1;33m.\u001b[0m\u001b[0mread_line\u001b[0m\u001b[1;33m(\u001b[0m\u001b[1;33m)\u001b[0m\u001b[1;33m\u001b[0m\u001b[1;33m\u001b[0m\u001b[0m\n\u001b[0m\u001b[0;32m    340\u001b[0m                 \u001b[0mstripped_line\u001b[0m \u001b[1;33m=\u001b[0m \u001b[0mline\u001b[0m\u001b[1;33m.\u001b[0m\u001b[0mstrip\u001b[0m\u001b[1;33m(\u001b[0m\u001b[1;33m)\u001b[0m \u001b[1;32mif\u001b[0m \u001b[0mline\u001b[0m \u001b[1;32melse\u001b[0m \u001b[0mline\u001b[0m \u001b[1;31m# line is sometimes None so we need to check here\u001b[0m\u001b[1;33m\u001b[0m\u001b[1;33m\u001b[0m\u001b[0m\n\u001b[0;32m    341\u001b[0m                 \u001b[1;32mif\u001b[0m \u001b[1;32mnot\u001b[0m \u001b[0mstripped_line\u001b[0m\u001b[1;33m:\u001b[0m\u001b[1;33m\u001b[0m\u001b[1;33m\u001b[0m\u001b[0m\n",
      "\u001b[1;32m~\\Anaconda3\\lib\\site-packages\\tweepy\\streaming.py\u001b[0m in \u001b[0;36mread_line\u001b[1;34m(self, sep)\u001b[0m\n\u001b[0;32m    198\u001b[0m             \u001b[1;32melse\u001b[0m\u001b[1;33m:\u001b[0m\u001b[1;33m\u001b[0m\u001b[1;33m\u001b[0m\u001b[0m\n\u001b[0;32m    199\u001b[0m                 \u001b[0mstart\u001b[0m \u001b[1;33m=\u001b[0m \u001b[0mlen\u001b[0m\u001b[1;33m(\u001b[0m\u001b[0mself\u001b[0m\u001b[1;33m.\u001b[0m\u001b[0m_buffer\u001b[0m\u001b[1;33m)\u001b[0m\u001b[1;33m\u001b[0m\u001b[1;33m\u001b[0m\u001b[0m\n\u001b[1;32m--> 200\u001b[1;33m             \u001b[0mself\u001b[0m\u001b[1;33m.\u001b[0m\u001b[0m_buffer\u001b[0m \u001b[1;33m+=\u001b[0m \u001b[0mself\u001b[0m\u001b[1;33m.\u001b[0m\u001b[0m_stream\u001b[0m\u001b[1;33m.\u001b[0m\u001b[0mread\u001b[0m\u001b[1;33m(\u001b[0m\u001b[0mself\u001b[0m\u001b[1;33m.\u001b[0m\u001b[0m_chunk_size\u001b[0m\u001b[1;33m)\u001b[0m\u001b[1;33m\u001b[0m\u001b[1;33m\u001b[0m\u001b[0m\n\u001b[0m\u001b[0;32m    201\u001b[0m         \u001b[1;32mreturn\u001b[0m \u001b[0msix\u001b[0m\u001b[1;33m.\u001b[0m\u001b[0mb\u001b[0m\u001b[1;33m(\u001b[0m\u001b[1;34m''\u001b[0m\u001b[1;33m)\u001b[0m\u001b[1;33m\u001b[0m\u001b[1;33m\u001b[0m\u001b[0m\n\u001b[0;32m    202\u001b[0m \u001b[1;33m\u001b[0m\u001b[0m\n",
      "\u001b[1;32m~\\Anaconda3\\lib\\site-packages\\urllib3\\response.py\u001b[0m in \u001b[0;36mread\u001b[1;34m(self, amt, decode_content, cache_content)\u001b[0m\n\u001b[0;32m    440\u001b[0m             \u001b[1;32melse\u001b[0m\u001b[1;33m:\u001b[0m\u001b[1;33m\u001b[0m\u001b[1;33m\u001b[0m\u001b[0m\n\u001b[0;32m    441\u001b[0m                 \u001b[0mcache_content\u001b[0m \u001b[1;33m=\u001b[0m \u001b[1;32mFalse\u001b[0m\u001b[1;33m\u001b[0m\u001b[1;33m\u001b[0m\u001b[0m\n\u001b[1;32m--> 442\u001b[1;33m                 \u001b[0mdata\u001b[0m \u001b[1;33m=\u001b[0m \u001b[0mself\u001b[0m\u001b[1;33m.\u001b[0m\u001b[0m_fp\u001b[0m\u001b[1;33m.\u001b[0m\u001b[0mread\u001b[0m\u001b[1;33m(\u001b[0m\u001b[0mamt\u001b[0m\u001b[1;33m)\u001b[0m\u001b[1;33m\u001b[0m\u001b[1;33m\u001b[0m\u001b[0m\n\u001b[0m\u001b[0;32m    443\u001b[0m                 \u001b[1;32mif\u001b[0m \u001b[0mamt\u001b[0m \u001b[1;33m!=\u001b[0m \u001b[1;36m0\u001b[0m \u001b[1;32mand\u001b[0m \u001b[1;32mnot\u001b[0m \u001b[0mdata\u001b[0m\u001b[1;33m:\u001b[0m  \u001b[1;31m# Platform-specific: Buggy versions of Python.\u001b[0m\u001b[1;33m\u001b[0m\u001b[1;33m\u001b[0m\u001b[0m\n\u001b[0;32m    444\u001b[0m                     \u001b[1;31m# Close the connection when no data is returned\u001b[0m\u001b[1;33m\u001b[0m\u001b[1;33m\u001b[0m\u001b[1;33m\u001b[0m\u001b[0m\n",
      "\u001b[1;32m~\\Anaconda3\\lib\\http\\client.py\u001b[0m in \u001b[0;36mread\u001b[1;34m(self, amt)\u001b[0m\n\u001b[0;32m    455\u001b[0m             \u001b[1;31m# Amount is given, implement using readinto\u001b[0m\u001b[1;33m\u001b[0m\u001b[1;33m\u001b[0m\u001b[1;33m\u001b[0m\u001b[0m\n\u001b[0;32m    456\u001b[0m             \u001b[0mb\u001b[0m \u001b[1;33m=\u001b[0m \u001b[0mbytearray\u001b[0m\u001b[1;33m(\u001b[0m\u001b[0mamt\u001b[0m\u001b[1;33m)\u001b[0m\u001b[1;33m\u001b[0m\u001b[1;33m\u001b[0m\u001b[0m\n\u001b[1;32m--> 457\u001b[1;33m             \u001b[0mn\u001b[0m \u001b[1;33m=\u001b[0m \u001b[0mself\u001b[0m\u001b[1;33m.\u001b[0m\u001b[0mreadinto\u001b[0m\u001b[1;33m(\u001b[0m\u001b[0mb\u001b[0m\u001b[1;33m)\u001b[0m\u001b[1;33m\u001b[0m\u001b[1;33m\u001b[0m\u001b[0m\n\u001b[0m\u001b[0;32m    458\u001b[0m             \u001b[1;32mreturn\u001b[0m \u001b[0mmemoryview\u001b[0m\u001b[1;33m(\u001b[0m\u001b[0mb\u001b[0m\u001b[1;33m)\u001b[0m\u001b[1;33m[\u001b[0m\u001b[1;33m:\u001b[0m\u001b[0mn\u001b[0m\u001b[1;33m]\u001b[0m\u001b[1;33m.\u001b[0m\u001b[0mtobytes\u001b[0m\u001b[1;33m(\u001b[0m\u001b[1;33m)\u001b[0m\u001b[1;33m\u001b[0m\u001b[1;33m\u001b[0m\u001b[0m\n\u001b[0;32m    459\u001b[0m         \u001b[1;32melse\u001b[0m\u001b[1;33m:\u001b[0m\u001b[1;33m\u001b[0m\u001b[1;33m\u001b[0m\u001b[0m\n",
      "\u001b[1;32m~\\Anaconda3\\lib\\http\\client.py\u001b[0m in \u001b[0;36mreadinto\u001b[1;34m(self, b)\u001b[0m\n\u001b[0;32m    489\u001b[0m \u001b[1;33m\u001b[0m\u001b[0m\n\u001b[0;32m    490\u001b[0m         \u001b[1;32mif\u001b[0m \u001b[0mself\u001b[0m\u001b[1;33m.\u001b[0m\u001b[0mchunked\u001b[0m\u001b[1;33m:\u001b[0m\u001b[1;33m\u001b[0m\u001b[1;33m\u001b[0m\u001b[0m\n\u001b[1;32m--> 491\u001b[1;33m             \u001b[1;32mreturn\u001b[0m \u001b[0mself\u001b[0m\u001b[1;33m.\u001b[0m\u001b[0m_readinto_chunked\u001b[0m\u001b[1;33m(\u001b[0m\u001b[0mb\u001b[0m\u001b[1;33m)\u001b[0m\u001b[1;33m\u001b[0m\u001b[1;33m\u001b[0m\u001b[0m\n\u001b[0m\u001b[0;32m    492\u001b[0m \u001b[1;33m\u001b[0m\u001b[0m\n\u001b[0;32m    493\u001b[0m         \u001b[1;32mif\u001b[0m \u001b[0mself\u001b[0m\u001b[1;33m.\u001b[0m\u001b[0mlength\u001b[0m \u001b[1;32mis\u001b[0m \u001b[1;32mnot\u001b[0m \u001b[1;32mNone\u001b[0m\u001b[1;33m:\u001b[0m\u001b[1;33m\u001b[0m\u001b[1;33m\u001b[0m\u001b[0m\n",
      "\u001b[1;32m~\\Anaconda3\\lib\\http\\client.py\u001b[0m in \u001b[0;36m_readinto_chunked\u001b[1;34m(self, b)\u001b[0m\n\u001b[0;32m    584\u001b[0m         \u001b[1;32mtry\u001b[0m\u001b[1;33m:\u001b[0m\u001b[1;33m\u001b[0m\u001b[1;33m\u001b[0m\u001b[0m\n\u001b[0;32m    585\u001b[0m             \u001b[1;32mwhile\u001b[0m \u001b[1;32mTrue\u001b[0m\u001b[1;33m:\u001b[0m\u001b[1;33m\u001b[0m\u001b[1;33m\u001b[0m\u001b[0m\n\u001b[1;32m--> 586\u001b[1;33m                 \u001b[0mchunk_left\u001b[0m \u001b[1;33m=\u001b[0m \u001b[0mself\u001b[0m\u001b[1;33m.\u001b[0m\u001b[0m_get_chunk_left\u001b[0m\u001b[1;33m(\u001b[0m\u001b[1;33m)\u001b[0m\u001b[1;33m\u001b[0m\u001b[1;33m\u001b[0m\u001b[0m\n\u001b[0m\u001b[0;32m    587\u001b[0m                 \u001b[1;32mif\u001b[0m \u001b[0mchunk_left\u001b[0m \u001b[1;32mis\u001b[0m \u001b[1;32mNone\u001b[0m\u001b[1;33m:\u001b[0m\u001b[1;33m\u001b[0m\u001b[1;33m\u001b[0m\u001b[0m\n\u001b[0;32m    588\u001b[0m                     \u001b[1;32mreturn\u001b[0m \u001b[0mtotal_bytes\u001b[0m\u001b[1;33m\u001b[0m\u001b[1;33m\u001b[0m\u001b[0m\n",
      "\u001b[1;32m~\\Anaconda3\\lib\\http\\client.py\u001b[0m in \u001b[0;36m_get_chunk_left\u001b[1;34m(self)\u001b[0m\n\u001b[0;32m    552\u001b[0m                 \u001b[0mself\u001b[0m\u001b[1;33m.\u001b[0m\u001b[0m_safe_read\u001b[0m\u001b[1;33m(\u001b[0m\u001b[1;36m2\u001b[0m\u001b[1;33m)\u001b[0m  \u001b[1;31m# toss the CRLF at the end of the chunk\u001b[0m\u001b[1;33m\u001b[0m\u001b[1;33m\u001b[0m\u001b[0m\n\u001b[0;32m    553\u001b[0m             \u001b[1;32mtry\u001b[0m\u001b[1;33m:\u001b[0m\u001b[1;33m\u001b[0m\u001b[1;33m\u001b[0m\u001b[0m\n\u001b[1;32m--> 554\u001b[1;33m                 \u001b[0mchunk_left\u001b[0m \u001b[1;33m=\u001b[0m \u001b[0mself\u001b[0m\u001b[1;33m.\u001b[0m\u001b[0m_read_next_chunk_size\u001b[0m\u001b[1;33m(\u001b[0m\u001b[1;33m)\u001b[0m\u001b[1;33m\u001b[0m\u001b[1;33m\u001b[0m\u001b[0m\n\u001b[0m\u001b[0;32m    555\u001b[0m             \u001b[1;32mexcept\u001b[0m \u001b[0mValueError\u001b[0m\u001b[1;33m:\u001b[0m\u001b[1;33m\u001b[0m\u001b[1;33m\u001b[0m\u001b[0m\n\u001b[0;32m    556\u001b[0m                 \u001b[1;32mraise\u001b[0m \u001b[0mIncompleteRead\u001b[0m\u001b[1;33m(\u001b[0m\u001b[1;34mb''\u001b[0m\u001b[1;33m)\u001b[0m\u001b[1;33m\u001b[0m\u001b[1;33m\u001b[0m\u001b[0m\n",
      "\u001b[1;32m~\\Anaconda3\\lib\\http\\client.py\u001b[0m in \u001b[0;36m_read_next_chunk_size\u001b[1;34m(self)\u001b[0m\n\u001b[0;32m    512\u001b[0m     \u001b[1;32mdef\u001b[0m \u001b[0m_read_next_chunk_size\u001b[0m\u001b[1;33m(\u001b[0m\u001b[0mself\u001b[0m\u001b[1;33m)\u001b[0m\u001b[1;33m:\u001b[0m\u001b[1;33m\u001b[0m\u001b[1;33m\u001b[0m\u001b[0m\n\u001b[0;32m    513\u001b[0m         \u001b[1;31m# Read the next chunk size from the file\u001b[0m\u001b[1;33m\u001b[0m\u001b[1;33m\u001b[0m\u001b[1;33m\u001b[0m\u001b[0m\n\u001b[1;32m--> 514\u001b[1;33m         \u001b[0mline\u001b[0m \u001b[1;33m=\u001b[0m \u001b[0mself\u001b[0m\u001b[1;33m.\u001b[0m\u001b[0mfp\u001b[0m\u001b[1;33m.\u001b[0m\u001b[0mreadline\u001b[0m\u001b[1;33m(\u001b[0m\u001b[0m_MAXLINE\u001b[0m \u001b[1;33m+\u001b[0m \u001b[1;36m1\u001b[0m\u001b[1;33m)\u001b[0m\u001b[1;33m\u001b[0m\u001b[1;33m\u001b[0m\u001b[0m\n\u001b[0m\u001b[0;32m    515\u001b[0m         \u001b[1;32mif\u001b[0m \u001b[0mlen\u001b[0m\u001b[1;33m(\u001b[0m\u001b[0mline\u001b[0m\u001b[1;33m)\u001b[0m \u001b[1;33m>\u001b[0m \u001b[0m_MAXLINE\u001b[0m\u001b[1;33m:\u001b[0m\u001b[1;33m\u001b[0m\u001b[1;33m\u001b[0m\u001b[0m\n\u001b[0;32m    516\u001b[0m             \u001b[1;32mraise\u001b[0m \u001b[0mLineTooLong\u001b[0m\u001b[1;33m(\u001b[0m\u001b[1;34m\"chunk size\"\u001b[0m\u001b[1;33m)\u001b[0m\u001b[1;33m\u001b[0m\u001b[1;33m\u001b[0m\u001b[0m\n",
      "\u001b[1;32m~\\Anaconda3\\lib\\socket.py\u001b[0m in \u001b[0;36mreadinto\u001b[1;34m(self, b)\u001b[0m\n\u001b[0;32m    587\u001b[0m         \u001b[1;32mwhile\u001b[0m \u001b[1;32mTrue\u001b[0m\u001b[1;33m:\u001b[0m\u001b[1;33m\u001b[0m\u001b[1;33m\u001b[0m\u001b[0m\n\u001b[0;32m    588\u001b[0m             \u001b[1;32mtry\u001b[0m\u001b[1;33m:\u001b[0m\u001b[1;33m\u001b[0m\u001b[1;33m\u001b[0m\u001b[0m\n\u001b[1;32m--> 589\u001b[1;33m                 \u001b[1;32mreturn\u001b[0m \u001b[0mself\u001b[0m\u001b[1;33m.\u001b[0m\u001b[0m_sock\u001b[0m\u001b[1;33m.\u001b[0m\u001b[0mrecv_into\u001b[0m\u001b[1;33m(\u001b[0m\u001b[0mb\u001b[0m\u001b[1;33m)\u001b[0m\u001b[1;33m\u001b[0m\u001b[1;33m\u001b[0m\u001b[0m\n\u001b[0m\u001b[0;32m    590\u001b[0m             \u001b[1;32mexcept\u001b[0m \u001b[0mtimeout\u001b[0m\u001b[1;33m:\u001b[0m\u001b[1;33m\u001b[0m\u001b[1;33m\u001b[0m\u001b[0m\n\u001b[0;32m    591\u001b[0m                 \u001b[0mself\u001b[0m\u001b[1;33m.\u001b[0m\u001b[0m_timeout_occurred\u001b[0m \u001b[1;33m=\u001b[0m \u001b[1;32mTrue\u001b[0m\u001b[1;33m\u001b[0m\u001b[1;33m\u001b[0m\u001b[0m\n",
      "\u001b[1;32m~\\Anaconda3\\lib\\site-packages\\urllib3\\contrib\\pyopenssl.py\u001b[0m in \u001b[0;36mrecv_into\u001b[1;34m(self, *args, **kwargs)\u001b[0m\n\u001b[0;32m    307\u001b[0m                 \u001b[1;32mraise\u001b[0m\u001b[1;33m\u001b[0m\u001b[1;33m\u001b[0m\u001b[0m\n\u001b[0;32m    308\u001b[0m         \u001b[1;32mexcept\u001b[0m \u001b[0mOpenSSL\u001b[0m\u001b[1;33m.\u001b[0m\u001b[0mSSL\u001b[0m\u001b[1;33m.\u001b[0m\u001b[0mWantReadError\u001b[0m\u001b[1;33m:\u001b[0m\u001b[1;33m\u001b[0m\u001b[1;33m\u001b[0m\u001b[0m\n\u001b[1;32m--> 309\u001b[1;33m             \u001b[1;32mif\u001b[0m \u001b[1;32mnot\u001b[0m \u001b[0mutil\u001b[0m\u001b[1;33m.\u001b[0m\u001b[0mwait_for_read\u001b[0m\u001b[1;33m(\u001b[0m\u001b[0mself\u001b[0m\u001b[1;33m.\u001b[0m\u001b[0msocket\u001b[0m\u001b[1;33m,\u001b[0m \u001b[0mself\u001b[0m\u001b[1;33m.\u001b[0m\u001b[0msocket\u001b[0m\u001b[1;33m.\u001b[0m\u001b[0mgettimeout\u001b[0m\u001b[1;33m(\u001b[0m\u001b[1;33m)\u001b[0m\u001b[1;33m)\u001b[0m\u001b[1;33m:\u001b[0m\u001b[1;33m\u001b[0m\u001b[1;33m\u001b[0m\u001b[0m\n\u001b[0m\u001b[0;32m    310\u001b[0m                 \u001b[1;32mraise\u001b[0m \u001b[0mtimeout\u001b[0m\u001b[1;33m(\u001b[0m\u001b[1;34m'The read operation timed out'\u001b[0m\u001b[1;33m)\u001b[0m\u001b[1;33m\u001b[0m\u001b[1;33m\u001b[0m\u001b[0m\n\u001b[0;32m    311\u001b[0m             \u001b[1;32melse\u001b[0m\u001b[1;33m:\u001b[0m\u001b[1;33m\u001b[0m\u001b[1;33m\u001b[0m\u001b[0m\n",
      "\u001b[1;32m~\\Anaconda3\\lib\\site-packages\\urllib3\\util\\wait.py\u001b[0m in \u001b[0;36mwait_for_read\u001b[1;34m(sock, timeout)\u001b[0m\n\u001b[0;32m    141\u001b[0m     \u001b[0mReturns\u001b[0m \u001b[1;32mTrue\u001b[0m \u001b[1;32mif\u001b[0m \u001b[0mthe\u001b[0m \u001b[0msocket\u001b[0m \u001b[1;32mis\u001b[0m \u001b[0mreadable\u001b[0m\u001b[1;33m,\u001b[0m \u001b[1;32mor\u001b[0m \u001b[1;32mFalse\u001b[0m \u001b[1;32mif\u001b[0m \u001b[0mthe\u001b[0m \u001b[0mtimeout\u001b[0m \u001b[0mexpired\u001b[0m\u001b[1;33m.\u001b[0m\u001b[1;33m\u001b[0m\u001b[1;33m\u001b[0m\u001b[0m\n\u001b[0;32m    142\u001b[0m     \"\"\"\n\u001b[1;32m--> 143\u001b[1;33m     \u001b[1;32mreturn\u001b[0m \u001b[0mwait_for_socket\u001b[0m\u001b[1;33m(\u001b[0m\u001b[0msock\u001b[0m\u001b[1;33m,\u001b[0m \u001b[0mread\u001b[0m\u001b[1;33m=\u001b[0m\u001b[1;32mTrue\u001b[0m\u001b[1;33m,\u001b[0m \u001b[0mtimeout\u001b[0m\u001b[1;33m=\u001b[0m\u001b[0mtimeout\u001b[0m\u001b[1;33m)\u001b[0m\u001b[1;33m\u001b[0m\u001b[1;33m\u001b[0m\u001b[0m\n\u001b[0m\u001b[0;32m    144\u001b[0m \u001b[1;33m\u001b[0m\u001b[0m\n\u001b[0;32m    145\u001b[0m \u001b[1;33m\u001b[0m\u001b[0m\n",
      "\u001b[1;32m~\\Anaconda3\\lib\\site-packages\\urllib3\\util\\wait.py\u001b[0m in \u001b[0;36mselect_wait_for_socket\u001b[1;34m(sock, read, write, timeout)\u001b[0m\n\u001b[0;32m     81\u001b[0m     \u001b[1;31m# thing.)\u001b[0m\u001b[1;33m\u001b[0m\u001b[1;33m\u001b[0m\u001b[1;33m\u001b[0m\u001b[0m\n\u001b[0;32m     82\u001b[0m     \u001b[0mfn\u001b[0m \u001b[1;33m=\u001b[0m \u001b[0mpartial\u001b[0m\u001b[1;33m(\u001b[0m\u001b[0mselect\u001b[0m\u001b[1;33m.\u001b[0m\u001b[0mselect\u001b[0m\u001b[1;33m,\u001b[0m \u001b[0mrcheck\u001b[0m\u001b[1;33m,\u001b[0m \u001b[0mwcheck\u001b[0m\u001b[1;33m,\u001b[0m \u001b[0mwcheck\u001b[0m\u001b[1;33m)\u001b[0m\u001b[1;33m\u001b[0m\u001b[1;33m\u001b[0m\u001b[0m\n\u001b[1;32m---> 83\u001b[1;33m     \u001b[0mrready\u001b[0m\u001b[1;33m,\u001b[0m \u001b[0mwready\u001b[0m\u001b[1;33m,\u001b[0m \u001b[0mxready\u001b[0m \u001b[1;33m=\u001b[0m \u001b[0m_retry_on_intr\u001b[0m\u001b[1;33m(\u001b[0m\u001b[0mfn\u001b[0m\u001b[1;33m,\u001b[0m \u001b[0mtimeout\u001b[0m\u001b[1;33m)\u001b[0m\u001b[1;33m\u001b[0m\u001b[1;33m\u001b[0m\u001b[0m\n\u001b[0m\u001b[0;32m     84\u001b[0m     \u001b[1;32mreturn\u001b[0m \u001b[0mbool\u001b[0m\u001b[1;33m(\u001b[0m\u001b[0mrready\u001b[0m \u001b[1;32mor\u001b[0m \u001b[0mwready\u001b[0m \u001b[1;32mor\u001b[0m \u001b[0mxready\u001b[0m\u001b[1;33m)\u001b[0m\u001b[1;33m\u001b[0m\u001b[1;33m\u001b[0m\u001b[0m\n\u001b[0;32m     85\u001b[0m \u001b[1;33m\u001b[0m\u001b[0m\n",
      "\u001b[1;32m~\\Anaconda3\\lib\\site-packages\\urllib3\\util\\wait.py\u001b[0m in \u001b[0;36m_retry_on_intr\u001b[1;34m(fn, timeout)\u001b[0m\n\u001b[0;32m     40\u001b[0m     \u001b[1;31m# Modern Python, that retries syscalls by default\u001b[0m\u001b[1;33m\u001b[0m\u001b[1;33m\u001b[0m\u001b[1;33m\u001b[0m\u001b[0m\n\u001b[0;32m     41\u001b[0m     \u001b[1;32mdef\u001b[0m \u001b[0m_retry_on_intr\u001b[0m\u001b[1;33m(\u001b[0m\u001b[0mfn\u001b[0m\u001b[1;33m,\u001b[0m \u001b[0mtimeout\u001b[0m\u001b[1;33m)\u001b[0m\u001b[1;33m:\u001b[0m\u001b[1;33m\u001b[0m\u001b[1;33m\u001b[0m\u001b[0m\n\u001b[1;32m---> 42\u001b[1;33m         \u001b[1;32mreturn\u001b[0m \u001b[0mfn\u001b[0m\u001b[1;33m(\u001b[0m\u001b[0mtimeout\u001b[0m\u001b[1;33m)\u001b[0m\u001b[1;33m\u001b[0m\u001b[1;33m\u001b[0m\u001b[0m\n\u001b[0m\u001b[0;32m     43\u001b[0m \u001b[1;32melse\u001b[0m\u001b[1;33m:\u001b[0m\u001b[1;33m\u001b[0m\u001b[1;33m\u001b[0m\u001b[0m\n\u001b[0;32m     44\u001b[0m     \u001b[1;31m# Old and broken Pythons.\u001b[0m\u001b[1;33m\u001b[0m\u001b[1;33m\u001b[0m\u001b[1;33m\u001b[0m\u001b[0m\n",
      "\u001b[1;31mKeyboardInterrupt\u001b[0m: "
     ]
    }
   ],
   "source": [
    "# iniciando o filtro e gravando no mongoDB\n",
    "mystream.filter(track = keywords)"
   ]
  },
  {
   "cell_type": "code",
   "execution_count": 26,
   "metadata": {},
   "outputs": [],
   "source": [
    "# desconetar\n",
    "mystream.disconnect()"
   ]
  },
  {
   "cell_type": "code",
   "execution_count": 27,
   "metadata": {},
   "outputs": [
    {
     "data": {
      "text/plain": [
       "{'_id': ObjectId('5e726341151debed689f2ebd'),\n",
       " 'created_at': 'Wed Mar 18 18:06:51 +0000 2020',\n",
       " 'id_str': '1240338895272845315',\n",
       " 'text': 'Great idea if you are #WFH #teachingduringcoronavirus @scicommhannah @UniofReading @UK_CEH'}"
      ]
     },
     "execution_count": 27,
     "metadata": {},
     "output_type": "execute_result"
    }
   ],
   "source": [
    "# verificando um documento na collection\n",
    "col.find_one()"
   ]
  },
  {
   "cell_type": "markdown",
   "metadata": {},
   "source": [
    "## Análise de dados com Pandas e Scikt-Learn"
   ]
  },
  {
   "cell_type": "code",
   "execution_count": 30,
   "metadata": {},
   "outputs": [],
   "source": [
    "# criando um dataset com twitters coletados e armazenados no mongoDB\n",
    "# pela sintaxe col.find()\n",
    "dataset = [{'created_at': item['created_at'], 'text': item['text'],} for item in col.find()]"
   ]
  },
  {
   "cell_type": "code",
   "execution_count": 31,
   "metadata": {},
   "outputs": [],
   "source": [
    "# importando pandas para trabalhar com dataset em Python\n",
    "# por convenção é apelidado de pd\n",
    "import pandas as pd"
   ]
  },
  {
   "cell_type": "code",
   "execution_count": 32,
   "metadata": {},
   "outputs": [],
   "source": [
    "# criando um dataframe a partir do dataset\n",
    "df = pd.DataFrame(dataset)"
   ]
  },
  {
   "cell_type": "code",
   "execution_count": 34,
   "metadata": {},
   "outputs": [
    {
     "data": {
      "text/html": [
       "<div>\n",
       "<style scoped>\n",
       "    .dataframe tbody tr th:only-of-type {\n",
       "        vertical-align: middle;\n",
       "    }\n",
       "\n",
       "    .dataframe tbody tr th {\n",
       "        vertical-align: top;\n",
       "    }\n",
       "\n",
       "    .dataframe thead th {\n",
       "        text-align: right;\n",
       "    }\n",
       "</style>\n",
       "<table border=\"1\" class=\"dataframe\">\n",
       "  <thead>\n",
       "    <tr style=\"text-align: right;\">\n",
       "      <th></th>\n",
       "      <th>created_at</th>\n",
       "      <th>text</th>\n",
       "    </tr>\n",
       "  </thead>\n",
       "  <tbody>\n",
       "    <tr>\n",
       "      <td>0</td>\n",
       "      <td>Wed Mar 18 18:06:51 +0000 2020</td>\n",
       "      <td>Great idea if you are #WFH #teachingduringcoro...</td>\n",
       "    </tr>\n",
       "    <tr>\n",
       "      <td>1</td>\n",
       "      <td>Wed Mar 18 18:06:52 +0000 2020</td>\n",
       "      <td>Thread. Good analysis. \\n\\nIt’s not enough to ...</td>\n",
       "    </tr>\n",
       "    <tr>\n",
       "      <td>2</td>\n",
       "      <td>Wed Mar 18 18:06:53 +0000 2020</td>\n",
       "      <td>RT @alosefer: تفضل استاذ نايف تعلم اللغة الاول...</td>\n",
       "    </tr>\n",
       "    <tr>\n",
       "      <td>3</td>\n",
       "      <td>Wed Mar 18 18:06:55 +0000 2020</td>\n",
       "      <td>RT @gp_pulipaka: Business Case for Rearchitect...</td>\n",
       "    </tr>\n",
       "    <tr>\n",
       "      <td>4</td>\n",
       "      <td>Wed Mar 18 18:06:56 +0000 2020</td>\n",
       "      <td>https://t.co/MWfmsYLJxh @PlayCraftLearn #Minec...</td>\n",
       "    </tr>\n",
       "    <tr>\n",
       "      <td>...</td>\n",
       "      <td>...</td>\n",
       "      <td>...</td>\n",
       "    </tr>\n",
       "    <tr>\n",
       "      <td>62</td>\n",
       "      <td>Wed Mar 18 18:08:33 +0000 2020</td>\n",
       "      <td>We reflect a year after the 15th of March 2019...</td>\n",
       "    </tr>\n",
       "    <tr>\n",
       "      <td>63</td>\n",
       "      <td>Wed Mar 18 18:08:36 +0000 2020</td>\n",
       "      <td>RT @gp_pulipaka: Disrupting Deepfakes: Image T...</td>\n",
       "    </tr>\n",
       "    <tr>\n",
       "      <td>64</td>\n",
       "      <td>Wed Mar 18 18:08:36 +0000 2020</td>\n",
       "      <td>Research Assistants Jack and Angus conducting ...</td>\n",
       "    </tr>\n",
       "    <tr>\n",
       "      <td>65</td>\n",
       "      <td>Wed Mar 18 18:08:37 +0000 2020</td>\n",
       "      <td>BIG MISTAKE: The World Relies on Coronavirus D...</td>\n",
       "    </tr>\n",
       "    <tr>\n",
       "      <td>66</td>\n",
       "      <td>Wed Mar 18 18:08:37 +0000 2020</td>\n",
       "      <td>RT @umdbiosci: What do researchers do when the...</td>\n",
       "    </tr>\n",
       "  </tbody>\n",
       "</table>\n",
       "<p>67 rows × 2 columns</p>\n",
       "</div>"
      ],
      "text/plain": [
       "                        created_at  \\\n",
       "0   Wed Mar 18 18:06:51 +0000 2020   \n",
       "1   Wed Mar 18 18:06:52 +0000 2020   \n",
       "2   Wed Mar 18 18:06:53 +0000 2020   \n",
       "3   Wed Mar 18 18:06:55 +0000 2020   \n",
       "4   Wed Mar 18 18:06:56 +0000 2020   \n",
       "..                             ...   \n",
       "62  Wed Mar 18 18:08:33 +0000 2020   \n",
       "63  Wed Mar 18 18:08:36 +0000 2020   \n",
       "64  Wed Mar 18 18:08:36 +0000 2020   \n",
       "65  Wed Mar 18 18:08:37 +0000 2020   \n",
       "66  Wed Mar 18 18:08:37 +0000 2020   \n",
       "\n",
       "                                                 text  \n",
       "0   Great idea if you are #WFH #teachingduringcoro...  \n",
       "1   Thread. Good analysis. \\n\\nIt’s not enough to ...  \n",
       "2   RT @alosefer: تفضل استاذ نايف تعلم اللغة الاول...  \n",
       "3   RT @gp_pulipaka: Business Case for Rearchitect...  \n",
       "4   https://t.co/MWfmsYLJxh @PlayCraftLearn #Minec...  \n",
       "..                                                ...  \n",
       "62  We reflect a year after the 15th of March 2019...  \n",
       "63  RT @gp_pulipaka: Disrupting Deepfakes: Image T...  \n",
       "64  Research Assistants Jack and Angus conducting ...  \n",
       "65  BIG MISTAKE: The World Relies on Coronavirus D...  \n",
       "66  RT @umdbiosci: What do researchers do when the...  \n",
       "\n",
       "[67 rows x 2 columns]"
      ]
     },
     "execution_count": 34,
     "metadata": {},
     "output_type": "execute_result"
    }
   ],
   "source": [
    "# imprimindo o dataframe\n",
    "df"
   ]
  },
  {
   "cell_type": "code",
   "execution_count": 36,
   "metadata": {},
   "outputs": [],
   "source": [
    "# importando o módulo scikit learn\n",
    "# pacote muito utilizado em processamento de linguagem natural\n",
    "from sklearn.feature_extraction.text import CountVectorizer"
   ]
  },
  {
   "cell_type": "code",
   "execution_count": 37,
   "metadata": {},
   "outputs": [],
   "source": [
    "# usando o módulo CountVectorizer para criar uma matriz de documentos\n",
    "# CountVectorized(), função comum para sabe quantas vezes uma palavra \n",
    "# especificada por paramentro aparece neste caso meu dataframe\n",
    "# df.text coletando apenas a coluna text\n",
    "# cv.fit_transform(df.text), cria uma matrix, onde vai contabilizar\n",
    "# o conjuto de palavras que aparece no datframe\n",
    "\n",
    "cv = CountVectorizer()\n",
    "count_matrix = cv.fit_transform(df.text)"
   ]
  },
  {
   "cell_type": "code",
   "execution_count": 39,
   "metadata": {},
   "outputs": [
    {
     "data": {
      "text/html": [
       "<div>\n",
       "<style scoped>\n",
       "    .dataframe tbody tr th:only-of-type {\n",
       "        vertical-align: middle;\n",
       "    }\n",
       "\n",
       "    .dataframe tbody tr th {\n",
       "        vertical-align: top;\n",
       "    }\n",
       "\n",
       "    .dataframe thead th {\n",
       "        text-align: right;\n",
       "    }\n",
       "</style>\n",
       "<table border=\"1\" class=\"dataframe\">\n",
       "  <thead>\n",
       "    <tr style=\"text-align: right;\">\n",
       "      <th></th>\n",
       "      <th>word</th>\n",
       "      <th>count</th>\n",
       "    </tr>\n",
       "  </thead>\n",
       "  <tbody>\n",
       "    <tr>\n",
       "      <td>0</td>\n",
       "      <td>rt</td>\n",
       "      <td>44</td>\n",
       "    </tr>\n",
       "    <tr>\n",
       "      <td>1</td>\n",
       "      <td>co</td>\n",
       "      <td>37</td>\n",
       "    </tr>\n",
       "    <tr>\n",
       "      <td>2</td>\n",
       "      <td>https</td>\n",
       "      <td>37</td>\n",
       "    </tr>\n",
       "    <tr>\n",
       "      <td>3</td>\n",
       "      <td>python</td>\n",
       "      <td>24</td>\n",
       "    </tr>\n",
       "    <tr>\n",
       "      <td>4</td>\n",
       "      <td>data</td>\n",
       "      <td>21</td>\n",
       "    </tr>\n",
       "    <tr>\n",
       "      <td>5</td>\n",
       "      <td>and</td>\n",
       "      <td>19</td>\n",
       "    </tr>\n",
       "    <tr>\n",
       "      <td>6</td>\n",
       "      <td>bigdata</td>\n",
       "      <td>18</td>\n",
       "    </tr>\n",
       "    <tr>\n",
       "      <td>7</td>\n",
       "      <td>ai</td>\n",
       "      <td>18</td>\n",
       "    </tr>\n",
       "    <tr>\n",
       "      <td>8</td>\n",
       "      <td>the</td>\n",
       "      <td>16</td>\n",
       "    </tr>\n",
       "    <tr>\n",
       "      <td>9</td>\n",
       "      <td>to</td>\n",
       "      <td>16</td>\n",
       "    </tr>\n",
       "    <tr>\n",
       "      <td>10</td>\n",
       "      <td>analytics</td>\n",
       "      <td>15</td>\n",
       "    </tr>\n",
       "    <tr>\n",
       "      <td>11</td>\n",
       "      <td>gp_pulipaka</td>\n",
       "      <td>14</td>\n",
       "    </tr>\n",
       "    <tr>\n",
       "      <td>12</td>\n",
       "      <td>iot</td>\n",
       "      <td>14</td>\n",
       "    </tr>\n",
       "    <tr>\n",
       "      <td>13</td>\n",
       "      <td>datascience</td>\n",
       "      <td>13</td>\n",
       "    </tr>\n",
       "    <tr>\n",
       "      <td>14</td>\n",
       "      <td>machinelearning</td>\n",
       "      <td>13</td>\n",
       "    </tr>\n",
       "    <tr>\n",
       "      <td>15</td>\n",
       "      <td>big</td>\n",
       "      <td>12</td>\n",
       "    </tr>\n",
       "    <tr>\n",
       "      <td>16</td>\n",
       "      <td>iiot</td>\n",
       "      <td>12</td>\n",
       "    </tr>\n",
       "    <tr>\n",
       "      <td>17</td>\n",
       "      <td>you</td>\n",
       "      <td>11</td>\n",
       "    </tr>\n",
       "    <tr>\n",
       "      <td>18</td>\n",
       "      <td>of</td>\n",
       "      <td>10</td>\n",
       "    </tr>\n",
       "    <tr>\n",
       "      <td>19</td>\n",
       "      <td>for</td>\n",
       "      <td>9</td>\n",
       "    </tr>\n",
       "    <tr>\n",
       "      <td>20</td>\n",
       "      <td>it</td>\n",
       "      <td>9</td>\n",
       "    </tr>\n",
       "    <tr>\n",
       "      <td>21</td>\n",
       "      <td>rstats</td>\n",
       "      <td>8</td>\n",
       "    </tr>\n",
       "    <tr>\n",
       "      <td>22</td>\n",
       "      <td>with</td>\n",
       "      <td>8</td>\n",
       "    </tr>\n",
       "    <tr>\n",
       "      <td>23</td>\n",
       "      <td>how</td>\n",
       "      <td>7</td>\n",
       "    </tr>\n",
       "    <tr>\n",
       "      <td>24</td>\n",
       "      <td>is</td>\n",
       "      <td>6</td>\n",
       "    </tr>\n",
       "    <tr>\n",
       "      <td>25</td>\n",
       "      <td>pytorch</td>\n",
       "      <td>6</td>\n",
       "    </tr>\n",
       "    <tr>\n",
       "      <td>26</td>\n",
       "      <td>are</td>\n",
       "      <td>6</td>\n",
       "    </tr>\n",
       "    <tr>\n",
       "      <td>27</td>\n",
       "      <td>coronavirus</td>\n",
       "      <td>6</td>\n",
       "    </tr>\n",
       "    <tr>\n",
       "      <td>28</td>\n",
       "      <td>in</td>\n",
       "      <td>6</td>\n",
       "    </tr>\n",
       "    <tr>\n",
       "      <td>29</td>\n",
       "      <td>china</td>\n",
       "      <td>5</td>\n",
       "    </tr>\n",
       "    <tr>\n",
       "      <td>30</td>\n",
       "      <td>by</td>\n",
       "      <td>5</td>\n",
       "    </tr>\n",
       "    <tr>\n",
       "      <td>31</td>\n",
       "      <td>on</td>\n",
       "      <td>5</td>\n",
       "    </tr>\n",
       "    <tr>\n",
       "      <td>32</td>\n",
       "      <td>have</td>\n",
       "      <td>5</td>\n",
       "    </tr>\n",
       "    <tr>\n",
       "      <td>33</td>\n",
       "      <td>will</td>\n",
       "      <td>5</td>\n",
       "    </tr>\n",
       "    <tr>\n",
       "      <td>34</td>\n",
       "      <td>if</td>\n",
       "      <td>5</td>\n",
       "    </tr>\n",
       "    <tr>\n",
       "      <td>35</td>\n",
       "      <td>who</td>\n",
       "      <td>5</td>\n",
       "    </tr>\n",
       "    <tr>\n",
       "      <td>36</td>\n",
       "      <td>not</td>\n",
       "      <td>5</td>\n",
       "    </tr>\n",
       "    <tr>\n",
       "      <td>37</td>\n",
       "      <td>systems</td>\n",
       "      <td>4</td>\n",
       "    </tr>\n",
       "    <tr>\n",
       "      <td>38</td>\n",
       "      <td>digital</td>\n",
       "      <td>4</td>\n",
       "    </tr>\n",
       "    <tr>\n",
       "      <td>39</td>\n",
       "      <td>can</td>\n",
       "      <td>4</td>\n",
       "    </tr>\n",
       "    <tr>\n",
       "      <td>40</td>\n",
       "      <td>new</td>\n",
       "      <td>4</td>\n",
       "    </tr>\n",
       "    <tr>\n",
       "      <td>41</td>\n",
       "      <td>from</td>\n",
       "      <td>4</td>\n",
       "    </tr>\n",
       "    <tr>\n",
       "      <td>42</td>\n",
       "      <td>rstat</td>\n",
       "      <td>4</td>\n",
       "    </tr>\n",
       "    <tr>\n",
       "      <td>43</td>\n",
       "      <td>cloud</td>\n",
       "      <td>4</td>\n",
       "    </tr>\n",
       "    <tr>\n",
       "      <td>44</td>\n",
       "      <td>case</td>\n",
       "      <td>4</td>\n",
       "    </tr>\n",
       "    <tr>\n",
       "      <td>45</td>\n",
       "      <td>business</td>\n",
       "      <td>4</td>\n",
       "    </tr>\n",
       "    <tr>\n",
       "      <td>46</td>\n",
       "      <td>they</td>\n",
       "      <td>4</td>\n",
       "    </tr>\n",
       "    <tr>\n",
       "      <td>47</td>\n",
       "      <td>we</td>\n",
       "      <td>4</td>\n",
       "    </tr>\n",
       "    <tr>\n",
       "      <td>48</td>\n",
       "      <td>rearchitecting</td>\n",
       "      <td>4</td>\n",
       "    </tr>\n",
       "    <tr>\n",
       "      <td>49</td>\n",
       "      <td>that</td>\n",
       "      <td>4</td>\n",
       "    </tr>\n",
       "  </tbody>\n",
       "</table>\n",
       "</div>"
      ],
      "text/plain": [
       "               word  count\n",
       "0                rt     44\n",
       "1                co     37\n",
       "2             https     37\n",
       "3            python     24\n",
       "4              data     21\n",
       "5               and     19\n",
       "6           bigdata     18\n",
       "7                ai     18\n",
       "8               the     16\n",
       "9                to     16\n",
       "10        analytics     15\n",
       "11      gp_pulipaka     14\n",
       "12              iot     14\n",
       "13      datascience     13\n",
       "14  machinelearning     13\n",
       "15              big     12\n",
       "16             iiot     12\n",
       "17              you     11\n",
       "18               of     10\n",
       "19              for      9\n",
       "20               it      9\n",
       "21           rstats      8\n",
       "22             with      8\n",
       "23              how      7\n",
       "24               is      6\n",
       "25          pytorch      6\n",
       "26              are      6\n",
       "27      coronavirus      6\n",
       "28               in      6\n",
       "29            china      5\n",
       "30               by      5\n",
       "31               on      5\n",
       "32             have      5\n",
       "33             will      5\n",
       "34               if      5\n",
       "35              who      5\n",
       "36              not      5\n",
       "37          systems      4\n",
       "38          digital      4\n",
       "39              can      4\n",
       "40              new      4\n",
       "41             from      4\n",
       "42            rstat      4\n",
       "43            cloud      4\n",
       "44             case      4\n",
       "45         business      4\n",
       "46             they      4\n",
       "47               we      4\n",
       "48   rearchitecting      4\n",
       "49             that      4"
      ]
     },
     "execution_count": 39,
     "metadata": {},
     "output_type": "execute_result"
    }
   ],
   "source": [
    "# contando o número de ocorrencias das principais palavras em nosso dataset\n",
    "# get_features_names(), pegar caracteristica nome\n",
    "# tolist, converte para lista\n",
    "# grava todos os dados e exibe na tela word_count[:50]\n",
    "\n",
    "word_count = pd.DataFrame(cv.get_feature_names(), columns=['word'])\n",
    "word_count['count'] = count_matrix.sum(axis=0).tolist()[0]\n",
    "word_count = word_count.sort_values('count', ascending=False).reset_index(drop=True)\n",
    "word_count[:50]"
   ]
  },
  {
   "cell_type": "markdown",
   "metadata": {},
   "source": [
    "## Fim"
   ]
  }
 ],
 "metadata": {
  "kernelspec": {
   "display_name": "Python 3",
   "language": "python",
   "name": "python3"
  },
  "language_info": {
   "codemirror_mode": {
    "name": "ipython",
    "version": 3
   },
   "file_extension": ".py",
   "mimetype": "text/x-python",
   "name": "python",
   "nbconvert_exporter": "python",
   "pygments_lexer": "ipython3",
   "version": "3.7.4"
  }
 },
 "nbformat": 4,
 "nbformat_minor": 2
}
