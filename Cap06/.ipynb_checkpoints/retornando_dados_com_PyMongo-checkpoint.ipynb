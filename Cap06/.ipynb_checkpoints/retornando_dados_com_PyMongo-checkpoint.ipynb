{
 "cells": [
  {
   "cell_type": "markdown",
   "metadata": {},
   "source": [
    "## Retornado dados com PyMongo"
   ]
  },
  {
   "cell_type": "code",
   "execution_count": 2,
   "metadata": {},
   "outputs": [],
   "source": [
    "# importando módulo pymongo\n",
    "import pymongo"
   ]
  },
  {
   "cell_type": "code",
   "execution_count": 4,
   "metadata": {},
   "outputs": [],
   "source": [
    "# criando conexão com o MongoDB (neste caso conexão padrão)\n",
    "# quando você passa nada como parametro o mongoDB\n",
    "# usa localhost, 27017\n",
    "client_conn = pymongo.MongoClient()"
   ]
  },
  {
   "cell_type": "code",
   "execution_count": 6,
   "metadata": {},
   "outputs": [
    {
     "data": {
      "text/plain": [
       "['admin', 'cadastrodb', 'config', 'local']"
      ]
     },
     "execution_count": 6,
     "metadata": {},
     "output_type": "execute_result"
    }
   ],
   "source": [
    "# listando os bancos de dados disponiveis\n",
    "client_conn.list_database_names()"
   ]
  },
  {
   "cell_type": "code",
   "execution_count": 7,
   "metadata": {},
   "outputs": [],
   "source": [
    "# definindo objeto db\n",
    "# pbjeto que vai permitir conectar ao nosso banco de dados de interesse\n",
    "db = client_conn.cadastrodb"
   ]
  },
  {
   "cell_type": "code",
   "execution_count": 9,
   "metadata": {},
   "outputs": [
    {
     "data": {
      "text/plain": [
       "['posts']"
      ]
     },
     "execution_count": 9,
     "metadata": {},
     "output_type": "execute_result"
    }
   ],
   "source": [
    "# listando as coleções disponíveis no db\n",
    "# objeto cadastrodb criado anteriormente\n",
    "db.list_collection_names()"
   ]
  },
  {
   "cell_type": "code",
   "execution_count": 10,
   "metadata": {},
   "outputs": [
    {
     "data": {
      "text/plain": [
       "Collection(Database(MongoClient(host=['localhost:27017'], document_class=dict, tz_aware=False, connect=True), 'cadastrodb'), 'mycollection')"
      ]
     },
     "execution_count": 10,
     "metadata": {},
     "output_type": "execute_result"
    }
   ],
   "source": [
    "# criando uma nova collection, tabela\n",
    "db.create_collection('mycollection')"
   ]
  },
  {
   "cell_type": "code",
   "execution_count": 11,
   "metadata": {},
   "outputs": [
    {
     "data": {
      "text/plain": [
       "['mycollection', 'posts']"
      ]
     },
     "execution_count": 11,
     "metadata": {},
     "output_type": "execute_result"
    }
   ],
   "source": [
    "# listando collection\n",
    "db.list_collection_names()"
   ]
  },
  {
   "cell_type": "code",
   "execution_count": 12,
   "metadata": {},
   "outputs": [
    {
     "data": {
      "text/plain": [
       "<pymongo.results.InsertOneResult at 0x22908425c88>"
      ]
     },
     "execution_count": 12,
     "metadata": {},
     "output_type": "execute_result"
    }
   ],
   "source": [
    "# inserindo documento na collection\n",
    "# db banco de dados\n",
    "# mycollection, coleção tabela\n",
    "# função insert_one\n",
    "# dicionário é o documento em formato JSON\n",
    "db.mycollection.insert_one({\n",
    "    'titulo': 'MongoDB com Python',\n",
    "    'descricao': 'MongoDB é um Banco de Dados NoSql',\n",
    "    'by': 'Data Science Academy',\n",
    "    'url': 'http://w.w.w.datascienceacademy.com.br',\n",
    "    'tags': ['mongosdb', 'database', 'NoSql'],\n",
    "    'likes': 100\n",
    "})"
   ]
  },
  {
   "cell_type": "code",
   "execution_count": 13,
   "metadata": {},
   "outputs": [
    {
     "data": {
      "text/plain": [
       "{'_id': ObjectId('5e72363ab41bc1e89646562b'),\n",
       " 'titulo': 'MongoDB com Python',\n",
       " 'descricao': 'MongoDB é um Banco de Dados NoSql',\n",
       " 'by': 'Data Science Academy',\n",
       " 'url': 'http://w.w.w.datascienceacademy.com.br',\n",
       " 'tags': ['mongosdb', 'database', 'NoSql'],\n",
       " 'likes': 100}"
      ]
     },
     "execution_count": 13,
     "metadata": {},
     "output_type": "execute_result"
    }
   ],
   "source": [
    "# retornando documento criado\n",
    "# o proprio mongoDB cria o objeto _id\n",
    "db.mycollection.find_one()"
   ]
  },
  {
   "cell_type": "code",
   "execution_count": 15,
   "metadata": {},
   "outputs": [],
   "source": [
    "# preparando um documento\n",
    "# um dicionário\n",
    "doc1 = {'nome': 'Donald', 'sobrenome': 'Trump', 'twiter': '@POTUS'}"
   ]
  },
  {
   "cell_type": "code",
   "execution_count": 16,
   "metadata": {},
   "outputs": [
    {
     "data": {
      "text/plain": [
       "<pymongo.results.InsertOneResult at 0x22909102b08>"
      ]
     },
     "execution_count": 16,
     "metadata": {},
     "output_type": "execute_result"
    }
   ],
   "source": [
    "# inserindo o documento\n",
    "db.mycollection.insert_one(doc1)"
   ]
  },
  {
   "cell_type": "code",
   "execution_count": 18,
   "metadata": {},
   "outputs": [],
   "source": [
    "# preparando document 2\n",
    "doc2 = {'site': 'http://w.w.w.datascienceacademy.com.br',\n",
    "       'facebook': 'facebook.com/dsaacademybr'}"
   ]
  },
  {
   "cell_type": "code",
   "execution_count": 19,
   "metadata": {},
   "outputs": [
    {
     "data": {
      "text/plain": [
       "<pymongo.results.InsertOneResult at 0x22905e67b08>"
      ]
     },
     "execution_count": 19,
     "metadata": {},
     "output_type": "execute_result"
    }
   ],
   "source": [
    "# inserindo document 2\n",
    "db.mycollection.insert_one(doc2)"
   ]
  },
  {
   "cell_type": "code",
   "execution_count": 20,
   "metadata": {},
   "outputs": [
    {
     "name": "stdout",
     "output_type": "stream",
     "text": [
      "{'_id': ObjectId('5e72363ab41bc1e89646562b'), 'titulo': 'MongoDB com Python', 'descricao': 'MongoDB é um Banco de Dados NoSql', 'by': 'Data Science Academy', 'url': 'http://w.w.w.datascienceacademy.com.br', 'tags': ['mongosdb', 'database', 'NoSql'], 'likes': 100}\n",
      "{'_id': ObjectId('5e723801b41bc1e89646562c'), 'nome': 'Donald', 'sobrenome': 'Trump', 'twiter': '@POTUS'}\n",
      "{'_id': ObjectId('5e72391eb41bc1e89646562d'), 'site': 'http://w.w.w.datascienceacademy.com.br', 'facebook': 'facebook.com/dsaacademybr'}\n"
     ]
    }
   ],
   "source": [
    "# retornando os documents de uma collection\n",
    "for rec in db.mycollection.find():\n",
    "    print(rec)"
   ]
  },
  {
   "cell_type": "code",
   "execution_count": 21,
   "metadata": {},
   "outputs": [],
   "source": [
    "# conectando a uma coleção\n",
    "col = db['mycollection']"
   ]
  },
  {
   "cell_type": "code",
   "execution_count": 22,
   "metadata": {},
   "outputs": [
    {
     "name": "stdout",
     "output_type": "stream",
     "text": [
      "<class 'pymongo.collection.Collection'>\n"
     ]
    }
   ],
   "source": [
    "# tipo do objeto col\n",
    "print(type(col))"
   ]
  },
  {
   "cell_type": "code",
   "execution_count": 25,
   "metadata": {},
   "outputs": [
    {
     "data": {
      "text/plain": [
       "3"
      ]
     },
     "execution_count": 25,
     "metadata": {},
     "output_type": "execute_result"
    }
   ],
   "source": [
    "# contando documentos de uma coleção\n",
    "col.estimated_document_count()"
   ]
  },
  {
   "cell_type": "code",
   "execution_count": 26,
   "metadata": {},
   "outputs": [],
   "source": [
    "# encontrando um único documento\n",
    "redoc = col.find_one()"
   ]
  },
  {
   "cell_type": "code",
   "execution_count": 27,
   "metadata": {},
   "outputs": [
    {
     "data": {
      "text/plain": [
       "{'_id': ObjectId('5e72363ab41bc1e89646562b'),\n",
       " 'titulo': 'MongoDB com Python',\n",
       " 'descricao': 'MongoDB é um Banco de Dados NoSql',\n",
       " 'by': 'Data Science Academy',\n",
       " 'url': 'http://w.w.w.datascienceacademy.com.br',\n",
       " 'tags': ['mongosdb', 'database', 'NoSql'],\n",
       " 'likes': 100}"
      ]
     },
     "execution_count": 27,
     "metadata": {},
     "output_type": "execute_result"
    }
   ],
   "source": [
    "redoc"
   ]
  },
  {
   "cell_type": "markdown",
   "metadata": {},
   "source": [
    "## Uma vez que você gravou um documento no mongoDB este documento é gravado em um formato JSON quando se recupera este documento ele é retornado em um objeto dicionário."
   ]
  },
  {
   "cell_type": "markdown",
   "metadata": {},
   "source": [
    "## Fim"
   ]
  }
 ],
 "metadata": {
  "kernelspec": {
   "display_name": "Python 3",
   "language": "python",
   "name": "python3"
  },
  "language_info": {
   "codemirror_mode": {
    "name": "ipython",
    "version": 3
   },
   "file_extension": ".py",
   "mimetype": "text/x-python",
   "name": "python",
   "nbconvert_exporter": "python",
   "pygments_lexer": "ipython3",
   "version": "3.7.4"
  }
 },
 "nbformat": 4,
 "nbformat_minor": 2
}
