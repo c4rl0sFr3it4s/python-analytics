{
 "cells": [
  {
   "cell_type": "markdown",
   "metadata": {},
   "source": [
    "## Criando Banco de Dados e inserindo Dados"
   ]
  },
  {
   "cell_type": "code",
   "execution_count": 2,
   "metadata": {},
   "outputs": [],
   "source": [
    "# importando pacotes os, sqlite3\n",
    "import os\n",
    "import sqlite3\n",
    "\n",
    "# Remover o arquivo com o banco de dados SQLite (caso existe)\n",
    "os.remove('dsa.db') if os.path.exists('dsa.bd') else None"
   ]
  },
  {
   "cell_type": "code",
   "execution_count": 3,
   "metadata": {},
   "outputs": [],
   "source": [
    "# criando uma conexao\n",
    "conn = sqlite3.connect('dsa.db')\n",
    "\n",
    "# criando um cursor\n",
    "cur = conn.cursor()\n",
    "\n",
    "# funçao para criar uma tabela\n",
    "def create_table():\n",
    "    cur.execute('CREATE TABLE IF NOT EXISTS produtos(id INTEGER PRIMARY KEY AUTOINCREMENT NOT NULL,'\\\n",
    "              'date TEXT,'\\\n",
    "              'prod_name TEXT,'\\\n",
    "              'valor REAL)')\n",
    "    \n",
    "# função para inserir uma linha\n",
    "# atenção na clausula insert into está em \"\", para distinguir string \n",
    "def data_insert():\n",
    "    cur.execute(\"INSERT INTO produtos VALUES(10, '2018-05-02 14:32:11', 'Teclado', 90)\")\n",
    "    conn.commit()"
   ]
  },
  {
   "cell_type": "code",
   "execution_count": 4,
   "metadata": {},
   "outputs": [],
   "source": [
    "# chamando a função create_table\n",
    "create_table()"
   ]
  },
  {
   "cell_type": "code",
   "execution_count": 5,
   "metadata": {},
   "outputs": [],
   "source": [
    "# chamando a funcão data_insert\n",
    "data_insert()"
   ]
  },
  {
   "cell_type": "code",
   "execution_count": 8,
   "metadata": {},
   "outputs": [],
   "source": [
    "# criando função seletora\n",
    "def data_select():\n",
    "    cur.execute('SELECT id, date, prod_name, valor FROM produtos')\n",
    "    recset = cur.fetchall()\n",
    "    return recset\n",
    "\n",
    "# mostrar\n",
    "def data_imprim(recset):\n",
    "    for row in recset:\n",
    "        print('Produtos\\nId: %s, Data: %s, Nome: %s, Valor: %s' % row)"
   ]
  },
  {
   "cell_type": "code",
   "execution_count": 10,
   "metadata": {},
   "outputs": [],
   "source": [
    "# chamando a função select\n",
    "recset = data_select()"
   ]
  },
  {
   "cell_type": "code",
   "execution_count": 11,
   "metadata": {},
   "outputs": [
    {
     "name": "stdout",
     "output_type": "stream",
     "text": [
      "Produtos\n",
      "Id: 10, Data: 2018-05-02 14:32:11, Nome: Teclado, Valor: 90.0\n"
     ]
    }
   ],
   "source": [
    "# imprimindo recset\n",
    "data_imprim(recset)"
   ]
  },
  {
   "cell_type": "code",
   "execution_count": 13,
   "metadata": {},
   "outputs": [],
   "source": [
    "# fechando cursor\n",
    "# fechando conexão\n",
    "def close():\n",
    "    cur.close()\n",
    "    conn.close()"
   ]
  },
  {
   "cell_type": "code",
   "execution_count": 14,
   "metadata": {},
   "outputs": [],
   "source": [
    "# chamando a função de close\n",
    "close()"
   ]
  },
  {
   "cell_type": "markdown",
   "metadata": {},
   "source": [
    "## Fim"
   ]
  }
 ],
 "metadata": {
  "kernelspec": {
   "display_name": "Python 3",
   "language": "python",
   "name": "python3"
  },
  "language_info": {
   "codemirror_mode": {
    "name": "ipython",
    "version": 3
   },
   "file_extension": ".py",
   "mimetype": "text/x-python",
   "name": "python",
   "nbconvert_exporter": "python",
   "pygments_lexer": "ipython3",
   "version": "3.7.4"
  }
 },
 "nbformat": 4,
 "nbformat_minor": 2
}
