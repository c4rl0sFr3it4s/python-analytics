{
 "cells": [
  {
   "cell_type": "markdown",
   "metadata": {},
   "source": [
    "## Dicionário"
   ]
  },
  {
   "cell_type": "code",
   "execution_count": 1,
   "metadata": {},
   "outputs": [],
   "source": [
    "# comparando diferença\n",
    "lista = [1, 'Maria', 80, 'Giovane Gulart']"
   ]
  },
  {
   "cell_type": "code",
   "execution_count": 2,
   "metadata": {},
   "outputs": [
    {
     "name": "stdout",
     "output_type": "stream",
     "text": [
      "[1, 'Maria', 80, 'Giovane Gulart']\n"
     ]
    }
   ],
   "source": [
    "# imprimindo a lista \n",
    "print(lista)"
   ]
  },
  {
   "cell_type": "code",
   "execution_count": 8,
   "metadata": {},
   "outputs": [],
   "source": [
    "# este é um dicionário, key: value, tanto a chave quanto o valor quem escolhe é o programador\n",
    "dicionario = {'numero': 1, 'nome': 'Maria', 'Idade': 80, 'Endereco': 'Giovane Gulart'}"
   ]
  },
  {
   "cell_type": "code",
   "execution_count": 9,
   "metadata": {},
   "outputs": [
    {
     "name": "stdout",
     "output_type": "stream",
     "text": [
      "{'numero': 1, 'nome': 'Maria', 'Idade': 80, 'Endereco': 'Giovane Gulart'}\n"
     ]
    }
   ],
   "source": [
    "# imprimindo dicionário, os : pontos mostra que temos um mapeamento\n",
    "print(dicionario)"
   ]
  },
  {
   "cell_type": "code",
   "execution_count": 14,
   "metadata": {},
   "outputs": [
    {
     "name": "stdout",
     "output_type": "stream",
     "text": [
      "1\n"
     ]
    }
   ],
   "source": [
    "# acessando o dicionario pela key, para mostra o valor\n",
    "print(dicionario['numero'])"
   ]
  },
  {
   "cell_type": "code",
   "execution_count": 15,
   "metadata": {},
   "outputs": [
    {
     "name": "stdout",
     "output_type": "stream",
     "text": [
      "Maria\n"
     ]
    }
   ],
   "source": [
    "# acessando o dicionário pela key, para mostrar o valor\n",
    "print(dicionario['nome'])"
   ]
  },
  {
   "cell_type": "code",
   "execution_count": 18,
   "metadata": {},
   "outputs": [
    {
     "name": "stdout",
     "output_type": "stream",
     "text": [
      "100\n"
     ]
    }
   ],
   "source": [
    "# alterando o valor da chave\n",
    "dicionario['Idade'] = 100\n",
    "# imprimindo o novo valor da key\n",
    "print(dicionario['Idade'])"
   ]
  },
  {
   "cell_type": "code",
   "execution_count": 19,
   "metadata": {},
   "outputs": [],
   "source": [
    "dicionario['numero'] = 2"
   ]
  },
  {
   "cell_type": "code",
   "execution_count": 20,
   "metadata": {},
   "outputs": [
    {
     "name": "stdout",
     "output_type": "stream",
     "text": [
      "{'numero': 2, 'nome': 'Maria', 'Idade': 100, 'Endereco': 'Giovane Gulart'}\n"
     ]
    }
   ],
   "source": [
    "print(dicionario)"
   ]
  },
  {
   "cell_type": "code",
   "execution_count": 21,
   "metadata": {},
   "outputs": [],
   "source": [
    "# limpando o dicionário\n",
    "dicionario.clear()"
   ]
  },
  {
   "cell_type": "code",
   "execution_count": 22,
   "metadata": {},
   "outputs": [
    {
     "name": "stdout",
     "output_type": "stream",
     "text": [
      "{}\n"
     ]
    }
   ],
   "source": [
    "# imprimindo dicionário\n",
    "print(dicionario)"
   ]
  },
  {
   "cell_type": "code",
   "execution_count": 23,
   "metadata": {},
   "outputs": [],
   "source": [
    "# deletando o dicionário\n",
    "del dicionario"
   ]
  },
  {
   "cell_type": "code",
   "execution_count": 24,
   "metadata": {},
   "outputs": [
    {
     "ename": "NameError",
     "evalue": "name 'dicionario' is not defined",
     "output_type": "error",
     "traceback": [
      "\u001b[1;31m---------------------------------------------------------------------------\u001b[0m",
      "\u001b[1;31mNameError\u001b[0m                                 Traceback (most recent call last)",
      "\u001b[1;32m<ipython-input-24-2328a997f09f>\u001b[0m in \u001b[0;36m<module>\u001b[1;34m\u001b[0m\n\u001b[1;32m----> 1\u001b[1;33m \u001b[0mprint\u001b[0m\u001b[1;33m(\u001b[0m\u001b[0mdicionario\u001b[0m\u001b[1;33m)\u001b[0m\u001b[1;33m\u001b[0m\u001b[1;33m\u001b[0m\u001b[0m\n\u001b[0m",
      "\u001b[1;31mNameError\u001b[0m: name 'dicionario' is not defined"
     ]
    }
   ],
   "source": [
    "# dicionário não existe\n",
    "print(dicionario)"
   ]
  },
  {
   "cell_type": "code",
   "execution_count": 25,
   "metadata": {},
   "outputs": [],
   "source": [
    "# criando um novo dicionário\n",
    "pessoas = {'Maria': 13, 'Joao': 25, 'Carlos': 39}"
   ]
  },
  {
   "cell_type": "code",
   "execution_count": 38,
   "metadata": {},
   "outputs": [
    {
     "name": "stdout",
     "output_type": "stream",
     "text": [
      "6\n"
     ]
    }
   ],
   "source": [
    "# mostrando o tamanho do dicionário\n",
    "print(len(pessoas))"
   ]
  },
  {
   "cell_type": "code",
   "execution_count": 26,
   "metadata": {},
   "outputs": [
    {
     "name": "stdout",
     "output_type": "stream",
     "text": [
      "{'Maria': 13, 'Joao': 25, 'Carlos': 39}\n"
     ]
    }
   ],
   "source": [
    "# imprimindo o dicionário\n",
    "print(pessoas)"
   ]
  },
  {
   "cell_type": "code",
   "execution_count": 28,
   "metadata": {},
   "outputs": [
    {
     "name": "stdout",
     "output_type": "stream",
     "text": [
      "dict_keys(['Maria', 'Joao', 'Carlos'])\n"
     ]
    }
   ],
   "source": [
    "# extraindo as keys\n",
    "print(pessoas.keys())"
   ]
  },
  {
   "cell_type": "code",
   "execution_count": 29,
   "metadata": {},
   "outputs": [
    {
     "name": "stdout",
     "output_type": "stream",
     "text": [
      "dict_values([13, 25, 39])\n"
     ]
    }
   ],
   "source": [
    "# extraindo os valores\n",
    "print(pessoas.values())"
   ]
  },
  {
   "cell_type": "code",
   "execution_count": 40,
   "metadata": {},
   "outputs": [
    {
     "name": "stdout",
     "output_type": "stream",
     "text": [
      "dict_items([('Maria', 13), ('Joao', 25), ('Carlos', 39), ('Milton', 13), ('Marcos', 19), ('Kleber', 23)])\n"
     ]
    }
   ],
   "source": [
    "# extraindo as keys e os value\n",
    "print(pessoas.items())"
   ]
  },
  {
   "cell_type": "code",
   "execution_count": 41,
   "metadata": {},
   "outputs": [
    {
     "name": "stdout",
     "output_type": "stream",
     "text": [
      "keys=> Maria, Values=> 13\n",
      "keys=> Joao, Values=> 25\n",
      "keys=> Carlos, Values=> 39\n",
      "keys=> Milton, Values=> 13\n",
      "keys=> Marcos, Values=> 19\n",
      "keys=> Kleber, Values=> 23\n"
     ]
    }
   ],
   "source": [
    "# interagindo com key e value\n",
    "for k, v in pessoas.items():\n",
    "    print(f'keys=> {k}, Values=> {v}')"
   ]
  },
  {
   "cell_type": "code",
   "execution_count": 33,
   "metadata": {},
   "outputs": [],
   "source": [
    "# criando outro dicionário\n",
    "pessoas02 = {'Milton': 13, 'Marcos': 19, 'Kleber': 23}"
   ]
  },
  {
   "cell_type": "code",
   "execution_count": 35,
   "metadata": {},
   "outputs": [],
   "source": [
    "# atualizando os dicionários\n",
    "pessoas.update(pessoas02)"
   ]
  },
  {
   "cell_type": "code",
   "execution_count": 36,
   "metadata": {},
   "outputs": [
    {
     "name": "stdout",
     "output_type": "stream",
     "text": [
      "{'Maria': 13, 'Joao': 25, 'Carlos': 39, 'Milton': 13, 'Marcos': 19, 'Kleber': 23}\n"
     ]
    }
   ],
   "source": [
    "# imprimindo pessoas\n",
    "print(pessoas)"
   ]
  },
  {
   "cell_type": "code",
   "execution_count": 39,
   "metadata": {},
   "outputs": [
    {
     "name": "stdout",
     "output_type": "stream",
     "text": [
      "6\n"
     ]
    }
   ],
   "source": [
    "# tamanho do dicionário\n",
    "print(len(pessoas))"
   ]
  },
  {
   "cell_type": "markdown",
   "metadata": {},
   "source": [
    "## Dicionário vazio"
   ]
  },
  {
   "cell_type": "code",
   "execution_count": 42,
   "metadata": {},
   "outputs": [],
   "source": [
    "dicionario = dict()"
   ]
  },
  {
   "cell_type": "code",
   "execution_count": 44,
   "metadata": {},
   "outputs": [
    {
     "name": "stdout",
     "output_type": "stream",
     "text": [
      "{}\n"
     ]
    }
   ],
   "source": [
    "# imprimindo o dicionário\n",
    "print(dicionario)"
   ]
  },
  {
   "cell_type": "code",
   "execution_count": 45,
   "metadata": {},
   "outputs": [],
   "source": [
    "# adicionando elementos no dicionário\n",
    "dicionario['George'] = 60"
   ]
  },
  {
   "cell_type": "code",
   "execution_count": 46,
   "metadata": {},
   "outputs": [
    {
     "name": "stdout",
     "output_type": "stream",
     "text": [
      "{'George': 60}\n"
     ]
    }
   ],
   "source": [
    "print(dicionario)"
   ]
  },
  {
   "cell_type": "code",
   "execution_count": 47,
   "metadata": {},
   "outputs": [],
   "source": [
    "# adicionando valor ao dicionário\n",
    "dicionario[10] = 5"
   ]
  },
  {
   "cell_type": "code",
   "execution_count": 49,
   "metadata": {},
   "outputs": [
    {
     "name": "stdout",
     "output_type": "stream",
     "text": [
      "{'George': 60, 10: 5}\n"
     ]
    }
   ],
   "source": [
    "# imprimindo dicionário temos 2 combinações de valores com tipo de dados diferentes// \n",
    "print(dicionario)"
   ]
  },
  {
   "cell_type": "code",
   "execution_count": 50,
   "metadata": {},
   "outputs": [],
   "source": [
    "# adicionando valor real\n",
    "dicionario[1.5] = 'Python'"
   ]
  },
  {
   "cell_type": "code",
   "execution_count": 52,
   "metadata": {},
   "outputs": [
    {
     "name": "stdout",
     "output_type": "stream",
     "text": [
      "{'George': 60, 10: 5, 1.5: 'Python'}\n"
     ]
    }
   ],
   "source": [
    "# imprimindo mudando para valor númerico como chave\n",
    "print(dicionario)"
   ]
  },
  {
   "cell_type": "code",
   "execution_count": 53,
   "metadata": {},
   "outputs": [],
   "source": [
    "# criando outro dicionário\n",
    "dicionario03 = dict()"
   ]
  },
  {
   "cell_type": "code",
   "execution_count": 55,
   "metadata": {},
   "outputs": [],
   "source": [
    "# inserindo key string, value int\n",
    "dicionario03['idade'] = 39"
   ]
  },
  {
   "cell_type": "code",
   "execution_count": 56,
   "metadata": {},
   "outputs": [
    {
     "name": "stdout",
     "output_type": "stream",
     "text": [
      "{'idade': 39}\n"
     ]
    }
   ],
   "source": [
    "# imprimindo este valor\n",
    "print(dicionario03)"
   ]
  },
  {
   "cell_type": "code",
   "execution_count": 57,
   "metadata": {},
   "outputs": [],
   "source": [
    "# inserindo chave com inteiro e valor string\n",
    "dicionario03[1] = 'Id'"
   ]
  },
  {
   "cell_type": "code",
   "execution_count": 58,
   "metadata": {},
   "outputs": [
    {
     "name": "stdout",
     "output_type": "stream",
     "text": [
      "{'idade': 39, 1: 'Id'}\n"
     ]
    }
   ],
   "source": [
    "# imprimindo\n",
    "print(dicionario03)"
   ]
  },
  {
   "cell_type": "code",
   "execution_count": 71,
   "metadata": {},
   "outputs": [
    {
     "name": "stdout",
     "output_type": "stream",
     "text": [
      "Idade 39, 1 = Id\n"
     ]
    }
   ],
   "source": [
    "# extraindo valor de cada uma das chaves e atribuir na variável\n",
    "idade = dicionario03['idade']\n",
    "id = dicionario03[1] # extraindo valor inteiro\n",
    "print(f'Idade {idade}, 1 = {id}')"
   ]
  },
  {
   "cell_type": "markdown",
   "metadata": {},
   "source": [
    "## Dicionário de listas"
   ]
  },
  {
   "cell_type": "code",
   "execution_count": 73,
   "metadata": {},
   "outputs": [],
   "source": [
    "# estrutura de dados dicionário com listas\n",
    "dicionario_aninhado = {'key1': 3230, 'key2': [22, 453, 74.3], 'key3': ['leite', 'maça', 'banana']}"
   ]
  },
  {
   "cell_type": "code",
   "execution_count": 74,
   "metadata": {},
   "outputs": [
    {
     "name": "stdout",
     "output_type": "stream",
     "text": [
      "{'key1': 3230, 'key2': [22, 453, 74.3], 'key3': ['leite', 'maça', 'banana']}\n"
     ]
    }
   ],
   "source": [
    "print(dicionario_aninhado)"
   ]
  },
  {
   "cell_type": "code",
   "execution_count": 78,
   "metadata": {},
   "outputs": [
    {
     "name": "stdout",
     "output_type": "stream",
     "text": [
      "3230\n"
     ]
    }
   ],
   "source": [
    "# slace linha[0]\n",
    "print(dicionario_aninhado['key1'])"
   ]
  },
  {
   "cell_type": "code",
   "execution_count": 79,
   "metadata": {},
   "outputs": [
    {
     "name": "stdout",
     "output_type": "stream",
     "text": [
      "[22, 453, 74.3]\n"
     ]
    }
   ],
   "source": [
    "# slace linha[1]\n",
    "print(dicionario_aninhado['key2'])"
   ]
  },
  {
   "cell_type": "code",
   "execution_count": 89,
   "metadata": {},
   "outputs": [],
   "source": [
    "# slace linha[1] e coluna[0] atribuindo ao index e somando 22\n",
    "dicionario_aninhado['key2'][0] += 22"
   ]
  },
  {
   "cell_type": "code",
   "execution_count": 90,
   "metadata": {},
   "outputs": [
    {
     "name": "stdout",
     "output_type": "stream",
     "text": [
      "{'key1': 3230, 'key2': [44, 453, 74.3], 'key3': ['leite', 'maça', 'banana']}\n"
     ]
    }
   ],
   "source": [
    "# imprimindo o dicionario e o chave key2: valor 22 foi alterado\n",
    "print(dicionario_aninhado)"
   ]
  },
  {
   "cell_type": "code",
   "execution_count": 81,
   "metadata": {},
   "outputs": [
    {
     "name": "stdout",
     "output_type": "stream",
     "text": [
      "453\n"
     ]
    }
   ],
   "source": [
    "# slace linha[1] e coluna[1]\n",
    "print(dicionario_aninhado['key2'][1])"
   ]
  },
  {
   "cell_type": "code",
   "execution_count": 82,
   "metadata": {},
   "outputs": [
    {
     "name": "stdout",
     "output_type": "stream",
     "text": [
      "74.3\n"
     ]
    }
   ],
   "source": [
    "# slace linha[1] e coluna[2]\n",
    "print(dicionario_aninhado['key2'][2])"
   ]
  },
  {
   "cell_type": "code",
   "execution_count": 85,
   "metadata": {},
   "outputs": [
    {
     "name": "stdout",
     "output_type": "stream",
     "text": [
      "A variável é MAÇA\n"
     ]
    }
   ],
   "source": [
    "# armazenando um item em variável em caixa alta\n",
    "maca = dicionario_aninhado['key3'][1].upper()\n",
    "print(f'A variável é {maca}')"
   ]
  },
  {
   "cell_type": "markdown",
   "metadata": {},
   "source": [
    "## Dicionários aninhados"
   ]
  },
  {
   "cell_type": "code",
   "execution_count": 99,
   "metadata": {},
   "outputs": [],
   "source": [
    "# dicionario aninhado\n",
    "dict_aninhado = {'key1':{'key2':{'key3':'Este dicionário está aninhado.'}}}"
   ]
  },
  {
   "cell_type": "code",
   "execution_count": 100,
   "metadata": {},
   "outputs": [
    {
     "name": "stdout",
     "output_type": "stream",
     "text": [
      "{'key1': {'key2': {'key3': 'Este dicionário está aninhado.'}}}\n"
     ]
    }
   ],
   "source": [
    "# imprimindo dicionário aninhado\n",
    "print(dict_aninhado)"
   ]
  },
  {
   "cell_type": "code",
   "execution_count": 103,
   "metadata": {},
   "outputs": [
    {
     "name": "stdout",
     "output_type": "stream",
     "text": [
      "Este dicionário está aninhado.\n"
     ]
    }
   ],
   "source": [
    "# precisamos fazer slice em todas as key para obter um resultado\n",
    "print(dict_aninhado['key1']['key2']['key3'])"
   ]
  },
  {
   "cell_type": "code",
   "execution_count": null,
   "metadata": {},
   "outputs": [],
   "source": []
  }
 ],
 "metadata": {
  "kernelspec": {
   "display_name": "Python 3",
   "language": "python",
   "name": "python3"
  },
  "language_info": {
   "codemirror_mode": {
    "name": "ipython",
    "version": 3
   },
   "file_extension": ".py",
   "mimetype": "text/x-python",
   "name": "python",
   "nbconvert_exporter": "python",
   "pygments_lexer": "ipython3",
   "version": "3.7.4"
  }
 },
 "nbformat": 4,
 "nbformat_minor": 4
}
